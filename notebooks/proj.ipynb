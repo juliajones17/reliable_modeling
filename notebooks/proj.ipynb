{
  "cells": [
    {
      "cell_type": "markdown",
      "id": "fd95b73f-b863-4e27-9d8b-1110b5c6ca53",
      "metadata": {
        "id": "fd95b73f-b863-4e27-9d8b-1110b5c6ca53"
      },
      "source": [
        "# PPProjecct"
      ]
    },
    {
      "cell_type": "code",
      "source": [
        "!pip install probaforms -U"
      ],
      "metadata": {
        "id": "VPrq73-HfisS",
        "colab": {
          "base_uri": "https://localhost:8080/"
        },
        "outputId": "d3b50438-b930-4758-8135-0abeea49e946"
      },
      "id": "VPrq73-HfisS",
      "execution_count": 1,
      "outputs": [
        {
          "output_type": "stream",
          "name": "stdout",
          "text": [
            "Collecting probaforms\n",
            "  Downloading probaforms-0.2.0-py3-none-any.whl (16 kB)\n",
            "Requirement already satisfied: matplotlib<4.0.0,>=3.5.1 in /usr/local/lib/python3.10/dist-packages (from probaforms) (3.7.1)\n",
            "Requirement already satisfied: numpy<2.0.0,>=1.22.1 in /usr/local/lib/python3.10/dist-packages (from probaforms) (1.23.5)\n",
            "Requirement already satisfied: pandas<2.0.0,>=1.4.2 in /usr/local/lib/python3.10/dist-packages (from probaforms) (1.5.3)\n",
            "Requirement already satisfied: scikit-learn<2.0.0,>=1.0.2 in /usr/local/lib/python3.10/dist-packages (from probaforms) (1.2.2)\n",
            "Collecting torch<2.0.0,>=1.11.0 (from probaforms)\n",
            "  Downloading torch-1.13.1-cp310-cp310-manylinux1_x86_64.whl (887.5 MB)\n",
            "\u001b[2K     \u001b[90m━━━━━━━━━━━━━━━━━━━━━━━━━━━━━━━━━━━━━━━━\u001b[0m \u001b[32m887.5/887.5 MB\u001b[0m \u001b[31m564.3 kB/s\u001b[0m eta \u001b[36m0:00:00\u001b[0m\n",
            "\u001b[?25hRequirement already satisfied: tqdm<5.0.0,>=4.64.0 in /usr/local/lib/python3.10/dist-packages (from probaforms) (4.66.1)\n",
            "Requirement already satisfied: contourpy>=1.0.1 in /usr/local/lib/python3.10/dist-packages (from matplotlib<4.0.0,>=3.5.1->probaforms) (1.2.0)\n",
            "Requirement already satisfied: cycler>=0.10 in /usr/local/lib/python3.10/dist-packages (from matplotlib<4.0.0,>=3.5.1->probaforms) (0.12.1)\n",
            "Requirement already satisfied: fonttools>=4.22.0 in /usr/local/lib/python3.10/dist-packages (from matplotlib<4.0.0,>=3.5.1->probaforms) (4.47.2)\n",
            "Requirement already satisfied: kiwisolver>=1.0.1 in /usr/local/lib/python3.10/dist-packages (from matplotlib<4.0.0,>=3.5.1->probaforms) (1.4.5)\n",
            "Requirement already satisfied: packaging>=20.0 in /usr/local/lib/python3.10/dist-packages (from matplotlib<4.0.0,>=3.5.1->probaforms) (23.2)\n",
            "Requirement already satisfied: pillow>=6.2.0 in /usr/local/lib/python3.10/dist-packages (from matplotlib<4.0.0,>=3.5.1->probaforms) (9.4.0)\n",
            "Requirement already satisfied: pyparsing>=2.3.1 in /usr/local/lib/python3.10/dist-packages (from matplotlib<4.0.0,>=3.5.1->probaforms) (3.1.1)\n",
            "Requirement already satisfied: python-dateutil>=2.7 in /usr/local/lib/python3.10/dist-packages (from matplotlib<4.0.0,>=3.5.1->probaforms) (2.8.2)\n",
            "Requirement already satisfied: pytz>=2020.1 in /usr/local/lib/python3.10/dist-packages (from pandas<2.0.0,>=1.4.2->probaforms) (2023.3.post1)\n",
            "Requirement already satisfied: scipy>=1.3.2 in /usr/local/lib/python3.10/dist-packages (from scikit-learn<2.0.0,>=1.0.2->probaforms) (1.11.4)\n",
            "Requirement already satisfied: joblib>=1.1.1 in /usr/local/lib/python3.10/dist-packages (from scikit-learn<2.0.0,>=1.0.2->probaforms) (1.3.2)\n",
            "Requirement already satisfied: threadpoolctl>=2.0.0 in /usr/local/lib/python3.10/dist-packages (from scikit-learn<2.0.0,>=1.0.2->probaforms) (3.2.0)\n",
            "Requirement already satisfied: typing-extensions in /usr/local/lib/python3.10/dist-packages (from torch<2.0.0,>=1.11.0->probaforms) (4.5.0)\n",
            "Collecting nvidia-cuda-runtime-cu11==11.7.99 (from torch<2.0.0,>=1.11.0->probaforms)\n",
            "  Downloading nvidia_cuda_runtime_cu11-11.7.99-py3-none-manylinux1_x86_64.whl (849 kB)\n",
            "\u001b[2K     \u001b[90m━━━━━━━━━━━━━━━━━━━━━━━━━━━━━━━━━━━━━━━━\u001b[0m \u001b[32m849.3/849.3 kB\u001b[0m \u001b[31m56.1 MB/s\u001b[0m eta \u001b[36m0:00:00\u001b[0m\n",
            "\u001b[?25hCollecting nvidia-cudnn-cu11==8.5.0.96 (from torch<2.0.0,>=1.11.0->probaforms)\n",
            "  Downloading nvidia_cudnn_cu11-8.5.0.96-2-py3-none-manylinux1_x86_64.whl (557.1 MB)\n",
            "\u001b[2K     \u001b[90m━━━━━━━━━━━━━━━━━━━━━━━━━━━━━━━━━━━━━━━━\u001b[0m \u001b[32m557.1/557.1 MB\u001b[0m \u001b[31m2.1 MB/s\u001b[0m eta \u001b[36m0:00:00\u001b[0m\n",
            "\u001b[?25hCollecting nvidia-cublas-cu11==11.10.3.66 (from torch<2.0.0,>=1.11.0->probaforms)\n",
            "  Downloading nvidia_cublas_cu11-11.10.3.66-py3-none-manylinux1_x86_64.whl (317.1 MB)\n",
            "\u001b[2K     \u001b[90m━━━━━━━━━━━━━━━━━━━━━━━━━━━━━━━━━━━━━━━━\u001b[0m \u001b[32m317.1/317.1 MB\u001b[0m \u001b[31m1.7 MB/s\u001b[0m eta \u001b[36m0:00:00\u001b[0m\n",
            "\u001b[?25hCollecting nvidia-cuda-nvrtc-cu11==11.7.99 (from torch<2.0.0,>=1.11.0->probaforms)\n",
            "  Downloading nvidia_cuda_nvrtc_cu11-11.7.99-2-py3-none-manylinux1_x86_64.whl (21.0 MB)\n",
            "\u001b[2K     \u001b[90m━━━━━━━━━━━━━━━━━━━━━━━━━━━━━━━━━━━━━━━━\u001b[0m \u001b[32m21.0/21.0 MB\u001b[0m \u001b[31m3.1 MB/s\u001b[0m eta \u001b[36m0:00:00\u001b[0m\n",
            "\u001b[?25hRequirement already satisfied: setuptools in /usr/local/lib/python3.10/dist-packages (from nvidia-cublas-cu11==11.10.3.66->torch<2.0.0,>=1.11.0->probaforms) (67.7.2)\n",
            "Requirement already satisfied: wheel in /usr/local/lib/python3.10/dist-packages (from nvidia-cublas-cu11==11.10.3.66->torch<2.0.0,>=1.11.0->probaforms) (0.42.0)\n",
            "Requirement already satisfied: six>=1.5 in /usr/local/lib/python3.10/dist-packages (from python-dateutil>=2.7->matplotlib<4.0.0,>=3.5.1->probaforms) (1.16.0)\n",
            "Installing collected packages: nvidia-cuda-runtime-cu11, nvidia-cuda-nvrtc-cu11, nvidia-cublas-cu11, nvidia-cudnn-cu11, torch, probaforms\n",
            "  Attempting uninstall: torch\n",
            "    Found existing installation: torch 2.1.0+cu121\n",
            "    Uninstalling torch-2.1.0+cu121:\n",
            "      Successfully uninstalled torch-2.1.0+cu121\n",
            "\u001b[31mERROR: pip's dependency resolver does not currently take into account all the packages that are installed. This behaviour is the source of the following dependency conflicts.\n",
            "torchaudio 2.1.0+cu121 requires torch==2.1.0, but you have torch 1.13.1 which is incompatible.\n",
            "torchdata 0.7.0 requires torch==2.1.0, but you have torch 1.13.1 which is incompatible.\n",
            "torchtext 0.16.0 requires torch==2.1.0, but you have torch 1.13.1 which is incompatible.\n",
            "torchvision 0.16.0+cu121 requires torch==2.1.0, but you have torch 1.13.1 which is incompatible.\u001b[0m\u001b[31m\n",
            "\u001b[0mSuccessfully installed nvidia-cublas-cu11-11.10.3.66 nvidia-cuda-nvrtc-cu11-11.7.99 nvidia-cuda-runtime-cu11-11.7.99 nvidia-cudnn-cu11-8.5.0.96 probaforms-0.2.0 torch-1.13.1\n"
          ]
        }
      ]
    },
    {
      "cell_type": "markdown",
      "id": "e3de7c62-a3f5-4bca-ae02-e7f982bb63ae",
      "metadata": {
        "id": "e3de7c62-a3f5-4bca-ae02-e7f982bb63ae"
      },
      "source": [
        "## Data"
      ]
    },
    {
      "cell_type": "code",
      "execution_count": 2,
      "id": "8e353c33-f32c-4fd6-942a-2fb1a078a505",
      "metadata": {
        "id": "8e353c33-f32c-4fd6-942a-2fb1a078a505"
      },
      "outputs": [],
      "source": [
        "import pandas as pd\n",
        "import numpy as np\n",
        "import torch\n",
        "import matplotlib.pyplot as plt"
      ]
    },
    {
      "cell_type": "code",
      "execution_count": 3,
      "id": "ad5843a8-f7ae-4afe-a8b3-85afb3acfd8b",
      "metadata": {
        "tags": [],
        "colab": {
          "base_uri": "https://localhost:8080/",
          "height": 486
        },
        "id": "ad5843a8-f7ae-4afe-a8b3-85afb3acfd8b",
        "outputId": "c7d3d7dc-05fc-4992-a350-04e784121d26"
      },
      "outputs": [
        {
          "output_type": "execute_result",
          "data": {
            "text/plain": [
              "     iops        lat  block_size  n_jobs  iodepth  read_fraction load_type  \\\n",
              "0  712511  386627.74           8      46        6            100    random   \n",
              "1  709311  388112.33           8      46        6            100    random   \n",
              "2  712464  386384.72           8      46        6            100    random   \n",
              "3  711226  387053.72           8      46        6            100    random   \n",
              "4  710919  387191.78           8      46        6            100    random   \n",
              "\n",
              "  io_type raid  n_disks device_type  offset                         id  \n",
              "0    read  4+1       24        nvme       0  hse-09142022-013313-z3769  \n",
              "1    read  4+1       24        nvme       0  hse-09142022-013313-z3769  \n",
              "2    read  4+1       24        nvme       0  hse-09142022-013313-z3769  \n",
              "3    read  4+1       24        nvme       0  hse-09142022-013313-z3769  \n",
              "4    read  4+1       24        nvme       0  hse-09142022-013313-z3769  "
            ],
            "text/html": [
              "\n",
              "  <div id=\"df-b7e6e573-5745-4dd6-8a66-f524e36bb49f\" class=\"colab-df-container\">\n",
              "    <div>\n",
              "<style scoped>\n",
              "    .dataframe tbody tr th:only-of-type {\n",
              "        vertical-align: middle;\n",
              "    }\n",
              "\n",
              "    .dataframe tbody tr th {\n",
              "        vertical-align: top;\n",
              "    }\n",
              "\n",
              "    .dataframe thead th {\n",
              "        text-align: right;\n",
              "    }\n",
              "</style>\n",
              "<table border=\"1\" class=\"dataframe\">\n",
              "  <thead>\n",
              "    <tr style=\"text-align: right;\">\n",
              "      <th></th>\n",
              "      <th>iops</th>\n",
              "      <th>lat</th>\n",
              "      <th>block_size</th>\n",
              "      <th>n_jobs</th>\n",
              "      <th>iodepth</th>\n",
              "      <th>read_fraction</th>\n",
              "      <th>load_type</th>\n",
              "      <th>io_type</th>\n",
              "      <th>raid</th>\n",
              "      <th>n_disks</th>\n",
              "      <th>device_type</th>\n",
              "      <th>offset</th>\n",
              "      <th>id</th>\n",
              "    </tr>\n",
              "  </thead>\n",
              "  <tbody>\n",
              "    <tr>\n",
              "      <th>0</th>\n",
              "      <td>712511</td>\n",
              "      <td>386627.74</td>\n",
              "      <td>8</td>\n",
              "      <td>46</td>\n",
              "      <td>6</td>\n",
              "      <td>100</td>\n",
              "      <td>random</td>\n",
              "      <td>read</td>\n",
              "      <td>4+1</td>\n",
              "      <td>24</td>\n",
              "      <td>nvme</td>\n",
              "      <td>0</td>\n",
              "      <td>hse-09142022-013313-z3769</td>\n",
              "    </tr>\n",
              "    <tr>\n",
              "      <th>1</th>\n",
              "      <td>709311</td>\n",
              "      <td>388112.33</td>\n",
              "      <td>8</td>\n",
              "      <td>46</td>\n",
              "      <td>6</td>\n",
              "      <td>100</td>\n",
              "      <td>random</td>\n",
              "      <td>read</td>\n",
              "      <td>4+1</td>\n",
              "      <td>24</td>\n",
              "      <td>nvme</td>\n",
              "      <td>0</td>\n",
              "      <td>hse-09142022-013313-z3769</td>\n",
              "    </tr>\n",
              "    <tr>\n",
              "      <th>2</th>\n",
              "      <td>712464</td>\n",
              "      <td>386384.72</td>\n",
              "      <td>8</td>\n",
              "      <td>46</td>\n",
              "      <td>6</td>\n",
              "      <td>100</td>\n",
              "      <td>random</td>\n",
              "      <td>read</td>\n",
              "      <td>4+1</td>\n",
              "      <td>24</td>\n",
              "      <td>nvme</td>\n",
              "      <td>0</td>\n",
              "      <td>hse-09142022-013313-z3769</td>\n",
              "    </tr>\n",
              "    <tr>\n",
              "      <th>3</th>\n",
              "      <td>711226</td>\n",
              "      <td>387053.72</td>\n",
              "      <td>8</td>\n",
              "      <td>46</td>\n",
              "      <td>6</td>\n",
              "      <td>100</td>\n",
              "      <td>random</td>\n",
              "      <td>read</td>\n",
              "      <td>4+1</td>\n",
              "      <td>24</td>\n",
              "      <td>nvme</td>\n",
              "      <td>0</td>\n",
              "      <td>hse-09142022-013313-z3769</td>\n",
              "    </tr>\n",
              "    <tr>\n",
              "      <th>4</th>\n",
              "      <td>710919</td>\n",
              "      <td>387191.78</td>\n",
              "      <td>8</td>\n",
              "      <td>46</td>\n",
              "      <td>6</td>\n",
              "      <td>100</td>\n",
              "      <td>random</td>\n",
              "      <td>read</td>\n",
              "      <td>4+1</td>\n",
              "      <td>24</td>\n",
              "      <td>nvme</td>\n",
              "      <td>0</td>\n",
              "      <td>hse-09142022-013313-z3769</td>\n",
              "    </tr>\n",
              "  </tbody>\n",
              "</table>\n",
              "</div>\n",
              "    <div class=\"colab-df-buttons\">\n",
              "\n",
              "  <div class=\"colab-df-container\">\n",
              "    <button class=\"colab-df-convert\" onclick=\"convertToInteractive('df-b7e6e573-5745-4dd6-8a66-f524e36bb49f')\"\n",
              "            title=\"Convert this dataframe to an interactive table.\"\n",
              "            style=\"display:none;\">\n",
              "\n",
              "  <svg xmlns=\"http://www.w3.org/2000/svg\" height=\"24px\" viewBox=\"0 -960 960 960\">\n",
              "    <path d=\"M120-120v-720h720v720H120Zm60-500h600v-160H180v160Zm220 220h160v-160H400v160Zm0 220h160v-160H400v160ZM180-400h160v-160H180v160Zm440 0h160v-160H620v160ZM180-180h160v-160H180v160Zm440 0h160v-160H620v160Z\"/>\n",
              "  </svg>\n",
              "    </button>\n",
              "\n",
              "  <style>\n",
              "    .colab-df-container {\n",
              "      display:flex;\n",
              "      gap: 12px;\n",
              "    }\n",
              "\n",
              "    .colab-df-convert {\n",
              "      background-color: #E8F0FE;\n",
              "      border: none;\n",
              "      border-radius: 50%;\n",
              "      cursor: pointer;\n",
              "      display: none;\n",
              "      fill: #1967D2;\n",
              "      height: 32px;\n",
              "      padding: 0 0 0 0;\n",
              "      width: 32px;\n",
              "    }\n",
              "\n",
              "    .colab-df-convert:hover {\n",
              "      background-color: #E2EBFA;\n",
              "      box-shadow: 0px 1px 2px rgba(60, 64, 67, 0.3), 0px 1px 3px 1px rgba(60, 64, 67, 0.15);\n",
              "      fill: #174EA6;\n",
              "    }\n",
              "\n",
              "    .colab-df-buttons div {\n",
              "      margin-bottom: 4px;\n",
              "    }\n",
              "\n",
              "    [theme=dark] .colab-df-convert {\n",
              "      background-color: #3B4455;\n",
              "      fill: #D2E3FC;\n",
              "    }\n",
              "\n",
              "    [theme=dark] .colab-df-convert:hover {\n",
              "      background-color: #434B5C;\n",
              "      box-shadow: 0px 1px 3px 1px rgba(0, 0, 0, 0.15);\n",
              "      filter: drop-shadow(0px 1px 2px rgba(0, 0, 0, 0.3));\n",
              "      fill: #FFFFFF;\n",
              "    }\n",
              "  </style>\n",
              "\n",
              "    <script>\n",
              "      const buttonEl =\n",
              "        document.querySelector('#df-b7e6e573-5745-4dd6-8a66-f524e36bb49f button.colab-df-convert');\n",
              "      buttonEl.style.display =\n",
              "        google.colab.kernel.accessAllowed ? 'block' : 'none';\n",
              "\n",
              "      async function convertToInteractive(key) {\n",
              "        const element = document.querySelector('#df-b7e6e573-5745-4dd6-8a66-f524e36bb49f');\n",
              "        const dataTable =\n",
              "          await google.colab.kernel.invokeFunction('convertToInteractive',\n",
              "                                                    [key], {});\n",
              "        if (!dataTable) return;\n",
              "\n",
              "        const docLinkHtml = 'Like what you see? Visit the ' +\n",
              "          '<a target=\"_blank\" href=https://colab.research.google.com/notebooks/data_table.ipynb>data table notebook</a>'\n",
              "          + ' to learn more about interactive tables.';\n",
              "        element.innerHTML = '';\n",
              "        dataTable['output_type'] = 'display_data';\n",
              "        await google.colab.output.renderOutput(dataTable, element);\n",
              "        const docLink = document.createElement('div');\n",
              "        docLink.innerHTML = docLinkHtml;\n",
              "        element.appendChild(docLink);\n",
              "      }\n",
              "    </script>\n",
              "  </div>\n",
              "\n",
              "\n",
              "<div id=\"df-4542eb5b-3155-4629-9e89-df01df83d55e\">\n",
              "  <button class=\"colab-df-quickchart\" onclick=\"quickchart('df-4542eb5b-3155-4629-9e89-df01df83d55e')\"\n",
              "            title=\"Suggest charts\"\n",
              "            style=\"display:none;\">\n",
              "\n",
              "<svg xmlns=\"http://www.w3.org/2000/svg\" height=\"24px\"viewBox=\"0 0 24 24\"\n",
              "     width=\"24px\">\n",
              "    <g>\n",
              "        <path d=\"M19 3H5c-1.1 0-2 .9-2 2v14c0 1.1.9 2 2 2h14c1.1 0 2-.9 2-2V5c0-1.1-.9-2-2-2zM9 17H7v-7h2v7zm4 0h-2V7h2v10zm4 0h-2v-4h2v4z\"/>\n",
              "    </g>\n",
              "</svg>\n",
              "  </button>\n",
              "\n",
              "<style>\n",
              "  .colab-df-quickchart {\n",
              "      --bg-color: #E8F0FE;\n",
              "      --fill-color: #1967D2;\n",
              "      --hover-bg-color: #E2EBFA;\n",
              "      --hover-fill-color: #174EA6;\n",
              "      --disabled-fill-color: #AAA;\n",
              "      --disabled-bg-color: #DDD;\n",
              "  }\n",
              "\n",
              "  [theme=dark] .colab-df-quickchart {\n",
              "      --bg-color: #3B4455;\n",
              "      --fill-color: #D2E3FC;\n",
              "      --hover-bg-color: #434B5C;\n",
              "      --hover-fill-color: #FFFFFF;\n",
              "      --disabled-bg-color: #3B4455;\n",
              "      --disabled-fill-color: #666;\n",
              "  }\n",
              "\n",
              "  .colab-df-quickchart {\n",
              "    background-color: var(--bg-color);\n",
              "    border: none;\n",
              "    border-radius: 50%;\n",
              "    cursor: pointer;\n",
              "    display: none;\n",
              "    fill: var(--fill-color);\n",
              "    height: 32px;\n",
              "    padding: 0;\n",
              "    width: 32px;\n",
              "  }\n",
              "\n",
              "  .colab-df-quickchart:hover {\n",
              "    background-color: var(--hover-bg-color);\n",
              "    box-shadow: 0 1px 2px rgba(60, 64, 67, 0.3), 0 1px 3px 1px rgba(60, 64, 67, 0.15);\n",
              "    fill: var(--button-hover-fill-color);\n",
              "  }\n",
              "\n",
              "  .colab-df-quickchart-complete:disabled,\n",
              "  .colab-df-quickchart-complete:disabled:hover {\n",
              "    background-color: var(--disabled-bg-color);\n",
              "    fill: var(--disabled-fill-color);\n",
              "    box-shadow: none;\n",
              "  }\n",
              "\n",
              "  .colab-df-spinner {\n",
              "    border: 2px solid var(--fill-color);\n",
              "    border-color: transparent;\n",
              "    border-bottom-color: var(--fill-color);\n",
              "    animation:\n",
              "      spin 1s steps(1) infinite;\n",
              "  }\n",
              "\n",
              "  @keyframes spin {\n",
              "    0% {\n",
              "      border-color: transparent;\n",
              "      border-bottom-color: var(--fill-color);\n",
              "      border-left-color: var(--fill-color);\n",
              "    }\n",
              "    20% {\n",
              "      border-color: transparent;\n",
              "      border-left-color: var(--fill-color);\n",
              "      border-top-color: var(--fill-color);\n",
              "    }\n",
              "    30% {\n",
              "      border-color: transparent;\n",
              "      border-left-color: var(--fill-color);\n",
              "      border-top-color: var(--fill-color);\n",
              "      border-right-color: var(--fill-color);\n",
              "    }\n",
              "    40% {\n",
              "      border-color: transparent;\n",
              "      border-right-color: var(--fill-color);\n",
              "      border-top-color: var(--fill-color);\n",
              "    }\n",
              "    60% {\n",
              "      border-color: transparent;\n",
              "      border-right-color: var(--fill-color);\n",
              "    }\n",
              "    80% {\n",
              "      border-color: transparent;\n",
              "      border-right-color: var(--fill-color);\n",
              "      border-bottom-color: var(--fill-color);\n",
              "    }\n",
              "    90% {\n",
              "      border-color: transparent;\n",
              "      border-bottom-color: var(--fill-color);\n",
              "    }\n",
              "  }\n",
              "</style>\n",
              "\n",
              "  <script>\n",
              "    async function quickchart(key) {\n",
              "      const quickchartButtonEl =\n",
              "        document.querySelector('#' + key + ' button');\n",
              "      quickchartButtonEl.disabled = true;  // To prevent multiple clicks.\n",
              "      quickchartButtonEl.classList.add('colab-df-spinner');\n",
              "      try {\n",
              "        const charts = await google.colab.kernel.invokeFunction(\n",
              "            'suggestCharts', [key], {});\n",
              "      } catch (error) {\n",
              "        console.error('Error during call to suggestCharts:', error);\n",
              "      }\n",
              "      quickchartButtonEl.classList.remove('colab-df-spinner');\n",
              "      quickchartButtonEl.classList.add('colab-df-quickchart-complete');\n",
              "    }\n",
              "    (() => {\n",
              "      let quickchartButtonEl =\n",
              "        document.querySelector('#df-4542eb5b-3155-4629-9e89-df01df83d55e button');\n",
              "      quickchartButtonEl.style.display =\n",
              "        google.colab.kernel.accessAllowed ? 'block' : 'none';\n",
              "    })();\n",
              "  </script>\n",
              "</div>\n",
              "    </div>\n",
              "  </div>\n"
            ]
          },
          "metadata": {},
          "execution_count": 3
        }
      ],
      "source": [
        "train = pd.read_csv('train_cache.csv')\n",
        "train.head()"
      ]
    },
    {
      "cell_type": "code",
      "execution_count": 4,
      "id": "a016e67b-7d49-4881-8c2b-5b8c87e470c4",
      "metadata": {
        "tags": [],
        "colab": {
          "base_uri": "https://localhost:8080/",
          "height": 486
        },
        "id": "a016e67b-7d49-4881-8c2b-5b8c87e470c4",
        "outputId": "8c81ac7a-3933-434d-b1bf-ede2b5ab8197"
      },
      "outputs": [
        {
          "output_type": "execute_result",
          "data": {
            "text/plain": [
              "    iops        lat  block_size  n_jobs  iodepth  read_fraction load_type  \\\n",
              "0  21483  613944.00         256       8        4             45    random   \n",
              "1  21354  610190.00         256       8        4             45    random   \n",
              "2  20883  613910.75         256       8        4             45    random   \n",
              "3  21493  610052.62         256       8        4             45    random   \n",
              "4  21473  606866.62         256       8        4             45    random   \n",
              "\n",
              "  io_type raid  n_disks device_type  offset                          id  \n",
              "0    read  4+1       24        nvme       0  hse-09132022-180712-z63065  \n",
              "1    read  4+1       24        nvme       0  hse-09132022-180712-z63065  \n",
              "2    read  4+1       24        nvme       0  hse-09132022-180712-z63065  \n",
              "3    read  4+1       24        nvme       0  hse-09132022-180712-z63065  \n",
              "4    read  4+1       24        nvme       0  hse-09132022-180712-z63065  "
            ],
            "text/html": [
              "\n",
              "  <div id=\"df-31e86f66-d212-4af0-8296-ac7077ff2d28\" class=\"colab-df-container\">\n",
              "    <div>\n",
              "<style scoped>\n",
              "    .dataframe tbody tr th:only-of-type {\n",
              "        vertical-align: middle;\n",
              "    }\n",
              "\n",
              "    .dataframe tbody tr th {\n",
              "        vertical-align: top;\n",
              "    }\n",
              "\n",
              "    .dataframe thead th {\n",
              "        text-align: right;\n",
              "    }\n",
              "</style>\n",
              "<table border=\"1\" class=\"dataframe\">\n",
              "  <thead>\n",
              "    <tr style=\"text-align: right;\">\n",
              "      <th></th>\n",
              "      <th>iops</th>\n",
              "      <th>lat</th>\n",
              "      <th>block_size</th>\n",
              "      <th>n_jobs</th>\n",
              "      <th>iodepth</th>\n",
              "      <th>read_fraction</th>\n",
              "      <th>load_type</th>\n",
              "      <th>io_type</th>\n",
              "      <th>raid</th>\n",
              "      <th>n_disks</th>\n",
              "      <th>device_type</th>\n",
              "      <th>offset</th>\n",
              "      <th>id</th>\n",
              "    </tr>\n",
              "  </thead>\n",
              "  <tbody>\n",
              "    <tr>\n",
              "      <th>0</th>\n",
              "      <td>21483</td>\n",
              "      <td>613944.00</td>\n",
              "      <td>256</td>\n",
              "      <td>8</td>\n",
              "      <td>4</td>\n",
              "      <td>45</td>\n",
              "      <td>random</td>\n",
              "      <td>read</td>\n",
              "      <td>4+1</td>\n",
              "      <td>24</td>\n",
              "      <td>nvme</td>\n",
              "      <td>0</td>\n",
              "      <td>hse-09132022-180712-z63065</td>\n",
              "    </tr>\n",
              "    <tr>\n",
              "      <th>1</th>\n",
              "      <td>21354</td>\n",
              "      <td>610190.00</td>\n",
              "      <td>256</td>\n",
              "      <td>8</td>\n",
              "      <td>4</td>\n",
              "      <td>45</td>\n",
              "      <td>random</td>\n",
              "      <td>read</td>\n",
              "      <td>4+1</td>\n",
              "      <td>24</td>\n",
              "      <td>nvme</td>\n",
              "      <td>0</td>\n",
              "      <td>hse-09132022-180712-z63065</td>\n",
              "    </tr>\n",
              "    <tr>\n",
              "      <th>2</th>\n",
              "      <td>20883</td>\n",
              "      <td>613910.75</td>\n",
              "      <td>256</td>\n",
              "      <td>8</td>\n",
              "      <td>4</td>\n",
              "      <td>45</td>\n",
              "      <td>random</td>\n",
              "      <td>read</td>\n",
              "      <td>4+1</td>\n",
              "      <td>24</td>\n",
              "      <td>nvme</td>\n",
              "      <td>0</td>\n",
              "      <td>hse-09132022-180712-z63065</td>\n",
              "    </tr>\n",
              "    <tr>\n",
              "      <th>3</th>\n",
              "      <td>21493</td>\n",
              "      <td>610052.62</td>\n",
              "      <td>256</td>\n",
              "      <td>8</td>\n",
              "      <td>4</td>\n",
              "      <td>45</td>\n",
              "      <td>random</td>\n",
              "      <td>read</td>\n",
              "      <td>4+1</td>\n",
              "      <td>24</td>\n",
              "      <td>nvme</td>\n",
              "      <td>0</td>\n",
              "      <td>hse-09132022-180712-z63065</td>\n",
              "    </tr>\n",
              "    <tr>\n",
              "      <th>4</th>\n",
              "      <td>21473</td>\n",
              "      <td>606866.62</td>\n",
              "      <td>256</td>\n",
              "      <td>8</td>\n",
              "      <td>4</td>\n",
              "      <td>45</td>\n",
              "      <td>random</td>\n",
              "      <td>read</td>\n",
              "      <td>4+1</td>\n",
              "      <td>24</td>\n",
              "      <td>nvme</td>\n",
              "      <td>0</td>\n",
              "      <td>hse-09132022-180712-z63065</td>\n",
              "    </tr>\n",
              "  </tbody>\n",
              "</table>\n",
              "</div>\n",
              "    <div class=\"colab-df-buttons\">\n",
              "\n",
              "  <div class=\"colab-df-container\">\n",
              "    <button class=\"colab-df-convert\" onclick=\"convertToInteractive('df-31e86f66-d212-4af0-8296-ac7077ff2d28')\"\n",
              "            title=\"Convert this dataframe to an interactive table.\"\n",
              "            style=\"display:none;\">\n",
              "\n",
              "  <svg xmlns=\"http://www.w3.org/2000/svg\" height=\"24px\" viewBox=\"0 -960 960 960\">\n",
              "    <path d=\"M120-120v-720h720v720H120Zm60-500h600v-160H180v160Zm220 220h160v-160H400v160Zm0 220h160v-160H400v160ZM180-400h160v-160H180v160Zm440 0h160v-160H620v160ZM180-180h160v-160H180v160Zm440 0h160v-160H620v160Z\"/>\n",
              "  </svg>\n",
              "    </button>\n",
              "\n",
              "  <style>\n",
              "    .colab-df-container {\n",
              "      display:flex;\n",
              "      gap: 12px;\n",
              "    }\n",
              "\n",
              "    .colab-df-convert {\n",
              "      background-color: #E8F0FE;\n",
              "      border: none;\n",
              "      border-radius: 50%;\n",
              "      cursor: pointer;\n",
              "      display: none;\n",
              "      fill: #1967D2;\n",
              "      height: 32px;\n",
              "      padding: 0 0 0 0;\n",
              "      width: 32px;\n",
              "    }\n",
              "\n",
              "    .colab-df-convert:hover {\n",
              "      background-color: #E2EBFA;\n",
              "      box-shadow: 0px 1px 2px rgba(60, 64, 67, 0.3), 0px 1px 3px 1px rgba(60, 64, 67, 0.15);\n",
              "      fill: #174EA6;\n",
              "    }\n",
              "\n",
              "    .colab-df-buttons div {\n",
              "      margin-bottom: 4px;\n",
              "    }\n",
              "\n",
              "    [theme=dark] .colab-df-convert {\n",
              "      background-color: #3B4455;\n",
              "      fill: #D2E3FC;\n",
              "    }\n",
              "\n",
              "    [theme=dark] .colab-df-convert:hover {\n",
              "      background-color: #434B5C;\n",
              "      box-shadow: 0px 1px 3px 1px rgba(0, 0, 0, 0.15);\n",
              "      filter: drop-shadow(0px 1px 2px rgba(0, 0, 0, 0.3));\n",
              "      fill: #FFFFFF;\n",
              "    }\n",
              "  </style>\n",
              "\n",
              "    <script>\n",
              "      const buttonEl =\n",
              "        document.querySelector('#df-31e86f66-d212-4af0-8296-ac7077ff2d28 button.colab-df-convert');\n",
              "      buttonEl.style.display =\n",
              "        google.colab.kernel.accessAllowed ? 'block' : 'none';\n",
              "\n",
              "      async function convertToInteractive(key) {\n",
              "        const element = document.querySelector('#df-31e86f66-d212-4af0-8296-ac7077ff2d28');\n",
              "        const dataTable =\n",
              "          await google.colab.kernel.invokeFunction('convertToInteractive',\n",
              "                                                    [key], {});\n",
              "        if (!dataTable) return;\n",
              "\n",
              "        const docLinkHtml = 'Like what you see? Visit the ' +\n",
              "          '<a target=\"_blank\" href=https://colab.research.google.com/notebooks/data_table.ipynb>data table notebook</a>'\n",
              "          + ' to learn more about interactive tables.';\n",
              "        element.innerHTML = '';\n",
              "        dataTable['output_type'] = 'display_data';\n",
              "        await google.colab.output.renderOutput(dataTable, element);\n",
              "        const docLink = document.createElement('div');\n",
              "        docLink.innerHTML = docLinkHtml;\n",
              "        element.appendChild(docLink);\n",
              "      }\n",
              "    </script>\n",
              "  </div>\n",
              "\n",
              "\n",
              "<div id=\"df-5e2c2a98-59ca-4945-bd85-6e1cbe062e45\">\n",
              "  <button class=\"colab-df-quickchart\" onclick=\"quickchart('df-5e2c2a98-59ca-4945-bd85-6e1cbe062e45')\"\n",
              "            title=\"Suggest charts\"\n",
              "            style=\"display:none;\">\n",
              "\n",
              "<svg xmlns=\"http://www.w3.org/2000/svg\" height=\"24px\"viewBox=\"0 0 24 24\"\n",
              "     width=\"24px\">\n",
              "    <g>\n",
              "        <path d=\"M19 3H5c-1.1 0-2 .9-2 2v14c0 1.1.9 2 2 2h14c1.1 0 2-.9 2-2V5c0-1.1-.9-2-2-2zM9 17H7v-7h2v7zm4 0h-2V7h2v10zm4 0h-2v-4h2v4z\"/>\n",
              "    </g>\n",
              "</svg>\n",
              "  </button>\n",
              "\n",
              "<style>\n",
              "  .colab-df-quickchart {\n",
              "      --bg-color: #E8F0FE;\n",
              "      --fill-color: #1967D2;\n",
              "      --hover-bg-color: #E2EBFA;\n",
              "      --hover-fill-color: #174EA6;\n",
              "      --disabled-fill-color: #AAA;\n",
              "      --disabled-bg-color: #DDD;\n",
              "  }\n",
              "\n",
              "  [theme=dark] .colab-df-quickchart {\n",
              "      --bg-color: #3B4455;\n",
              "      --fill-color: #D2E3FC;\n",
              "      --hover-bg-color: #434B5C;\n",
              "      --hover-fill-color: #FFFFFF;\n",
              "      --disabled-bg-color: #3B4455;\n",
              "      --disabled-fill-color: #666;\n",
              "  }\n",
              "\n",
              "  .colab-df-quickchart {\n",
              "    background-color: var(--bg-color);\n",
              "    border: none;\n",
              "    border-radius: 50%;\n",
              "    cursor: pointer;\n",
              "    display: none;\n",
              "    fill: var(--fill-color);\n",
              "    height: 32px;\n",
              "    padding: 0;\n",
              "    width: 32px;\n",
              "  }\n",
              "\n",
              "  .colab-df-quickchart:hover {\n",
              "    background-color: var(--hover-bg-color);\n",
              "    box-shadow: 0 1px 2px rgba(60, 64, 67, 0.3), 0 1px 3px 1px rgba(60, 64, 67, 0.15);\n",
              "    fill: var(--button-hover-fill-color);\n",
              "  }\n",
              "\n",
              "  .colab-df-quickchart-complete:disabled,\n",
              "  .colab-df-quickchart-complete:disabled:hover {\n",
              "    background-color: var(--disabled-bg-color);\n",
              "    fill: var(--disabled-fill-color);\n",
              "    box-shadow: none;\n",
              "  }\n",
              "\n",
              "  .colab-df-spinner {\n",
              "    border: 2px solid var(--fill-color);\n",
              "    border-color: transparent;\n",
              "    border-bottom-color: var(--fill-color);\n",
              "    animation:\n",
              "      spin 1s steps(1) infinite;\n",
              "  }\n",
              "\n",
              "  @keyframes spin {\n",
              "    0% {\n",
              "      border-color: transparent;\n",
              "      border-bottom-color: var(--fill-color);\n",
              "      border-left-color: var(--fill-color);\n",
              "    }\n",
              "    20% {\n",
              "      border-color: transparent;\n",
              "      border-left-color: var(--fill-color);\n",
              "      border-top-color: var(--fill-color);\n",
              "    }\n",
              "    30% {\n",
              "      border-color: transparent;\n",
              "      border-left-color: var(--fill-color);\n",
              "      border-top-color: var(--fill-color);\n",
              "      border-right-color: var(--fill-color);\n",
              "    }\n",
              "    40% {\n",
              "      border-color: transparent;\n",
              "      border-right-color: var(--fill-color);\n",
              "      border-top-color: var(--fill-color);\n",
              "    }\n",
              "    60% {\n",
              "      border-color: transparent;\n",
              "      border-right-color: var(--fill-color);\n",
              "    }\n",
              "    80% {\n",
              "      border-color: transparent;\n",
              "      border-right-color: var(--fill-color);\n",
              "      border-bottom-color: var(--fill-color);\n",
              "    }\n",
              "    90% {\n",
              "      border-color: transparent;\n",
              "      border-bottom-color: var(--fill-color);\n",
              "    }\n",
              "  }\n",
              "</style>\n",
              "\n",
              "  <script>\n",
              "    async function quickchart(key) {\n",
              "      const quickchartButtonEl =\n",
              "        document.querySelector('#' + key + ' button');\n",
              "      quickchartButtonEl.disabled = true;  // To prevent multiple clicks.\n",
              "      quickchartButtonEl.classList.add('colab-df-spinner');\n",
              "      try {\n",
              "        const charts = await google.colab.kernel.invokeFunction(\n",
              "            'suggestCharts', [key], {});\n",
              "      } catch (error) {\n",
              "        console.error('Error during call to suggestCharts:', error);\n",
              "      }\n",
              "      quickchartButtonEl.classList.remove('colab-df-spinner');\n",
              "      quickchartButtonEl.classList.add('colab-df-quickchart-complete');\n",
              "    }\n",
              "    (() => {\n",
              "      let quickchartButtonEl =\n",
              "        document.querySelector('#df-5e2c2a98-59ca-4945-bd85-6e1cbe062e45 button');\n",
              "      quickchartButtonEl.style.display =\n",
              "        google.colab.kernel.accessAllowed ? 'block' : 'none';\n",
              "    })();\n",
              "  </script>\n",
              "</div>\n",
              "    </div>\n",
              "  </div>\n"
            ]
          },
          "metadata": {},
          "execution_count": 4
        }
      ],
      "source": [
        "test = pd.read_csv('test_cache.csv')\n",
        "test.head()"
      ]
    },
    {
      "cell_type": "code",
      "execution_count": 5,
      "id": "b475e29e-f47c-41cf-aa02-0132e8302f21",
      "metadata": {
        "tags": [],
        "id": "b475e29e-f47c-41cf-aa02-0132e8302f21",
        "colab": {
          "base_uri": "https://localhost:8080/"
        },
        "outputId": "34601998-3e3c-435e-aefd-a685f28193b0"
      },
      "outputs": [
        {
          "output_type": "execute_result",
          "data": {
            "text/plain": [
              "array([  8,  16,  32,  64, 256,   4, 128])"
            ]
          },
          "metadata": {},
          "execution_count": 5
        }
      ],
      "source": [
        "pd.unique(train[['block_size']]. values.ravel())"
      ]
    },
    {
      "cell_type": "code",
      "execution_count": 6,
      "id": "4e89e300-4f3b-4ceb-9267-cd9454d71f47",
      "metadata": {
        "tags": [],
        "id": "4e89e300-4f3b-4ceb-9267-cd9454d71f47",
        "colab": {
          "base_uri": "https://localhost:8080/"
        },
        "outputId": "86eb986e-583d-4a8f-d98a-2cfc1cc5a683"
      },
      "outputs": [
        {
          "output_type": "execute_result",
          "data": {
            "text/plain": [
              "32"
            ]
          },
          "metadata": {},
          "execution_count": 6
        }
      ],
      "source": [
        "pd.unique(train[['n_jobs']]. values.ravel()).size"
      ]
    },
    {
      "cell_type": "code",
      "execution_count": 7,
      "id": "0ce7507e-3a06-4cd0-b52c-515708c0e119",
      "metadata": {
        "tags": [],
        "id": "0ce7507e-3a06-4cd0-b52c-515708c0e119",
        "colab": {
          "base_uri": "https://localhost:8080/"
        },
        "outputId": "5c188205-3f79-4f3d-9282-155c4c8f9cca"
      },
      "outputs": [
        {
          "output_type": "execute_result",
          "data": {
            "text/plain": [
              "16"
            ]
          },
          "metadata": {},
          "execution_count": 7
        }
      ],
      "source": [
        "pd.unique(train[['iodepth']]. values.ravel()).size"
      ]
    },
    {
      "cell_type": "code",
      "execution_count": 8,
      "id": "f2c441de-4cbb-4513-a8e0-c7eb4c5b6194",
      "metadata": {
        "tags": [],
        "id": "f2c441de-4cbb-4513-a8e0-c7eb4c5b6194",
        "colab": {
          "base_uri": "https://localhost:8080/"
        },
        "outputId": "a38f4687-ec6a-4fe0-cfd6-4b1c80e4e007"
      },
      "outputs": [
        {
          "output_type": "execute_result",
          "data": {
            "text/plain": [
              "101"
            ]
          },
          "metadata": {},
          "execution_count": 8
        }
      ],
      "source": [
        "pd.unique(train[['read_fraction']]. values.ravel()).size"
      ]
    },
    {
      "cell_type": "code",
      "execution_count": 9,
      "id": "7cf828b8-f617-4d96-8ad2-223faff29991",
      "metadata": {
        "tags": [],
        "id": "7cf828b8-f617-4d96-8ad2-223faff29991",
        "colab": {
          "base_uri": "https://localhost:8080/"
        },
        "outputId": "2c025a0a-4edb-4a7a-acea-c8ed59cc51cb"
      },
      "outputs": [
        {
          "output_type": "execute_result",
          "data": {
            "text/plain": [
              "array(['read', 'write'], dtype=object)"
            ]
          },
          "metadata": {},
          "execution_count": 9
        }
      ],
      "source": [
        "pd.unique(train[['io_type']]. values.ravel())"
      ]
    },
    {
      "cell_type": "code",
      "execution_count": 10,
      "id": "e8dde42d-49ad-4dce-b83a-4f4169c90232",
      "metadata": {
        "tags": [],
        "id": "e8dde42d-49ad-4dce-b83a-4f4169c90232",
        "colab": {
          "base_uri": "https://localhost:8080/"
        },
        "outputId": "cc64df6a-565c-4154-d3fd-23c1dcf76c30"
      },
      "outputs": [
        {
          "output_type": "execute_result",
          "data": {
            "text/plain": [
              "408"
            ]
          },
          "metadata": {},
          "execution_count": 10
        }
      ],
      "source": [
        "pd.unique(train[['id']]. values.ravel()).size"
      ]
    },
    {
      "cell_type": "code",
      "source": [
        "test['id'] = test['id'] + '-' + test['io_type']"
      ],
      "metadata": {
        "id": "OHdunFEDv8VF"
      },
      "id": "OHdunFEDv8VF",
      "execution_count": 11,
      "outputs": []
    },
    {
      "cell_type": "code",
      "execution_count": 12,
      "id": "182edd77-f54c-49fc-8fb2-dc3ceb46bd3d",
      "metadata": {
        "tags": [],
        "id": "182edd77-f54c-49fc-8fb2-dc3ceb46bd3d"
      },
      "outputs": [],
      "source": [
        "test['io_type_num'] = test['io_type'] == 'write'"
      ]
    },
    {
      "cell_type": "code",
      "execution_count": 13,
      "id": "d49c0abc-ea42-444e-8427-26413b93e627",
      "metadata": {
        "tags": [],
        "id": "d49c0abc-ea42-444e-8427-26413b93e627"
      },
      "outputs": [],
      "source": [
        "test.io_type_num = test.io_type_num.replace({ True : 1 , False : 0 })"
      ]
    },
    {
      "cell_type": "code",
      "execution_count": 14,
      "id": "e19a2946-772f-4644-b7e1-3806a081e978",
      "metadata": {
        "tags": [],
        "id": "e19a2946-772f-4644-b7e1-3806a081e978"
      },
      "outputs": [],
      "source": [
        "y_test = torch.tensor(test[['iops', 'lat']].values)"
      ]
    },
    {
      "cell_type": "code",
      "execution_count": 15,
      "id": "724ca342-e272-4c35-be79-ab451df93736",
      "metadata": {
        "tags": [],
        "id": "724ca342-e272-4c35-be79-ab451df93736"
      },
      "outputs": [],
      "source": [
        "X_test = torch.tensor(test[['block_size', 'n_jobs', 'iodepth', 'read_fraction', 'io_type_num', 'n_disks']].values)"
      ]
    },
    {
      "cell_type": "code",
      "source": [
        "print(len(y_test), len(X_test))"
      ],
      "metadata": {
        "colab": {
          "base_uri": "https://localhost:8080/"
        },
        "id": "le4_MyMoHAIk",
        "outputId": "c255d091-abb9-482b-efb4-f1f687346f30"
      },
      "id": "le4_MyMoHAIk",
      "execution_count": 16,
      "outputs": [
        {
          "output_type": "stream",
          "name": "stdout",
          "text": [
            "12120 12120\n"
          ]
        }
      ]
    },
    {
      "cell_type": "code",
      "source": [
        "train['id'] = train['id'] + '-' + train['io_type']"
      ],
      "metadata": {
        "id": "ejaY-UCrwLEo"
      },
      "id": "ejaY-UCrwLEo",
      "execution_count": 17,
      "outputs": []
    },
    {
      "cell_type": "code",
      "execution_count": 18,
      "id": "e2924df8-dbbe-4a62-9492-a2cade2eb33a",
      "metadata": {
        "tags": [],
        "id": "e2924df8-dbbe-4a62-9492-a2cade2eb33a"
      },
      "outputs": [],
      "source": [
        "train['io_type_num'] = train['io_type'] == 'write'"
      ]
    },
    {
      "cell_type": "code",
      "execution_count": 19,
      "id": "7d073c3f-ef0e-4ce8-9448-5feef8090105",
      "metadata": {
        "tags": [],
        "id": "7d073c3f-ef0e-4ce8-9448-5feef8090105"
      },
      "outputs": [],
      "source": [
        "train.io_type_num = train.io_type_num.replace({ True : 1 , False : 0 })"
      ]
    },
    {
      "cell_type": "code",
      "execution_count": 20,
      "id": "561bb5ee-9729-45ab-969e-941a7f086e13",
      "metadata": {
        "id": "561bb5ee-9729-45ab-969e-941a7f086e13"
      },
      "outputs": [],
      "source": [
        "y_tr = torch.tensor(train[['iops', 'lat']].values)"
      ]
    },
    {
      "cell_type": "code",
      "execution_count": 21,
      "id": "faa550f4-2399-46ad-9f63-24f6aad4f7e4",
      "metadata": {
        "tags": [],
        "id": "faa550f4-2399-46ad-9f63-24f6aad4f7e4"
      },
      "outputs": [],
      "source": [
        "X_tr = torch.tensor(train[['block_size', 'n_jobs', 'iodepth', 'read_fraction', 'io_type_num', 'n_disks']].values)"
      ]
    },
    {
      "cell_type": "code",
      "source": [
        "pd.unique(train[['id']]. values.ravel())"
      ],
      "metadata": {
        "colab": {
          "base_uri": "https://localhost:8080/"
        },
        "id": "Ovy42v9FBK6j",
        "outputId": "9e9b6358-2263-4f40-8266-0471f0961de6"
      },
      "id": "Ovy42v9FBK6j",
      "execution_count": 22,
      "outputs": [
        {
          "output_type": "execute_result",
          "data": {
            "text/plain": [
              "array(['hse-09142022-013313-z3769-read',\n",
              "       'hse-09132022-220621-z47654-read',\n",
              "       'hse-09132022-220621-z47654-write',\n",
              "       'hse-09132022-145656-z44664-read',\n",
              "       'hse-09132022-145656-z44664-write',\n",
              "       'hse-09132022-114106-z26207-read',\n",
              "       'hse-09132022-114106-z26207-write',\n",
              "       'hse-09132022-193036-z66798-read',\n",
              "       'hse-09132022-193036-z66798-write',\n",
              "       'hse-09132022-144055-z72468-read',\n",
              "       'hse-09132022-144055-z72468-write',\n",
              "       'hse-09132022-204254-z78794-read',\n",
              "       'hse-09132022-204254-z78794-write',\n",
              "       'hse-09132022-225919-z97534-read',\n",
              "       'hse-09132022-225919-z97534-write',\n",
              "       'hse-09132022-231343-z49201-read',\n",
              "       'hse-09132022-231343-z49201-write',\n",
              "       'hse-09142022-005311-z97289-read',\n",
              "       'hse-09142022-005311-z97289-write',\n",
              "       'hse-09132022-181650-z73563-read',\n",
              "       'hse-09132022-181650-z73563-write',\n",
              "       'hse-09132022-183252-z8604-read',\n",
              "       'hse-09132022-183252-z8604-write',\n",
              "       'hse-09132022-231207-z92374-read',\n",
              "       'hse-09132022-231207-z92374-write',\n",
              "       'hse-09132022-210523-z91787-read',\n",
              "       'hse-09132022-210523-z91787-write',\n",
              "       'hse-09132022-145031-z21537-read',\n",
              "       'hse-09132022-145031-z21537-write',\n",
              "       'hse-09132022-195307-z88210-read',\n",
              "       'hse-09132022-195307-z88210-write',\n",
              "       'hse-09142022-000503-z84476-read',\n",
              "       'hse-09142022-000503-z84476-write',\n",
              "       'hse-09132022-172217-z80006-read',\n",
              "       'hse-09132022-172217-z80006-write',\n",
              "       'hse-09132022-130133-z27886-read',\n",
              "       'hse-09132022-130133-z27886-write',\n",
              "       'hse-09132022-170736-z58015-read',\n",
              "       'hse-09132022-170736-z58015-write',\n",
              "       'hse-09132022-234059-z99737-read',\n",
              "       'hse-09132022-234059-z99737-write',\n",
              "       'hse-09132022-195934-z63000-read',\n",
              "       'hse-09132022-195934-z63000-write',\n",
              "       'hse-09132022-181513-z10480-read',\n",
              "       'hse-09132022-181513-z10480-write',\n",
              "       'hse-09132022-160459-z76290-read',\n",
              "       'hse-09132022-160459-z76290-write',\n",
              "       'hse-09132022-182137-z55504-read',\n",
              "       'hse-09132022-182137-z55504-write',\n",
              "       'hse-09132022-201045-z60525-read',\n",
              "       'hse-09132022-201045-z60525-write',\n",
              "       'hse-09132022-235701-z97487-read',\n",
              "       'hse-09132022-235701-z97487-write',\n",
              "       'hse-09132022-172705-z62658-read',\n",
              "       'hse-09132022-172705-z62658-write',\n",
              "       'hse-09132022-151132-z64314-read',\n",
              "       'hse-09132022-151132-z64314-write',\n",
              "       'hse-09132022-174617-z94515-read',\n",
              "       'hse-09132022-174617-z94515-write',\n",
              "       'hse-09132022-125957-z6896-read',\n",
              "       'hse-09132022-125957-z6896-write',\n",
              "       'hse-09142022-004153-z77732-read',\n",
              "       'hse-09142022-004153-z77732-write',\n",
              "       'hse-09132022-225118-z83489-read',\n",
              "       'hse-09132022-225118-z83489-write',\n",
              "       'hse-09132022-225430-z89166-read',\n",
              "       'hse-09132022-225430-z89166-write',\n",
              "       'hse-09132022-154713-z38029-read',\n",
              "       'hse-09132022-154713-z38029-write',\n",
              "       'hse-09132022-185517-z49054-read',\n",
              "       'hse-09132022-185517-z49054-write',\n",
              "       'hse-09132022-114913-z24821-read',\n",
              "       'hse-09132022-114913-z24821-write',\n",
              "       'hse-09132022-145520-z15948-read',\n",
              "       'hse-09132022-145520-z15948-write',\n",
              "       'hse-09142022-012649-z86065-read',\n",
              "       'hse-09142022-012649-z86065-write',\n",
              "       'hse-09142022-000815-z78434-read',\n",
              "       'hse-09142022-000815-z78434-write',\n",
              "       'hse-09142022-005447-z6648-read',\n",
              "       'hse-09142022-005447-z6648-write',\n",
              "       'hse-09132022-184717-z73935-read',\n",
              "       'hse-09132022-184717-z73935-write',\n",
              "       'hse-09142022-004330-z96260-read',\n",
              "       'hse-09142022-004330-z96260-write',\n",
              "       'hse-09142022-003216-z84808-read',\n",
              "       'hse-09142022-003216-z84808-write',\n",
              "       'hse-09132022-211638-z28979-read',\n",
              "       'hse-09132022-211638-z28979-write',\n",
              "       'hse-09132022-165933-z72120-read',\n",
              "       'hse-09132022-165933-z72120-write',\n",
              "       'hse-09132022-222852-z84012-read',\n",
              "       'hse-09132022-222852-z84012-write',\n",
              "       'hse-09132022-124529-z81457-read',\n",
              "       'hse-09132022-124529-z81457-write',\n",
              "       'hse-09142022-003352-z50579-read',\n",
              "       'hse-09142022-003352-z50579-write',\n",
              "       'hse-09132022-150636-z52352-read',\n",
              "       'hse-09132022-150636-z52352-write',\n",
              "       'hse-09132022-225607-z26566-read',\n",
              "       'hse-09132022-225607-z26566-write',\n",
              "       'hse-09132022-214351-z86363-read',\n",
              "       'hse-09132022-214351-z86363-write',\n",
              "       'hse-09132022-153423-z24407-read',\n",
              "       'hse-09132022-153423-z24407-write',\n",
              "       'hse-09142022-013449-z97869-read',\n",
              "       'hse-09132022-232809-z15477-read',\n",
              "       'hse-09132022-232809-z15477-write',\n",
              "       'hse-09132022-202510-z69934-read',\n",
              "       'hse-09132022-202510-z69934-write',\n",
              "       'hse-09132022-173017-z42872-read',\n",
              "       'hse-09132022-173017-z42872-write',\n",
              "       'hse-09132022-193842-z10238-read',\n",
              "       'hse-09132022-193842-z10238-write',\n",
              "       'hse-09132022-160636-z72704-read',\n",
              "       'hse-09132022-160636-z72704-write',\n",
              "       'hse-09142022-011537-z12482-read',\n",
              "       'hse-09142022-011537-z12482-write',\n",
              "       'hse-09132022-213416-z25255-read',\n",
              "       'hse-09132022-213416-z25255-write',\n",
              "       'hse-09132022-110720-z92579-read',\n",
              "       'hse-09132022-110720-z92579-write',\n",
              "       'hse-09132022-231519-z87176-read',\n",
              "       'hse-09132022-231519-z87176-write',\n",
              "       'hse-09132022-184404-z66771-read',\n",
              "       'hse-09132022-184404-z66771-write',\n",
              "       'hse-09132022-113439-z94103-read',\n",
              "       'hse-09132022-113439-z94103-write',\n",
              "       'hse-09132022-220132-z34961-read',\n",
              "       'hse-09132022-220132-z34961-write',\n",
              "       'hse-09132022-204606-z63276-read',\n",
              "       'hse-09132022-204606-z63276-write',\n",
              "       'hse-09132022-160147-z67295-read',\n",
              "       'hse-09132022-160147-z67295-write',\n",
              "       'hse-09132022-123241-z71180-read',\n",
              "       'hse-09132022-123241-z71180-write',\n",
              "       'hse-09132022-105837-z60346-read',\n",
              "       'hse-09132022-105837-z60346-write',\n",
              "       'hse-09132022-232320-z45660-read',\n",
              "       'hse-09132022-232320-z45660-write',\n",
              "       'hse-09132022-151313-z49871-read',\n",
              "       'hse-09132022-151313-z49871-write',\n",
              "       'hse-09132022-120344-z94785-read',\n",
              "       'hse-09132022-120344-z94785-write',\n",
              "       'hse-09132022-204920-z21719-read',\n",
              "       'hse-09132022-204920-z21719-write',\n",
              "       'hse-09132022-214839-z81011-read',\n",
              "       'hse-09132022-214839-z81011-write',\n",
              "       'hse-09132022-195130-z48721-read',\n",
              "       'hse-09132022-195130-z48721-write',\n",
              "       'hse-09132022-191605-z97217-read',\n",
              "       'hse-09132022-191605-z97217-write',\n",
              "       'hse-09132022-205721-z56264-read',\n",
              "       'hse-09132022-205721-z56264-write',\n",
              "       'hse-09132022-171222-z56040-read',\n",
              "       'hse-09132022-171222-z56040-write',\n",
              "       'hse-09132022-125155-z62548-read',\n",
              "       'hse-09132022-125155-z62548-write',\n",
              "       'hse-09142022-005935-z14556-read',\n",
              "       'hse-09142022-005935-z14556-write',\n",
              "       'hse-09132022-200557-z95066-read',\n",
              "       'hse-09132022-200557-z95066-write',\n",
              "       'hse-09132022-144719-z11222-read',\n",
              "       'hse-09132022-144719-z11222-write',\n",
              "       'hse-09132022-214703-z35380-read',\n",
              "       'hse-09132022-214703-z35380-write',\n",
              "       'hse-09142022-012338-z49982-read',\n",
              "       'hse-09142022-012338-z49982-write',\n",
              "       'hse-09132022-233122-z75309-read',\n",
              "       'hse-09132022-233122-z75309-write',\n",
              "       'hse-09132022-195758-z42890-read',\n",
              "       'hse-09132022-195758-z42890-write',\n",
              "       'hse-09142022-012025-z48710-read',\n",
              "       'hse-09142022-012025-z48710-write',\n",
              "       'hse-09132022-154225-z9440-read',\n",
              "       'hse-09132022-154225-z9440-write',\n",
              "       'hse-09132022-160323-z78951-read',\n",
              "       'hse-09132022-160323-z78951-write',\n",
              "       'hse-09132022-165306-z97423-read',\n",
              "       'hse-09132022-165306-z97423-write',\n",
              "       'hse-09132022-153110-z62341-read',\n",
              "       'hse-09132022-153110-z62341-write',\n",
              "       'hse-09132022-113751-z6574-read',\n",
              "       'hse-09132022-113751-z6574-write',\n",
              "       'hse-09132022-205546-z82354-read',\n",
              "       'hse-09132022-205546-z82354-write',\n",
              "       'hse-09132022-121503-z39070-read',\n",
              "       'hse-09132022-121503-z39070-write',\n",
              "       'hse-09132022-114738-z32825-read',\n",
              "       'hse-09132022-114738-z32825-write',\n",
              "       'hse-09132022-130933-z50264-read',\n",
              "       'hse-09132022-130933-z50264-write',\n",
              "       'hse-09132022-112327-z35191-read',\n",
              "       'hse-09132022-112327-z35191-write',\n",
              "       'hse-09132022-233434-z54820-read',\n",
              "       'hse-09132022-233434-z54820-write',\n",
              "       'hse-09132022-150009-z78610-read',\n",
              "       'hse-09132022-150009-z78610-write',\n",
              "       'hse-09132022-124705-z20817-read',\n",
              "       'hse-09132022-124705-z20817-write',\n",
              "       'hse-09132022-114243-z32365-read',\n",
              "       'hse-09132022-114243-z32365-write',\n",
              "       'hse-09132022-234547-z55045-read',\n",
              "       'hse-09132022-234547-z55045-write',\n",
              "       'hse-09132022-122615-z57906-read',\n",
              "       'hse-09132022-122615-z57906-write',\n",
              "       'hse-09142022-010248-z6142-read',\n",
              "       'hse-09142022-010248-z6142-write',\n",
              "       'hse-09132022-182940-z63131-read',\n",
              "       'hse-09132022-182940-z63131-write',\n",
              "       'hse-09132022-203312-z87632-read',\n",
              "       'hse-09132022-203312-z87632-write',\n",
              "       'hse-09132022-115855-z30488-read',\n",
              "       'hse-09132022-115855-z30488-write',\n",
              "       'hse-09132022-143432-z62766-read',\n",
              "       'hse-09132022-143432-z62766-write',\n",
              "       'hse-09132022-205057-z15974-read',\n",
              "       'hse-09132022-205057-z15974-write',\n",
              "       'hse-09132022-154400-z28645-read',\n",
              "       'hse-09132022-154400-z28645-write',\n",
              "       'hse-09132022-165619-z93225-read',\n",
              "       'hse-09132022-165619-z93225-write',\n",
              "       'hse-09132022-183605-z24125-read',\n",
              "       'hse-09132022-183605-z24125-write',\n",
              "       'hse-09132022-193353-z60653-read',\n",
              "       'hse-09132022-193353-z60653-write',\n",
              "       'hse-09132022-181826-z98817-read',\n",
              "       'hse-09132022-181826-z98817-write',\n",
              "       'hse-09142022-001752-z76022-read',\n",
              "       'hse-09142022-001752-z76022-write',\n",
              "       'hse-09132022-105350-z65395-read',\n",
              "       'hse-09132022-105350-z65395-write',\n",
              "       'hse-09142022-003529-z20156-read',\n",
              "       'hse-09142022-003529-z20156-write',\n",
              "       'hse-09132022-162102-z40755-read',\n",
              "       'hse-09132022-162102-z40755-write',\n",
              "       'hse-09142022-001127-z77021-read',\n",
              "       'hse-09142022-001127-z77021-write',\n",
              "       'hse-09132022-183917-z49208-read',\n",
              "       'hse-09132022-183917-z49208-write',\n",
              "       'hse-09132022-190317-z23832-read',\n",
              "       'hse-09132022-190317-z23832-write',\n",
              "       'hse-09142022-012826-z4785-read',\n",
              "       'hse-09142022-012826-z4785-write',\n",
              "       'hse-09132022-194506-z10827-read',\n",
              "       'hse-09132022-194506-z10827-write',\n",
              "       'hse-09132022-120031-z77443-read',\n",
              "       'hse-09132022-120031-z77443-write',\n",
              "       'hse-09142022-010425-z56880-read',\n",
              "       'hse-09142022-010425-z56880-write',\n",
              "       'hse-09132022-162903-z96923-read',\n",
              "       'hse-09132022-162903-z96923-write',\n",
              "       'hse-09142022-000950-z88567-read',\n",
              "       'hse-09142022-000950-z88567-write',\n",
              "       'hse-09132022-171047-z2487-read',\n",
              "       'hse-09132022-171047-z2487-write',\n",
              "       'hse-09132022-165130-z52030-read',\n",
              "       'hse-09132022-165130-z52030-write',\n",
              "       'hse-09132022-171712-z7333-read',\n",
              "       'hse-09132022-171712-z7333-write',\n",
              "       'hse-09132022-104411-z25188-write',\n",
              "       'hse-09132022-204743-z24588-read',\n",
              "       'hse-09132022-204743-z24588-write',\n",
              "       'hse-09132022-215328-z5741-read',\n",
              "       'hse-09132022-215328-z5741-write',\n",
              "       'hse-09132022-190805-z2322-read',\n",
              "       'hse-09132022-190805-z2322-write',\n",
              "       'hse-09132022-111526-z13130-read',\n",
              "       'hse-09132022-111526-z13130-write',\n",
              "       'hse-09142022-004642-z81251-read',\n",
              "       'hse-09142022-004642-z81251-write',\n",
              "       'hse-09132022-170911-z31862-read',\n",
              "       'hse-09132022-170911-z31862-write',\n",
              "       'hse-09132022-235036-z77371-read',\n",
              "       'hse-09132022-235036-z77371-write',\n",
              "       'hse-09132022-105702-z23272-read',\n",
              "       'hse-09132022-105702-z23272-write',\n",
              "       'hse-09132022-150459-z93053-read',\n",
              "       'hse-09132022-150459-z93053-write',\n",
              "       'hse-09132022-221424-z62036-read',\n",
              "       'hse-09132022-221424-z62036-write',\n",
              "       'hse-09132022-160811-z11482-read',\n",
              "       'hse-09132022-160811-z11482-write',\n",
              "       'hse-09132022-131557-z56220-read',\n",
              "       'hse-09132022-131557-z56220-write',\n",
              "       'hse-09132022-130620-z22859-read',\n",
              "       'hse-09132022-130620-z22859-write',\n",
              "       'hse-09132022-161926-z24417-read',\n",
              "       'hse-09132022-161926-z24417-write',\n",
              "       'hse-09132022-112951-z5733-read',\n",
              "       'hse-09132022-112951-z5733-write',\n",
              "       'hse-09132022-235348-z58151-read',\n",
              "       'hse-09132022-235348-z58151-write',\n",
              "       'hse-09132022-104726-z15801-write',\n",
              "       'hse-09132022-151632-z69892-read',\n",
              "       'hse-09132022-151632-z69892-write',\n",
              "       'hse-09132022-150812-z45235-read',\n",
              "       'hse-09132022-150812-z45235-write',\n",
              "       'hse-09132022-192405-z27430-read',\n",
              "       'hse-09132022-192405-z27430-write',\n",
              "       'hse-09142022-012201-z21876-read',\n",
              "       'hse-09142022-012201-z21876-write',\n",
              "       'hse-09132022-213552-z34768-read',\n",
              "       'hse-09132022-213552-z34768-write',\n",
              "       'hse-09132022-233923-z43353-read',\n",
              "       'hse-09132022-233923-z43353-write',\n",
              "       'hse-09132022-121640-z79381-read',\n",
              "       'hse-09132022-121640-z79381-write',\n",
              "       'hse-09132022-220934-z17117-read',\n",
              "       'hse-09132022-220934-z17117-write',\n",
              "       'hse-09132022-145344-z81767-read',\n",
              "       'hse-09132022-145344-z81767-write',\n",
              "       'hse-09132022-163216-z85112-read',\n",
              "       'hse-09132022-163216-z85112-write',\n",
              "       'hse-09132022-182002-z42071-read',\n",
              "       'hse-09132022-182002-z42071-write',\n",
              "       'hse-09132022-210211-z22939-read',\n",
              "       'hse-09132022-210211-z22939-write',\n",
              "       'hse-09142022-013137-z75130-read',\n",
              "       'hse-09132022-153736-z69548-read',\n",
              "       'hse-09132022-153736-z69548-write',\n",
              "       'hse-09132022-121952-z26172-read',\n",
              "       'hse-09132022-121952-z26172-write',\n",
              "       'hse-09142022-010601-z83608-read',\n",
              "       'hse-09142022-010601-z83608-write',\n",
              "       'hse-09132022-213728-z19453-read',\n",
              "       'hse-09132022-213728-z19453-write',\n",
              "       'hse-09132022-213903-z44741-read',\n",
              "       'hse-09132022-213903-z44741-write',\n",
              "       'hse-09132022-185342-z9048-read',\n",
              "       'hse-09132022-185342-z9048-write',\n",
              "       'hse-09132022-200109-z72466-read',\n",
              "       'hse-09132022-200109-z72466-write',\n",
              "       'hse-09132022-162415-z26949-read',\n",
              "       'hse-09132022-162415-z26949-write',\n",
              "       'hse-09142022-003040-z66741-read',\n",
              "       'hse-09142022-003040-z66741-write',\n",
              "       'hse-09132022-155835-z19343-read',\n",
              "       'hse-09132022-155835-z19343-write',\n",
              "       'hse-09132022-142944-z74842-read',\n",
              "       'hse-09132022-142944-z74842-write',\n",
              "       'hse-09132022-170559-z18957-read',\n",
              "       'hse-09132022-170559-z18957-write',\n",
              "       'hse-09132022-235837-z99398-read',\n",
              "       'hse-09132022-235837-z99398-write',\n",
              "       'hse-09132022-120207-z60681-read',\n",
              "       'hse-09132022-120207-z60681-write',\n",
              "       'hse-09132022-164954-z59154-read',\n",
              "       'hse-09132022-164954-z59154-write',\n",
              "       'hse-09132022-113928-z87993-read',\n",
              "       'hse-09132022-113928-z87993-write',\n",
              "       'hse-09132022-112504-z54690-read',\n",
              "       'hse-09132022-112504-z54690-write',\n",
              "       'hse-09132022-231832-z30304-read',\n",
              "       'hse-09132022-231832-z30304-write',\n",
              "       'hse-09142022-000327-z90355-read',\n",
              "       'hse-09142022-000327-z90355-write',\n",
              "       'hse-09132022-202334-z72117-read',\n",
              "       'hse-09132022-202334-z72117-write',\n",
              "       'hse-09142022-005135-z57419-read',\n",
              "       'hse-09142022-005135-z57419-write',\n",
              "       'hse-09132022-144232-z94718-read',\n",
              "       'hse-09132022-144232-z94718-write',\n",
              "       'hse-09132022-213104-z26255-read',\n",
              "       'hse-09132022-213104-z26255-write',\n",
              "       'hse-09132022-180222-z74448-read',\n",
              "       'hse-09132022-180222-z74448-write',\n",
              "       'hse-09142022-001302-z66787-read',\n",
              "       'hse-09142022-001302-z66787-write',\n",
              "       'hse-09132022-185653-z30734-read',\n",
              "       'hse-09132022-185653-z30734-write',\n",
              "       'hse-09132022-124216-z37512-read',\n",
              "       'hse-09132022-124216-z37512-write',\n",
              "       'hse-09132022-122928-z82288-read',\n",
              "       'hse-09132022-122928-z82288-write',\n",
              "       'hse-09132022-194018-z74005-read',\n",
              "       'hse-09132022-194018-z74005-write',\n",
              "       'hse-09142022-004824-z92215-read',\n",
              "       'hse-09142022-004824-z92215-write',\n",
              "       'hse-09132022-175734-z68760-read',\n",
              "       'hse-09132022-175734-z68760-write',\n",
              "       'hse-09132022-195444-z86092-read',\n",
              "       'hse-09132022-195444-z86092-write',\n",
              "       'hse-09132022-155700-z35567-read',\n",
              "       'hse-09132022-155700-z35567-write',\n",
              "       'hse-09132022-215819-z32951-read',\n",
              "       'hse-09132022-215819-z32951-write',\n",
              "       'hse-09132022-161439-z42057-read',\n",
              "       'hse-09132022-161439-z42057-write',\n",
              "       'hse-09132022-225255-z62758-read',\n",
              "       'hse-09132022-225255-z62758-write',\n",
              "       'hse-09132022-161751-z73436-read',\n",
              "       'hse-09132022-161751-z73436-write',\n",
              "       'hse-09142022-001616-z40095-read',\n",
              "       'hse-09142022-001616-z40095-write',\n",
              "       'hse-09132022-145832-z224-read', 'hse-09132022-145832-z224-write',\n",
              "       'hse-09132022-154048-z66954-read',\n",
              "       'hse-09132022-154048-z66954-write',\n",
              "       'hse-09132022-171849-z52630-read',\n",
              "       'hse-09132022-171849-z52630-write',\n",
              "       'hse-09132022-235211-z43587-read',\n",
              "       'hse-09132022-235211-z43587-write',\n",
              "       'hse-09142022-005623-z53515-read',\n",
              "       'hse-09142022-005623-z53515-write',\n",
              "       'hse-09132022-185829-z38410-read',\n",
              "       'hse-09132022-185829-z38410-write',\n",
              "       'hse-09142022-004959-z71716-read',\n",
              "       'hse-09142022-004959-z71716-write',\n",
              "       'hse-09132022-131920-z87324-read',\n",
              "       'hse-09132022-131920-z87324-write',\n",
              "       'hse-09132022-164328-z16485-read',\n",
              "       'hse-09132022-164328-z16485-write',\n",
              "       'hse-09132022-223204-z24387-read',\n",
              "       'hse-09132022-223204-z24387-write',\n",
              "       'hse-09132022-105526-z81373-read',\n",
              "       'hse-09132022-105526-z81373-write',\n",
              "       'hse-09132022-215152-z19871-read',\n",
              "       'hse-09132022-215152-z19871-write',\n",
              "       'hse-09132022-172353-z31660-read',\n",
              "       'hse-09132022-172353-z31660-write',\n",
              "       'hse-09132022-211148-z77579-read',\n",
              "       'hse-09132022-211148-z77579-write',\n",
              "       'hse-09132022-124353-z30023-read',\n",
              "       'hse-09132022-124353-z30023-write',\n",
              "       'hse-09132022-234235-z69909-read',\n",
              "       'hse-09132022-234235-z69909-write',\n",
              "       'hse-09132022-202022-z26365-read',\n",
              "       'hse-09132022-202022-z26365-write',\n",
              "       'hse-09142022-013625-z27443-read',\n",
              "       'hse-09132022-201358-z96103-read',\n",
              "       'hse-09132022-201358-z96103-write',\n",
              "       'hse-09132022-184540-z9886-read',\n",
              "       'hse-09132022-184540-z9886-write',\n",
              "       'hse-09142022-011713-z86362-read',\n",
              "       'hse-09142022-011713-z86362-write',\n",
              "       'hse-09132022-223028-z19440-read',\n",
              "       'hse-09132022-223028-z19440-write',\n",
              "       'hse-09142022-003841-z32801-read',\n",
              "       'hse-09142022-003841-z32801-write',\n",
              "       'hse-09132022-212928-z63324-read',\n",
              "       'hse-09132022-212928-z63324-write',\n",
              "       'hse-09132022-120833-z45472-read',\n",
              "       'hse-09132022-120833-z45472-write',\n",
              "       'hse-09132022-181025-z94679-read',\n",
              "       'hse-09132022-181025-z94679-write',\n",
              "       'hse-09132022-234411-z23835-read',\n",
              "       'hse-09132022-234411-z23835-write',\n",
              "       'hse-09132022-232007-z17754-read',\n",
              "       'hse-09132022-232007-z17754-write',\n",
              "       'hse-09132022-115544-z28904-read',\n",
              "       'hse-09132022-115544-z28904-write',\n",
              "       'hse-09132022-114600-z57545-read',\n",
              "       'hse-09132022-114600-z57545-write',\n",
              "       'hse-09132022-221249-z32519-read',\n",
              "       'hse-09132022-221249-z32519-write',\n",
              "       'hse-09132022-222716-z66742-read',\n",
              "       'hse-09132022-222716-z66742-write',\n",
              "       'hse-09132022-150951-z47646-read',\n",
              "       'hse-09132022-150951-z47646-write',\n",
              "       'hse-09132022-143120-z31269-read',\n",
              "       'hse-09132022-143120-z31269-write',\n",
              "       'hse-09132022-161303-z88497-read',\n",
              "       'hse-09132022-161303-z88497-write',\n",
              "       'hse-09132022-155340-z5879-read',\n",
              "       'hse-09132022-155340-z5879-write',\n",
              "       'hse-09132022-165443-z99348-read',\n",
              "       'hse-09132022-165443-z99348-write',\n",
              "       'hse-09132022-180849-z74771-read',\n",
              "       'hse-09132022-180849-z74771-write',\n",
              "       'hse-09132022-211502-z50964-read',\n",
              "       'hse-09132022-211502-z50964-write',\n",
              "       'hse-09142022-011049-z43035-read',\n",
              "       'hse-09142022-011049-z43035-write',\n",
              "       'hse-09142022-001439-z75543-read',\n",
              "       'hse-09142022-001439-z75543-write',\n",
              "       'hse-09132022-210347-z54822-read',\n",
              "       'hse-09132022-210347-z54822-write',\n",
              "       'hse-09142022-010111-z98172-read',\n",
              "       'hse-09142022-010111-z98172-write',\n",
              "       'hse-09142022-011401-z35494-read',\n",
              "       'hse-09142022-011401-z35494-write',\n",
              "       'hse-09132022-235524-z69201-read',\n",
              "       'hse-09132022-235524-z69201-write',\n",
              "       'hse-09132022-200909-z68491-read',\n",
              "       'hse-09132022-200909-z68491-write',\n",
              "       'hse-09142022-005759-z87718-read',\n",
              "       'hse-09142022-005759-z87718-write',\n",
              "       'hse-09132022-194330-z52998-read',\n",
              "       'hse-09132022-194330-z52998-write',\n",
              "       'hse-09132022-121008-z27019-read',\n",
              "       'hse-09132022-121008-z27019-write',\n",
              "       'hse-09132022-183116-z41366-read',\n",
              "       'hse-09132022-183116-z41366-write',\n",
              "       'hse-09132022-191741-z11328-read',\n",
              "       'hse-09132022-191741-z11328-write',\n",
              "       'hse-09132022-214040-z45076-read',\n",
              "       'hse-09132022-214040-z45076-write',\n",
              "       'hse-09132022-124842-z97280-read',\n",
              "       'hse-09132022-124842-z97280-write',\n",
              "       'hse-09142022-002551-z20113-read',\n",
              "       'hse-09142022-002551-z20113-write',\n",
              "       'hse-09132022-211011-z61388-read',\n",
              "       'hse-09132022-211011-z61388-write',\n",
              "       'hse-09132022-231656-z53272-read',\n",
              "       'hse-09132022-231656-z53272-write',\n",
              "       'hse-09132022-175110-z54534-read',\n",
              "       'hse-09132022-175110-z54534-write',\n",
              "       'hse-09132022-122752-z13937-read',\n",
              "       'hse-09132022-122752-z13937-write',\n",
              "       'hse-09132022-191428-z14985-read',\n",
              "       'hse-09132022-191428-z14985-write',\n",
              "       'hse-09132022-214528-z97925-read',\n",
              "       'hse-09132022-214528-z97925-write',\n",
              "       'hse-09132022-104902-z5833-write',\n",
              "       'hse-09132022-230406-z82827-read',\n",
              "       'hse-09132022-230406-z82827-write',\n",
              "       'hse-09132022-161615-z60886-read',\n",
              "       'hse-09132022-161615-z60886-write',\n",
              "       'hse-09132022-230230-z6110-read',\n",
              "       'hse-09132022-230230-z6110-write',\n",
              "       'hse-09142022-002415-z29036-read',\n",
              "       'hse-09142022-002415-z29036-write',\n",
              "       'hse-09132022-185028-z47282-read',\n",
              "       'hse-09132022-185028-z47282-write',\n",
              "       'hse-09132022-192723-z41123-read',\n",
              "       'hse-09132022-192723-z41123-write',\n",
              "       'hse-09132022-192541-z82270-read',\n",
              "       'hse-09132022-192541-z82270-write',\n",
              "       'hse-09132022-123417-z91440-read',\n",
              "       'hse-09132022-123417-z91440-write',\n",
              "       'hse-09132022-232144-z10395-read',\n",
              "       'hse-09132022-232144-z10395-write',\n",
              "       'hse-09132022-203805-z3170-read',\n",
              "       'hse-09132022-203805-z3170-write',\n",
              "       'hse-09132022-110856-z48879-read',\n",
              "       'hse-09132022-110856-z48879-write',\n",
              "       'hse-09132022-164151-z97952-read',\n",
              "       'hse-09132022-164151-z97952-write',\n",
              "       'hse-09132022-184228-z71307-read',\n",
              "       'hse-09132022-184228-z71307-write',\n",
              "       'hse-09132022-164818-z14065-read',\n",
              "       'hse-09132022-164818-z14065-write',\n",
              "       'hse-09132022-111037-z61504-read',\n",
              "       'hse-09132022-111037-z61504-write',\n",
              "       'hse-09132022-193217-z45100-read',\n",
              "       'hse-09132022-193217-z45100-write',\n",
              "       'hse-09142022-000151-z49707-read',\n",
              "       'hse-09142022-000151-z49707-write',\n",
              "       'hse-09132022-222050-z43340-read',\n",
              "       'hse-09132022-222050-z43340-write',\n",
              "       'hse-09132022-143608-z33887-read',\n",
              "       'hse-09132022-143608-z33887-write',\n",
              "       'hse-09132022-221111-z21798-read',\n",
              "       'hse-09132022-221111-z21798-write',\n",
              "       'hse-09132022-193530-z63647-read',\n",
              "       'hse-09132022-193530-z63647-write',\n",
              "       'hse-09132022-112815-z89199-read',\n",
              "       'hse-09132022-112815-z89199-write',\n",
              "       'hse-09132022-224630-z16947-read',\n",
              "       'hse-09132022-224630-z16947-write',\n",
              "       'hse-09132022-233610-z77210-read',\n",
              "       'hse-09132022-233610-z77210-write',\n",
              "       'hse-09132022-203448-z35058-read',\n",
              "       'hse-09132022-203448-z35058-write',\n",
              "       'hse-09132022-194819-z36792-read',\n",
              "       'hse-09132022-194819-z36792-write',\n",
              "       'hse-09132022-175910-z24859-read',\n",
              "       'hse-09132022-175910-z24859-write',\n",
              "       'hse-09132022-125332-z12533-read',\n",
              "       'hse-09132022-125332-z12533-write',\n",
              "       'hse-09142022-004506-z41362-read',\n",
              "       'hse-09142022-004506-z41362-write',\n",
              "       'hse-09132022-190005-z62740-read',\n",
              "       'hse-09132022-190005-z62740-write',\n",
              "       'hse-09132022-151813-z86834-read',\n",
              "       'hse-09132022-151813-z86834-write',\n",
              "       'hse-09132022-221914-z13659-read',\n",
              "       'hse-09132022-221914-z13659-write',\n",
              "       'hse-09132022-200246-z35719-read',\n",
              "       'hse-09132022-200246-z35719-write',\n",
              "       'hse-09132022-215955-z63353-read',\n",
              "       'hse-09132022-215955-z63353-write',\n",
              "       'hse-09132022-224006-z66619-read',\n",
              "       'hse-09132022-224006-z66619-write',\n",
              "       'hse-09132022-115055-z26710-read',\n",
              "       'hse-09132022-115055-z26710-write',\n",
              "       'hse-09132022-123104-z79539-read',\n",
              "       'hse-09132022-123104-z79539-write',\n",
              "       'hse-09132022-165756-z38784-read',\n",
              "       'hse-09132022-165756-z38784-write',\n",
              "       'hse-09132022-221600-z73719-read',\n",
              "       'hse-09132022-221600-z73719-write',\n",
              "       'hse-09132022-173329-z1767-read',\n",
              "       'hse-09132022-173329-z1767-write',\n",
              "       'hse-09132022-234900-z8577-read',\n",
              "       'hse-09132022-234900-z8577-write',\n",
              "       'hse-09132022-194642-z11414-read',\n",
              "       'hse-09132022-194642-z11414-write',\n",
              "       'hse-09132022-182626-z67031-read',\n",
              "       'hse-09132022-182626-z67031-write',\n",
              "       'hse-09132022-222226-z48556-read',\n",
              "       'hse-09132022-222226-z48556-write',\n",
              "       'hse-09132022-112639-z23815-read',\n",
              "       'hse-09132022-112639-z23815-write',\n",
              "       'hse-09132022-194955-z3504-read',\n",
              "       'hse-09132022-194955-z3504-write',\n",
              "       'hse-09132022-184853-z94856-read',\n",
              "       'hse-09132022-184853-z94856-write',\n",
              "       'hse-09132022-201533-z63200-read',\n",
              "       'hse-09132022-201533-z63200-write',\n",
              "       'hse-09132022-230544-z60847-read',\n",
              "       'hse-09132022-230544-z60847-write',\n",
              "       'hse-09132022-192229-z61906-read',\n",
              "       'hse-09132022-192229-z61906-write',\n",
              "       'hse-09132022-212752-z94322-read',\n",
              "       'hse-09132022-212752-z94322-write',\n",
              "       'hse-09132022-170424-z33354-read',\n",
              "       'hse-09132022-170424-z33354-write',\n",
              "       'hse-09142022-004017-z78524-read',\n",
              "       'hse-09142022-004017-z78524-write',\n",
              "       'hse-09132022-224941-z74730-read',\n",
              "       'hse-09132022-224941-z74730-write',\n",
              "       'hse-09132022-220445-z80599-read',\n",
              "       'hse-09132022-220445-z80599-write',\n",
              "       'hse-09132022-223830-z83963-read',\n",
              "       'hse-09132022-223830-z83963-write',\n",
              "       'hse-09132022-193706-z96542-read',\n",
              "       'hse-09132022-193706-z96542-write',\n",
              "       'hse-09132022-123904-z85141-read',\n",
              "       'hse-09132022-123904-z85141-write',\n",
              "       'hse-09132022-121150-z84881-read',\n",
              "       'hse-09132022-121150-z84881-write',\n",
              "       'hse-09132022-234723-z24647-read',\n",
              "       'hse-09132022-234723-z24647-write',\n",
              "       'hse-09132022-123552-z52137-read',\n",
              "       'hse-09132022-123552-z52137-write',\n",
              "       'hse-09132022-164643-z85266-read',\n",
              "       'hse-09132022-164643-z85266-write',\n",
              "       'hse-09132022-180536-z34178-read',\n",
              "       'hse-09132022-180536-z34178-write',\n",
              "       'hse-09132022-172040-z90252-read',\n",
              "       'hse-09132022-172040-z90252-write',\n",
              "       'hse-09132022-233747-z51418-read',\n",
              "       'hse-09132022-233747-z51418-write',\n",
              "       'hse-09132022-112150-z35687-read',\n",
              "       'hse-09132022-112150-z35687-write',\n",
              "       'hse-09132022-123728-z71315-read',\n",
              "       'hse-09132022-123728-z71315-write',\n",
              "       'hse-09132022-224454-z88703-read',\n",
              "       'hse-09132022-224454-z88703-write',\n",
              "       'hse-09132022-154537-z53551-read',\n",
              "       'hse-09132022-154537-z53551-write',\n",
              "       'hse-09132022-175422-z88816-read',\n",
              "       'hse-09132022-175422-z88816-write',\n",
              "       'hse-09132022-174305-z40424-read',\n",
              "       'hse-09132022-174305-z40424-write',\n",
              "       'hse-09132022-155518-z97171-read',\n",
              "       'hse-09132022-155518-z97171-write',\n",
              "       'hse-09132022-153912-z81423-read',\n",
              "       'hse-09132022-153912-z81423-write',\n",
              "       'hse-09132022-194154-z80896-read',\n",
              "       'hse-09132022-194154-z80896-write',\n",
              "       'hse-09132022-120519-z353-read', 'hse-09132022-120519-z353-write',\n",
              "       'hse-09132022-152757-z75883-read',\n",
              "       'hse-09132022-152757-z75883-write',\n",
              "       'hse-09132022-204117-z7013-read',\n",
              "       'hse-09132022-204117-z7013-write',\n",
              "       'hse-09132022-231032-z17384-read',\n",
              "       'hse-09132022-231032-z17384-write',\n",
              "       'hse-09132022-143744-z21664-read',\n",
              "       'hse-09132022-143744-z21664-write',\n",
              "       'hse-09132022-173153-z43706-read',\n",
              "       'hse-09132022-173153-z43706-write',\n",
              "       'hse-09132022-152445-z20614-read',\n",
              "       'hse-09132022-152445-z20614-write',\n",
              "       'hse-09132022-150146-z98794-read',\n",
              "       'hse-09132022-150146-z98794-write',\n",
              "       'hse-09132022-201710-z56013-read',\n",
              "       'hse-09132022-201710-z56013-write',\n",
              "       'hse-09132022-144543-z14829-read',\n",
              "       'hse-09132022-144543-z14829-write',\n",
              "       'hse-09142022-003704-z64274-read',\n",
              "       'hse-09142022-003704-z64274-write',\n",
              "       'hse-09132022-110545-z2206-read',\n",
              "       'hse-09132022-110545-z2206-write',\n",
              "       'hse-09132022-190629-z42481-read',\n",
              "       'hse-09132022-190629-z42481-write',\n",
              "       'hse-09142022-010913-z7903-read',\n",
              "       'hse-09142022-010913-z7903-write', 'hse-09132022-160011-z111-read',\n",
              "       'hse-09132022-160011-z111-write',\n",
              "       'hse-09132022-224142-z89549-read',\n",
              "       'hse-09132022-224142-z89549-write',\n",
              "       'hse-09142022-010737-z79082-read',\n",
              "       'hse-09142022-010737-z79082-write',\n",
              "       'hse-09132022-170112-z18461-read',\n",
              "       'hse-09132022-170112-z18461-write',\n",
              "       'hse-09132022-144407-z65430-read',\n",
              "       'hse-09132022-144407-z65430-write',\n",
              "       'hse-09142022-002240-z40533-read',\n",
              "       'hse-09142022-002240-z40533-write',\n",
              "       'hse-09132022-225742-z76610-read',\n",
              "       'hse-09132022-225742-z76610-write',\n",
              "       'hse-09132022-151950-z66914-read',\n",
              "       'hse-09132022-151950-z66914-write',\n",
              "       'hse-09132022-183428-z63491-read',\n",
              "       'hse-09132022-183428-z63491-write',\n",
              "       'hse-09142022-001928-z48497-read',\n",
              "       'hse-09142022-001928-z48497-write',\n",
              "       'hse-09132022-195620-z54253-read',\n",
              "       'hse-09132022-195620-z54253-write',\n",
              "       'hse-09132022-173953-z66834-read',\n",
              "       'hse-09132022-173953-z66834-write',\n",
              "       'hse-09142022-011849-z97374-read',\n",
              "       'hse-09142022-011849-z97374-write',\n",
              "       'hse-09132022-184053-z56350-read',\n",
              "       'hse-09132022-184053-z56350-write',\n",
              "       'hse-09132022-173641-z62552-read',\n",
              "       'hse-09132022-173641-z62552-write',\n",
              "       'hse-09132022-104547-z91867-write',\n",
              "       'hse-09132022-131420-z62937-read',\n",
              "       'hse-09132022-131420-z62937-write',\n",
              "       'hse-09132022-130444-z452-read', 'hse-09132022-130444-z452-write',\n",
              "       'hse-09132022-121326-z34915-read',\n",
              "       'hse-09132022-121326-z34915-write',\n",
              "       'hse-09132022-181200-z64240-read',\n",
              "       'hse-09132022-181200-z64240-write',\n",
              "       'hse-09132022-212127-z31699-read',\n",
              "       'hse-09132022-212127-z31699-write',\n",
              "       'hse-09132022-122127-z16807-read',\n",
              "       'hse-09132022-122127-z16807-write',\n",
              "       'hse-09142022-011224-z7725-read',\n",
              "       'hse-09142022-011224-z7725-write',\n",
              "       'hse-09132022-122303-z11526-read',\n",
              "       'hse-09132022-122303-z11526-write',\n",
              "       'hse-09132022-164506-z22477-read',\n",
              "       'hse-09132022-164506-z22477-write',\n",
              "       'hse-09132022-111838-z90978-read',\n",
              "       'hse-09132022-111838-z90978-write',\n",
              "       'hse-09132022-190941-z58584-read',\n",
              "       'hse-09132022-190941-z58584-write',\n",
              "       'hse-09132022-223653-z13302-read',\n",
              "       'hse-09132022-223653-z13302-write',\n",
              "       'hse-09132022-175246-z37214-read',\n",
              "       'hse-09132022-175246-z37214-write',\n",
              "       'hse-09132022-174934-z1880-read',\n",
              "       'hse-09132022-174934-z1880-write',\n",
              "       'hse-09132022-115231-z89403-read',\n",
              "       'hse-09132022-115231-z89403-write',\n",
              "       'hse-09132022-163040-z86185-read',\n",
              "       'hse-09132022-163040-z86185-write',\n",
              "       'hse-09132022-201221-z2699-read',\n",
              "       'hse-09132022-201221-z2699-write',\n",
              "       'hse-09132022-155203-z5570-read',\n",
              "       'hse-09132022-155203-z5570-write',\n",
              "       'hse-09132022-185204-z4233-read',\n",
              "       'hse-09132022-185204-z4233-write',\n",
              "       'hse-09132022-182449-z42259-read',\n",
              "       'hse-09132022-182449-z42259-write',\n",
              "       'hse-09132022-214215-z39753-read',\n",
              "       'hse-09132022-214215-z39753-write',\n",
              "       'hse-09132022-202823-z89186-read',\n",
              "       'hse-09132022-202823-z89186-write',\n",
              "       'hse-09132022-230055-z88404-read',\n",
              "       'hse-09132022-230055-z88404-write',\n",
              "       'hse-09132022-163704-z21100-read',\n",
              "       'hse-09132022-163704-z21100-write',\n",
              "       'hse-09132022-152126-z31190-read',\n",
              "       'hse-09132022-152126-z31190-write',\n",
              "       'hse-09132022-211951-z3355-read',\n",
              "       'hse-09132022-211951-z3355-write',\n",
              "       'hse-09132022-220308-z65764-read',\n",
              "       'hse-09132022-220308-z65764-write',\n",
              "       'hse-09132022-114423-z16340-read',\n",
              "       'hse-09132022-114423-z16340-write',\n",
              "       'hse-09132022-205409-z81157-read',\n",
              "       'hse-09132022-205409-z81157-write',\n",
              "       'hse-09132022-210035-z86039-read',\n",
              "       'hse-09132022-210035-z86039-write',\n",
              "       'hse-09132022-160947-z15093-read',\n",
              "       'hse-09132022-160947-z15093-write',\n",
              "       'hse-09132022-171536-z27492-read',\n",
              "       'hse-09132022-171536-z27492-write',\n",
              "       'hse-09132022-155027-z3879-read',\n",
              "       'hse-09132022-155027-z3879-write',\n",
              "       'hse-09132022-153559-z96103-read',\n",
              "       'hse-09132022-153559-z96103-write',\n",
              "       'hse-09132022-161122-z79010-read',\n",
              "       'hse-09132022-161122-z79010-write',\n",
              "       'hse-09132022-212440-z52367-read',\n",
              "       'hse-09132022-212440-z52367-write',\n",
              "       'hse-09132022-204430-z4599-read',\n",
              "       'hse-09132022-204430-z4599-write',\n",
              "       'hse-09142022-012514-z27192-read',\n",
              "       'hse-09142022-012514-z27192-write',\n",
              "       'hse-09132022-125018-z2655-read',\n",
              "       'hse-09132022-125018-z2655-write',\n",
              "       'hse-09132022-205858-z70125-read',\n",
              "       'hse-09132022-205858-z70125-write',\n",
              "       'hse-09132022-232632-z6249-read',\n",
              "       'hse-09132022-232632-z6249-write',\n",
              "       'hse-09132022-124040-z68342-read',\n",
              "       'hse-09132022-124040-z68342-write',\n",
              "       'hse-09132022-142804-z86412-read',\n",
              "       'hse-09132022-142804-z86412-write'], dtype=object)"
            ]
          },
          "metadata": {},
          "execution_count": 22
        }
      ]
    },
    {
      "cell_type": "code",
      "source": [
        "pd.unique(test[['id']]. values.ravel())"
      ],
      "metadata": {
        "colab": {
          "base_uri": "https://localhost:8080/"
        },
        "id": "khej3nZtReJY",
        "outputId": "548d18f6-d39a-46a1-c0f8-6dabe2aa21f1"
      },
      "id": "khej3nZtReJY",
      "execution_count": 23,
      "outputs": [
        {
          "output_type": "execute_result",
          "data": {
            "text/plain": [
              "array(['hse-09132022-180712-z63065-read',\n",
              "       'hse-09132022-180712-z63065-write',\n",
              "       'hse-09132022-212616-z36709-read',\n",
              "       'hse-09132022-212616-z36709-write',\n",
              "       'hse-09132022-203942-z36542-read',\n",
              "       'hse-09132022-203942-z36542-write',\n",
              "       'hse-09132022-113615-z47578-read',\n",
              "       'hse-09132022-113615-z47578-write',\n",
              "       'hse-09132022-113127-z92275-read',\n",
              "       'hse-09132022-113127-z92275-write',\n",
              "       'hse-09132022-202959-z97080-read',\n",
              "       'hse-09132022-202959-z97080-write',\n",
              "       'hse-09132022-130756-z72964-read',\n",
              "       'hse-09132022-130756-z72964-write',\n",
              "       'hse-09132022-152621-z23474-read',\n",
              "       'hse-09132022-152621-z23474-write',\n",
              "       'hse-09132022-222402-z67880-read',\n",
              "       'hse-09132022-222402-z67880-write',\n",
              "       'hse-09142022-002727-z41754-read',\n",
              "       'hse-09142022-002727-z41754-write',\n",
              "       'hse-09132022-215503-z42747-read',\n",
              "       'hse-09132022-215503-z42747-write',\n",
              "       'hse-09132022-154850-z69269-read',\n",
              "       'hse-09132022-154850-z69269-write',\n",
              "       'hse-09132022-162550-z13863-read',\n",
              "       'hse-09132022-162550-z13863-write',\n",
              "       'hse-09132022-131738-z64548-read',\n",
              "       'hse-09132022-131738-z64548-write',\n",
              "       'hse-09132022-163352-z28622-read',\n",
              "       'hse-09132022-163352-z28622-write',\n",
              "       'hse-09132022-203624-z40860-read',\n",
              "       'hse-09132022-203624-z40860-write',\n",
              "       'hse-09132022-111214-z18642-read',\n",
              "       'hse-09132022-111214-z18642-write',\n",
              "       'hse-09132022-230720-z49925-read',\n",
              "       'hse-09132022-230720-z49925-write',\n",
              "       'hse-09132022-180046-z99430-read',\n",
              "       'hse-09132022-180046-z99430-write',\n",
              "       'hse-09132022-162239-z71118-read',\n",
              "       'hse-09132022-162239-z71118-write',\n",
              "       'hse-09132022-115719-z1844-read',\n",
              "       'hse-09132022-115719-z1844-write',\n",
              "       'hse-09132022-130309-z70101-read',\n",
              "       'hse-09132022-130309-z70101-write',\n",
              "       'hse-09132022-143919-z2607-read',\n",
              "       'hse-09132022-143919-z2607-write',\n",
              "       'hse-09132022-191917-z69202-read',\n",
              "       'hse-09132022-191917-z69202-write',\n",
              "       'hse-09132022-105038-z85297-write',\n",
              "       'hse-09132022-125820-z33361-read',\n",
              "       'hse-09132022-125820-z33361-write',\n",
              "       'hse-09132022-200733-z61475-read',\n",
              "       'hse-09132022-200733-z61475-write',\n",
              "       'hse-09132022-174129-z68191-read',\n",
              "       'hse-09132022-174129-z68191-write',\n",
              "       'hse-09132022-131108-z11709-read',\n",
              "       'hse-09132022-131108-z11709-write',\n",
              "       'hse-09132022-221738-z10431-read',\n",
              "       'hse-09132022-221738-z10431-write',\n",
              "       'hse-09132022-210700-z60083-read',\n",
              "       'hse-09132022-210700-z60083-write',\n",
              "       'hse-09132022-125644-z707-read', 'hse-09132022-125644-z707-write',\n",
              "       'hse-09132022-230856-z9643-read',\n",
              "       'hse-09132022-230856-z9643-write',\n",
              "       'hse-09132022-224318-z90767-read',\n",
              "       'hse-09132022-224318-z90767-write',\n",
              "       'hse-09132022-175558-z99920-read',\n",
              "       'hse-09132022-175558-z99920-write',\n",
              "       'hse-09132022-220757-z26952-read',\n",
              "       'hse-09132022-220757-z26952-write',\n",
              "       'hse-09132022-233258-z38393-read',\n",
              "       'hse-09132022-233258-z38393-write',\n",
              "       'hse-09132022-213240-z31511-read',\n",
              "       'hse-09132022-213240-z31511-write',\n",
              "       'hse-09132022-190141-z86999-read',\n",
              "       'hse-09132022-190141-z86999-write',\n",
              "       'hse-09132022-212303-z33531-read',\n",
              "       'hse-09132022-212303-z33531-write',\n",
              "       'hse-09132022-191252-z61268-read',\n",
              "       'hse-09132022-191252-z61268-write',\n",
              "       'hse-09132022-111349-z30624-read',\n",
              "       'hse-09132022-111349-z30624-write',\n",
              "       'hse-09132022-210835-z79013-read',\n",
              "       'hse-09132022-210835-z79013-write',\n",
              "       'hse-09132022-215639-z27019-read',\n",
              "       'hse-09132022-215639-z27019-write',\n",
              "       'hse-09132022-111702-z2132-read',\n",
              "       'hse-09132022-111702-z2132-write',\n",
              "       'hse-09132022-205233-z24116-read',\n",
              "       'hse-09132022-205233-z24116-write',\n",
              "       'hse-09132022-201846-z96779-read',\n",
              "       'hse-09132022-201846-z96779-write',\n",
              "       'hse-09132022-222539-z74628-read',\n",
              "       'hse-09132022-222539-z74628-write',\n",
              "       'hse-09132022-183741-z34556-read',\n",
              "       'hse-09132022-183741-z34556-write',\n",
              "       'hse-09132022-174758-z42895-read',\n",
              "       'hse-09132022-174758-z42895-write',\n",
              "       'hse-09132022-150322-z74833-read',\n",
              "       'hse-09132022-150322-z74833-write',\n",
              "       'hse-09132022-125508-z80010-read',\n",
              "       'hse-09132022-125508-z80010-write',\n",
              "       'hse-09132022-143256-z48524-read',\n",
              "       'hse-09132022-143256-z48524-write',\n",
              "       'hse-09132022-145209-z76146-read',\n",
              "       'hse-09132022-145209-z76146-write',\n",
              "       'hse-09132022-180359-z27917-read',\n",
              "       'hse-09132022-180359-z27917-write',\n",
              "       'hse-09132022-151456-z41588-read',\n",
              "       'hse-09132022-151456-z41588-write',\n",
              "       'hse-09132022-203135-z63942-read',\n",
              "       'hse-09132022-203135-z63942-write',\n",
              "       'hse-09142022-002903-z26645-read',\n",
              "       'hse-09142022-002903-z26645-write',\n",
              "       'hse-09132022-211814-z32416-read',\n",
              "       'hse-09132022-211814-z32416-write',\n",
              "       'hse-09132022-172841-z37264-read',\n",
              "       'hse-09132022-172841-z37264-write',\n",
              "       'hse-09132022-223341-z77063-read',\n",
              "       'hse-09132022-223341-z77063-write',\n",
              "       'hse-09132022-131244-z82138-read',\n",
              "       'hse-09132022-131244-z82138-write',\n",
              "       'hse-09132022-232456-z82906-read',\n",
              "       'hse-09132022-232456-z82906-write',\n",
              "       'hse-09132022-174441-z13743-read',\n",
              "       'hse-09132022-174441-z13743-write',\n",
              "       'hse-09142022-002104-z26412-read',\n",
              "       'hse-09142022-002104-z26412-write',\n",
              "       'hse-09132022-192900-z38701-read',\n",
              "       'hse-09132022-192900-z38701-write',\n",
              "       'hse-09132022-190453-z24234-read',\n",
              "       'hse-09132022-190453-z24234-write',\n",
              "       'hse-09132022-152301-z79013-read',\n",
              "       'hse-09132022-152301-z79013-write',\n",
              "       'hse-09132022-173817-z84146-read',\n",
              "       'hse-09132022-173817-z84146-write',\n",
              "       'hse-09132022-181337-z21988-read',\n",
              "       'hse-09132022-181337-z21988-write',\n",
              "       'hse-09132022-162726-z17811-read',\n",
              "       'hse-09132022-162726-z17811-write',\n",
              "       'hse-09132022-171400-z26934-read',\n",
              "       'hse-09132022-171400-z26934-write',\n",
              "       'hse-09132022-192053-z87989-read',\n",
              "       'hse-09132022-192053-z87989-write',\n",
              "       'hse-09132022-232946-z46383-read',\n",
              "       'hse-09132022-232946-z46383-write',\n",
              "       'hse-09132022-105213-z969-read', 'hse-09132022-105213-z969-write',\n",
              "       'hse-09132022-202647-z52770-read',\n",
              "       'hse-09132022-202647-z52770-write',\n",
              "       'hse-09132022-223517-z89788-read',\n",
              "       'hse-09132022-223517-z89788-write',\n",
              "       'hse-09132022-152933-z67146-read',\n",
              "       'hse-09132022-152933-z67146-write',\n",
              "       'hse-09132022-224805-z52903-read',\n",
              "       'hse-09132022-224805-z52903-write',\n",
              "       'hse-09132022-122439-z11875-read',\n",
              "       'hse-09132022-122439-z11875-write',\n",
              "       'hse-09132022-153247-z20248-read',\n",
              "       'hse-09132022-153247-z20248-write',\n",
              "       'hse-09132022-182313-z34207-read',\n",
              "       'hse-09132022-182313-z34207-write',\n",
              "       'hse-09132022-121816-z8954-read',\n",
              "       'hse-09132022-121816-z8954-write',\n",
              "       'hse-09132022-163528-z69918-read',\n",
              "       'hse-09132022-163528-z69918-write',\n",
              "       'hse-09142022-000013-z53450-read',\n",
              "       'hse-09142022-000013-z53450-write',\n",
              "       'hse-09132022-144855-z14318-read',\n",
              "       'hse-09132022-144855-z14318-write',\n",
              "       'hse-09132022-173505-z46323-read',\n",
              "       'hse-09132022-173505-z46323-write',\n",
              "       'hse-09132022-115407-z22388-read',\n",
              "       'hse-09132022-115407-z22388-write',\n",
              "       'hse-09132022-113303-z72757-read',\n",
              "       'hse-09132022-113303-z72757-write',\n",
              "       'hse-09132022-191116-z81903-read',\n",
              "       'hse-09132022-191116-z81903-write',\n",
              "       'hse-09132022-170248-z17847-read',\n",
              "       'hse-09132022-170248-z17847-write',\n",
              "       'hse-09132022-202158-z98097-read',\n",
              "       'hse-09132022-202158-z98097-write',\n",
              "       'hse-09132022-215016-z2964-read',\n",
              "       'hse-09132022-215016-z2964-write',\n",
              "       'hse-09132022-182803-z7165-read',\n",
              "       'hse-09132022-182803-z7165-write',\n",
              "       'hse-09132022-110403-z84137-read',\n",
              "       'hse-09132022-110403-z84137-write',\n",
              "       'hse-09142022-000639-z63962-read',\n",
              "       'hse-09142022-000639-z63962-write',\n",
              "       'hse-09142022-013002-z96693-read',\n",
              "       'hse-09132022-172529-z16976-read',\n",
              "       'hse-09132022-172529-z16976-write',\n",
              "       'hse-09132022-112014-z42678-read',\n",
              "       'hse-09132022-112014-z42678-write',\n",
              "       'hse-09132022-200421-z4844-read',\n",
              "       'hse-09132022-200421-z4844-write',\n",
              "       'hse-09132022-164015-z82042-read',\n",
              "       'hse-09132022-164015-z82042-write',\n",
              "       'hse-09132022-120657-z13242-read',\n",
              "       'hse-09132022-120657-z13242-write'], dtype=object)"
            ]
          },
          "metadata": {},
          "execution_count": 23
        }
      ]
    },
    {
      "cell_type": "code",
      "source": [
        "# id + \"read\" or \"write\" done"
      ],
      "metadata": {
        "id": "N52yA5McfN0B"
      },
      "id": "N52yA5McfN0B",
      "execution_count": 24,
      "outputs": []
    },
    {
      "cell_type": "markdown",
      "id": "d62877b2-8cc1-41cf-b28c-f614cab1cd30",
      "metadata": {
        "id": "d62877b2-8cc1-41cf-b28c-f614cab1cd30"
      },
      "source": [
        "## Graphs"
      ]
    },
    {
      "cell_type": "code",
      "execution_count": 25,
      "id": "2bd5ca60-bb2a-4a0b-8266-99db0dc8f5e0",
      "metadata": {
        "tags": [],
        "colab": {
          "base_uri": "https://localhost:8080/",
          "height": 494
        },
        "id": "2bd5ca60-bb2a-4a0b-8266-99db0dc8f5e0",
        "outputId": "038edc83-0c03-43a7-8187-838a6bef5eda"
      },
      "outputs": [
        {
          "output_type": "display_data",
          "data": {
            "text/plain": [
              "<Figure size 1200x600 with 1 Axes>"
            ],
            "image/png": "[encoded data removed]"
          },
          "metadata": {}
        }
      ],
      "source": [
        "plt.figure(figsize=(12, 6))\n",
        "plt.scatter(y_tr[:, 0], y_tr[:, 1], marker='.', label='Observations', linewidth=1)\n",
        "\n",
        "plt.xlabel(\"iops\")\n",
        "plt.ylabel(\"lat\")\n",
        "plt.grid()\n",
        "plt.legend()\n",
        "plt.show()"
      ]
    },
    {
      "cell_type": "markdown",
      "source": [
        "## Scalers"
      ],
      "metadata": {
        "id": "Pi6CugtwObG6"
      },
      "id": "Pi6CugtwObG6"
    },
    {
      "cell_type": "code",
      "source": [
        "from sklearn.base import TransformerMixin, BaseEstimator\n",
        "import numpy as np\n",
        "from dataclasses import dataclass\n",
        "\n",
        "# from https://github.com/HEPML-AnomalyDetection/CATHODE/blob/4e96989296193da18508710afbfa3b37fffe5952/data_handler.py\n",
        "def logit_transform_inverse(data, datamin, datamax):\n",
        "    dataout = (datamin + datamax*np.exp(data))/(1 + np.exp(data))\n",
        "    return dataout\n",
        "\n",
        "def quick_logit(x, x_min, x_max, eps):\n",
        "    x_norm = (x-x_min)/(x_max-x_min)\n",
        "    x_norm = x_norm[((x_norm != 0) & (x_norm != 1)).all(axis=1)]\n",
        "    x_norm[x_norm == 0] += eps\n",
        "    x_norm[x_norm == 1] -= eps\n",
        "    logit = np.log(x_norm/(1-x_norm))\n",
        "    logit = logit[~np.isnan(logit).any(axis=1)]\n",
        "    return logit\n",
        "\n",
        "class LogitScaler(TransformerMixin, BaseEstimator):\n",
        "\n",
        "    def __init__(self, eps=1e-6):\n",
        "        super().__init__()\n",
        "        self.eps = eps\n",
        "        self.x_max = None\n",
        "        self.x_min = None\n",
        "\n",
        "    def fit(self, X, y=None):\n",
        "        self.x_min = np.min(X, axis=0) - self.eps\n",
        "        self.x_max = np.max(X, axis=0) + self.eps\n",
        "        return self\n",
        "\n",
        "    def transform(self, X):\n",
        "        return quick_logit(X, self.x_min, self.x_max, self.eps)\n",
        "\n",
        "    def inverse_transform(self, X):\n",
        "        return logit_transform_inverse(X, self.x_min, self.x_max)"
      ],
      "metadata": {
        "id": "txawSjD9Oflg"
      },
      "id": "txawSjD9Oflg",
      "execution_count": 26,
      "outputs": []
    },
    {
      "cell_type": "code",
      "source": [
        "from sklearn.preprocessing import StandardScaler\n",
        "from sklearn.pipeline import make_pipeline\n",
        "\n",
        "scaler = make_pipeline(LogitScaler(eps=0.1), StandardScaler())"
      ],
      "metadata": {
        "id": "heQVm2zJPcM5"
      },
      "id": "heQVm2zJPcM5",
      "execution_count": 27,
      "outputs": []
    },
    {
      "cell_type": "code",
      "source": [
        "y_tr_ss = scaler.fit_transform(train[['iops', 'lat']].values)\n",
        "y_test_ss = scaler.transform(test[['iops', 'lat']].values)"
      ],
      "metadata": {
        "colab": {
          "base_uri": "https://localhost:8080/"
        },
        "id": "Y1bsXvKhRHTH",
        "outputId": "30c5d718-570b-4b63-e664-95fed106c14c"
      },
      "id": "Y1bsXvKhRHTH",
      "execution_count": 28,
      "outputs": [
        {
          "output_type": "stream",
          "name": "stderr",
          "text": [
            "<ipython-input-26-a80eb4482932>:15: RuntimeWarning: invalid value encountered in log\n",
            "  logit = np.log(x_norm/(1-x_norm))\n"
          ]
        }
      ]
    },
    {
      "cell_type": "code",
      "source": [
        "stscaler = StandardScaler()"
      ],
      "metadata": {
        "id": "S2005JzqQlbP"
      },
      "id": "S2005JzqQlbP",
      "execution_count": 29,
      "outputs": []
    },
    {
      "cell_type": "code",
      "source": [
        "X_tr_ss = stscaler.fit_transform(train[['block_size', 'n_jobs', 'iodepth', 'read_fraction', 'io_type_num', 'n_disks']].values)\n",
        "X_test_ss = stscaler.transform(test[['block_size', 'n_jobs', 'iodepth', 'read_fraction', 'io_type_num', 'n_disks']].values)"
      ],
      "metadata": {
        "id": "2mu7NpRJSw-3"
      },
      "id": "2mu7NpRJSw-3",
      "execution_count": 30,
      "outputs": []
    },
    {
      "cell_type": "markdown",
      "source": [
        "## Final experiments"
      ],
      "metadata": {
        "id": "QFNmaoidCzzI"
      },
      "id": "QFNmaoidCzzI"
    },
    {
      "cell_type": "code",
      "source": [
        "from sklearn.preprocessing import StandardScaler\n",
        "from sklearn.pipeline import make_pipeline\n",
        "from probaforms.models import RealNVP"
      ],
      "metadata": {
        "id": "lM7wh9pldn0y"
      },
      "id": "lM7wh9pldn0y",
      "execution_count": 31,
      "outputs": []
    },
    {
      "cell_type": "code",
      "source": [
        "train = train\n",
        "scaler = make_pipeline(LogitScaler(eps=0.01), StandardScaler())\n",
        "y_tr_ss = scaler.fit_transform(train[['iops', 'lat']].values)\n",
        "# y_test_ss = scaler.transform(test[['iops', 'lat']].values)\n",
        "stscaler = StandardScaler()\n",
        "X_tr_ss = stscaler.fit_transform(train[['block_size', 'n_jobs', 'iodepth', 'read_fraction', 'io_type_num', 'n_disks']].values)\n",
        "# X_test_ss = stscaler.transform(test[['block_size', 'n_jobs', 'iodepth', 'read_fraction', 'io_type_num', 'n_disks']].values)\n",
        "\n",
        "model = RealNVP(lr=0.001, n_layers=12, n_epochs=100, batch_size=64) # 200\n",
        "model.fit(y_tr_ss, X_tr_ss) # (target, condition)"
      ],
      "metadata": {
        "id": "8TCLXx9tEyTc"
      },
      "id": "8TCLXx9tEyTc",
      "execution_count": 32,
      "outputs": []
    },
    {
      "cell_type": "markdown",
      "source": [
        "### RESULTS (TRAIN)"
      ],
      "metadata": {
        "id": "byqDvn9jzH5j"
      },
      "id": "byqDvn9jzH5j"
    },
    {
      "cell_type": "code",
      "source": [
        "from torch.utils.data import TensorDataset, DataLoader"
      ],
      "metadata": {
        "id": "YcbinX65zNRz"
      },
      "id": "YcbinX65zNRz",
      "execution_count": 33,
      "outputs": []
    },
    {
      "cell_type": "code",
      "source": [
        "ids = ['hse-09132022-234723-z24647-read', 'hse-09132022-155203-z5570-read',\n",
        "       'hse-09132022-234723-z24647-write', 'hse-09132022-155203-z5570-write']\n",
        "ztotal_iops = []\n",
        "ztotal_lat = []\n",
        "zgen_iops = []\n",
        "zgen_lat = []\n",
        "\n",
        "total_iops = []\n",
        "total_lat = []\n",
        "gen_iops = []\n",
        "gen_lat = []\n",
        "for i in range(len(ids)):\n",
        "    y_train = torch.tensor(train[train['id'] == ids[i]][['iops', 'lat']].values)\n",
        "    total_iops.append(y_train[:, 0])\n",
        "    total_lat.append(y_train[:, 1])\n",
        "    X_train = torch.tensor(train[train['id'] == ids[i]][['block_size', 'n_jobs', 'iodepth', 'read_fraction', 'io_type_num', 'n_disks']].values)\n",
        "    y_train_ss = scaler.transform(y_train)\n",
        "    X_train_ss = stscaler.transform(X_train)\n",
        "    y_tst = torch.tensor(y_train_ss, dtype=torch.float32)\n",
        "    X_tst = torch.tensor(X_train_ss, dtype=torch.float32)\n",
        "    # print(len(y_tst), len(X_tst))\n",
        "    dataset = TensorDataset(y_tst, X_tst)\n",
        "    results_iops = []\n",
        "    results_lat = []\n",
        "    for i, data in enumerate(DataLoader(dataset)):\n",
        "        y_data= data[0]\n",
        "        X_data = data[1]\n",
        "        for lay in model.nf.layers:\n",
        "            y_data, _ = lay.f(y_data, X_data)\n",
        "        # y_data = scaler.inverse_transform(y_data.detach())\n",
        "        y_data = y_data.detach()\n",
        "        results_iops.append(y_data[0][0])\n",
        "        results_lat.append(y_data[0][1])\n",
        "\n",
        "    y_gen = model.sample(stscaler.transform(X_train.clone().detach()))\n",
        "    y_gen = torch.tensor(y_gen, dtype=torch.float32)\n",
        "    gen_iops.append(scaler.inverse_transform(y_gen)[:, 0])\n",
        "    gen_lat.append(scaler.inverse_transform(y_gen)[:, 1])\n",
        "    dataset = TensorDataset(y_gen, X_tst)\n",
        "    genresults_iops = []\n",
        "    genresults_lat = []\n",
        "    for i, data in enumerate(DataLoader(dataset)):\n",
        "        y_data= data[0]\n",
        "        X_data = data[1]\n",
        "        for lay in model.nf.layers:\n",
        "            y_data, _ = lay.f(y_data, X_data)\n",
        "        # y_data = scaler.inverse_transform(y_data.detach())\n",
        "        y_data = y_data.detach()\n",
        "        genresults_iops.append(y_data[0][0])\n",
        "        genresults_lat.append(y_data[0][1])\n",
        "\n",
        "    ztotal_iops.append(results_iops)\n",
        "    ztotal_lat.append(results_lat)\n",
        "    zgen_iops.append(genresults_iops)\n",
        "    zgen_lat.append(genresults_lat)"
      ],
      "metadata": {
        "colab": {
          "base_uri": "https://localhost:8080/"
        },
        "id": "s_ZU_W2rzPUK",
        "outputId": "179e17c5-b3fd-4df8-b182-42b6ad69754c"
      },
      "id": "s_ZU_W2rzPUK",
      "execution_count": 34,
      "outputs": [
        {
          "output_type": "stream",
          "name": "stderr",
          "text": [
            "<ipython-input-26-a80eb4482932>:16: UserWarning: indexing with dtype torch.uint8 is now deprecated, please use a dtype torch.bool instead. (Triggered internally at ../aten/src/ATen/native/IndexingUtils.h:27.)\n",
            "  logit = logit[~np.isnan(logit).any(axis=1)]\n",
            "<ipython-input-26-a80eb4482932>:16: UserWarning: indexing with dtype torch.uint8 is now deprecated, please use a dtype torch.bool instead. (Triggered internally at ../aten/src/ATen/native/IndexingUtils.h:27.)\n",
            "  logit = logit[~np.isnan(logit).any(axis=1)]\n",
            "<ipython-input-26-a80eb4482932>:16: UserWarning: indexing with dtype torch.uint8 is now deprecated, please use a dtype torch.bool instead. (Triggered internally at ../aten/src/ATen/native/IndexingUtils.h:27.)\n",
            "  logit = logit[~np.isnan(logit).any(axis=1)]\n",
            "<ipython-input-26-a80eb4482932>:16: UserWarning: indexing with dtype torch.uint8 is now deprecated, please use a dtype torch.bool instead. (Triggered internally at ../aten/src/ATen/native/IndexingUtils.h:27.)\n",
            "  logit = logit[~np.isnan(logit).any(axis=1)]\n"
          ]
        }
      ]
    },
    {
      "cell_type": "code",
      "source": [
        "fig, (ax1, ax2) = plt.subplots(1, 2, figsize=(12, 6))\n",
        "\n",
        "ax1.scatter(ztotal_iops[0], ztotal_lat[0], marker='.', label='Z original', color='red', linewidth=1)\n",
        "ax1.scatter(zgen_iops[0], zgen_lat[0], marker='.', label='Gen Z', color='blue', linewidth=1)\n",
        "ax1.set_title(\"in Z\")\n",
        "ax1.axis('equal')\n",
        "ax1.set(xlabel='z1', ylabel='z2')\n",
        "ax1.grid()\n",
        "ax1.legend()\n",
        "\n",
        "ax2.scatter(total_iops[0], total_lat[0], marker='.', label='Original', color='red', linewidth=1)\n",
        "ax2.scatter(gen_iops[0], gen_lat[0], marker='.', label='Gen', color='blue', linewidth=1)\n",
        "ax2.set_title(\"in Real\")\n",
        "# ax2.axis('equal')\n",
        "ax2.set(xlabel='iops', ylabel='lat')\n",
        "ax2.grid()\n",
        "ax2.legend()"
      ],
      "metadata": {
        "colab": {
          "base_uri": "https://localhost:8080/",
          "height": 516
        },
        "id": "t7giIulnAs73",
        "outputId": "0183c217-a2bc-4547-92bc-b10b512fabfe"
      },
      "id": "t7giIulnAs73",
      "execution_count": 35,
      "outputs": [
        {
          "output_type": "execute_result",
          "data": {
            "text/plain": [
              "<matplotlib.legend.Legend at 0x7f4b3e418c40>"
            ]
          },
          "metadata": {},
          "execution_count": 35
        },
        {
          "output_type": "display_data",
          "data": {
            "text/plain": [
              "<Figure size 1200x600 with 2 Axes>"
            ],
            "image/png": "[encoded data removed]"
          },
          "metadata": {}
        }
      ]
    },
    {
      "cell_type": "code",
      "source": [
        "fig, (ax1, ax2) = plt.subplots(1, 2, figsize=(12, 6))\n",
        "\n",
        "ax1.scatter(ztotal_iops[1], ztotal_lat[1], marker='.', label='Z original', color='red', linewidth=1)\n",
        "ax1.scatter(zgen_iops[1], zgen_lat[1], marker='.', label='Gen Z', color='blue', linewidth=1)\n",
        "ax1.set_title(\"in Z\")\n",
        "ax1.axis('equal')\n",
        "ax1.set(xlabel='z1', ylabel='z2')\n",
        "ax1.grid()\n",
        "ax1.legend()\n",
        "\n",
        "ax2.scatter(total_iops[1], total_lat[1], marker='.', label='Original', color='red', linewidth=1)\n",
        "ax2.scatter(gen_iops[1], gen_lat[1], marker='.', label='Gen', color='blue', linewidth=1)\n",
        "ax2.set_title(\"in Real\")\n",
        "# ax2.axis('equal')\n",
        "ax2.set(xlabel='iops', ylabel='lat')\n",
        "ax2.grid()\n",
        "ax2.legend()"
      ],
      "metadata": {
        "colab": {
          "base_uri": "https://localhost:8080/",
          "height": 519
        },
        "id": "h-gHeoQ9AvrR",
        "outputId": "c6f7918a-54c5-4fe6-fc8e-d2378d3d3f7c"
      },
      "id": "h-gHeoQ9AvrR",
      "execution_count": 36,
      "outputs": [
        {
          "output_type": "execute_result",
          "data": {
            "text/plain": [
              "<matplotlib.legend.Legend at 0x7f4b3e106830>"
            ]
          },
          "metadata": {},
          "execution_count": 36
        },
        {
          "output_type": "display_data",
          "data": {
            "text/plain": [
              "<Figure size 1200x600 with 2 Axes>"
            ],
            "image/png": "[encoded data removed]"
          },
          "metadata": {}
        }
      ]
    },
    {
      "cell_type": "code",
      "source": [
        "fig, (ax1, ax2) = plt.subplots(1, 2, figsize=(12, 6))\n",
        "\n",
        "ax1.scatter(ztotal_iops[2], ztotal_lat[2], marker='.', label='Z original', color='red', linewidth=1)\n",
        "ax1.scatter(zgen_iops[2], zgen_lat[2], marker='.', label='Gen Z', color='blue', linewidth=1)\n",
        "ax1.set_title(\"in Z\")\n",
        "ax1.axis('equal')\n",
        "ax1.set(xlabel='z1', ylabel='z2')\n",
        "ax1.grid()\n",
        "ax1.legend()\n",
        "\n",
        "ax2.scatter(total_iops[2], total_lat[2], marker='.', label='Original', color='red', linewidth=1)\n",
        "ax2.scatter(gen_iops[2], gen_lat[2], marker='.', label='Gen', color='blue', linewidth=1)\n",
        "ax2.set_title(\"in Real\")\n",
        "# ax2.axis('equal')\n",
        "ax2.set(xlabel='iops', ylabel='lat')\n",
        "ax2.grid()\n",
        "ax2.legend()"
      ],
      "metadata": {
        "colab": {
          "base_uri": "https://localhost:8080/",
          "height": 519
        },
        "id": "2MCa4QGrAwME",
        "outputId": "4d705399-4eff-4fda-9ec4-1fa8c97441a8"
      },
      "id": "2MCa4QGrAwME",
      "execution_count": 37,
      "outputs": [
        {
          "output_type": "execute_result",
          "data": {
            "text/plain": [
              "<matplotlib.legend.Legend at 0x7f4b3e385ae0>"
            ]
          },
          "metadata": {},
          "execution_count": 37
        },
        {
          "output_type": "display_data",
          "data": {
            "text/plain": [
              "<Figure size 1200x600 with 2 Axes>"
            ],
            "image/png": "[encoded data removed]"
          },
          "metadata": {}
        }
      ]
    },
    {
      "cell_type": "code",
      "source": [
        "fig, (ax1, ax2) = plt.subplots(1, 2, figsize=(12, 6))\n",
        "\n",
        "ax1.scatter(ztotal_iops[3], ztotal_lat[3], marker='.', label='Z original', color='red', linewidth=1)\n",
        "ax1.scatter(zgen_iops[3], zgen_lat[3], marker='.', label='Gen Z', color='blue', linewidth=1)\n",
        "ax1.set_title(\"in Z\")\n",
        "ax1.axis('equal')\n",
        "ax1.set(xlabel='z1', ylabel='z2')\n",
        "ax1.grid()\n",
        "ax1.legend()\n",
        "\n",
        "ax2.scatter(total_iops[3], total_lat[3], marker='.', label='Original', color='red', linewidth=1)\n",
        "ax2.scatter(gen_iops[3], gen_lat[3], marker='.', label='Gen', color='blue', linewidth=1)\n",
        "ax2.set_title(\"in Real\")\n",
        "# ax2.axis('equal')\n",
        "ax2.set(xlabel='iops', ylabel='lat')\n",
        "ax2.grid()\n",
        "ax2.legend()"
      ],
      "metadata": {
        "colab": {
          "base_uri": "https://localhost:8080/",
          "height": 519
        },
        "id": "olGJEYG-AwfZ",
        "outputId": "9aeeeb9f-16cc-4dc6-9dc2-693d53586994"
      },
      "id": "olGJEYG-AwfZ",
      "execution_count": 38,
      "outputs": [
        {
          "output_type": "execute_result",
          "data": {
            "text/plain": [
              "<matplotlib.legend.Legend at 0x7f4b3e293100>"
            ]
          },
          "metadata": {},
          "execution_count": 38
        },
        {
          "output_type": "display_data",
          "data": {
            "text/plain": [
              "<Figure size 1200x600 with 2 Axes>"
            ],
            "image/png": "[encoded data removed]"
          },
          "metadata": {}
        }
      ]
    },
    {
      "cell_type": "markdown",
      "source": [
        "### RESULTS (TEST)"
      ],
      "metadata": {
        "id": "_s3hIqPBYuXP"
      },
      "id": "_s3hIqPBYuXP"
    },
    {
      "cell_type": "code",
      "source": [
        "from torch.utils.data import TensorDataset, DataLoader"
      ],
      "metadata": {
        "id": "zTqfKjDdfAXa"
      },
      "id": "zTqfKjDdfAXa",
      "execution_count": 39,
      "outputs": []
    },
    {
      "cell_type": "code",
      "source": [
        "ids = ['hse-09132022-203942-z36542-read', 'hse-09132022-192053-z87989-read',\n",
        "       'hse-09132022-203942-z36542-write', 'hse-09132022-192053-z87989-write']\n",
        "ztotal_iops = []\n",
        "ztotal_lat = []\n",
        "zgen_iops = []\n",
        "zgen_lat = []\n",
        "\n",
        "total_iops = []\n",
        "total_lat = []\n",
        "gen_iops = []\n",
        "gen_lat = []\n",
        "for i in range(len(ids)):\n",
        "    y_test = torch.tensor(test[test['id'] == ids[i]][['iops', 'lat']].values)\n",
        "    total_iops.append(y_test[:, 0])\n",
        "    total_lat.append(y_test[:, 1])\n",
        "    X_test = torch.tensor(test[test['id'] == ids[i]][['block_size', 'n_jobs', 'iodepth', 'read_fraction', 'io_type_num', 'n_disks']].values)\n",
        "    y_test_ss = scaler.transform(y_test)\n",
        "    X_test_ss = stscaler.transform(X_test)\n",
        "    y_tst = torch.tensor(y_test_ss, dtype=torch.float32)\n",
        "    X_tst = torch.tensor(X_test_ss, dtype=torch.float32)\n",
        "    # print(len(y_tst), len(X_tst))\n",
        "    dataset = TensorDataset(y_tst, X_tst)\n",
        "    results_iops = []\n",
        "    results_lat = []\n",
        "    for i, data in enumerate(DataLoader(dataset)):\n",
        "        y_data= data[0]\n",
        "        X_data = data[1]\n",
        "        for lay in model.nf.layers:\n",
        "            y_data, _ = lay.f(y_data, X_data)\n",
        "        # y_data = scaler.inverse_transform(y_data.detach())\n",
        "        y_data = y_data.detach()\n",
        "        results_iops.append(y_data[0][0])\n",
        "        results_lat.append(y_data[0][1])\n",
        "\n",
        "    y_gen = model.sample(stscaler.transform(X_test.clone().detach()))\n",
        "    y_gen = torch.tensor(y_gen, dtype=torch.float32)\n",
        "    gen_iops.append(scaler.inverse_transform(y_gen)[:, 0])\n",
        "    gen_lat.append(scaler.inverse_transform(y_gen)[:, 1])\n",
        "    dataset = TensorDataset(y_gen, X_tst)\n",
        "    genresults_iops = []\n",
        "    genresults_lat = []\n",
        "    for i, data in enumerate(DataLoader(dataset)):\n",
        "        y_data= data[0]\n",
        "        X_data = data[1]\n",
        "        for lay in model.nf.layers:\n",
        "            y_data, _ = lay.f(y_data, X_data)\n",
        "        # y_data = scaler.inverse_transform(y_data.detach())\n",
        "        y_data = y_data.detach()\n",
        "        genresults_iops.append(y_data[0][0])\n",
        "        genresults_lat.append(y_data[0][1])\n",
        "\n",
        "    ztotal_iops.append(results_iops)\n",
        "    ztotal_lat.append(results_lat)\n",
        "    zgen_iops.append(genresults_iops)\n",
        "    zgen_lat.append(genresults_lat)"
      ],
      "metadata": {
        "colab": {
          "base_uri": "https://localhost:8080/"
        },
        "id": "WMlELSWVS9I7",
        "outputId": "9cf56a82-00cb-4732-fb5a-25498061776e"
      },
      "id": "WMlELSWVS9I7",
      "execution_count": 40,
      "outputs": [
        {
          "output_type": "stream",
          "name": "stderr",
          "text": [
            "<ipython-input-26-a80eb4482932>:16: UserWarning: indexing with dtype torch.uint8 is now deprecated, please use a dtype torch.bool instead. (Triggered internally at ../aten/src/ATen/native/IndexingUtils.h:27.)\n",
            "  logit = logit[~np.isnan(logit).any(axis=1)]\n",
            "<ipython-input-26-a80eb4482932>:16: UserWarning: indexing with dtype torch.uint8 is now deprecated, please use a dtype torch.bool instead. (Triggered internally at ../aten/src/ATen/native/IndexingUtils.h:27.)\n",
            "  logit = logit[~np.isnan(logit).any(axis=1)]\n",
            "<ipython-input-26-a80eb4482932>:16: UserWarning: indexing with dtype torch.uint8 is now deprecated, please use a dtype torch.bool instead. (Triggered internally at ../aten/src/ATen/native/IndexingUtils.h:27.)\n",
            "  logit = logit[~np.isnan(logit).any(axis=1)]\n",
            "<ipython-input-26-a80eb4482932>:16: UserWarning: indexing with dtype torch.uint8 is now deprecated, please use a dtype torch.bool instead. (Triggered internally at ../aten/src/ATen/native/IndexingUtils.h:27.)\n",
            "  logit = logit[~np.isnan(logit).any(axis=1)]\n"
          ]
        }
      ]
    },
    {
      "cell_type": "code",
      "source": [
        "fig, (ax1, ax2) = plt.subplots(1, 2, figsize=(12, 6))\n",
        "\n",
        "ax1.scatter(ztotal_iops[0], ztotal_lat[0], marker='.', label='Z original', color='red', linewidth=1)\n",
        "ax1.scatter(zgen_iops[0], zgen_lat[0], marker='.', label='Gen Z', color='blue', linewidth=1)\n",
        "ax1.set_title(\"in Z\")\n",
        "ax1.axis('equal')\n",
        "ax1.set(xlabel='z1', ylabel='z2')\n",
        "ax1.grid()\n",
        "ax1.legend()\n",
        "\n",
        "ax2.scatter(total_iops[0], total_lat[0], marker='.', label='Original', color='red', linewidth=1)\n",
        "ax2.scatter(gen_iops[0], gen_lat[0], marker='.', label='Gen', color='blue', linewidth=1)\n",
        "ax2.set_title(\"in Real\")\n",
        "# ax2.axis('equal')\n",
        "ax2.set(xlabel='iops', ylabel='lat')\n",
        "ax2.grid()\n",
        "ax2.legend()"
      ],
      "metadata": {
        "colab": {
          "base_uri": "https://localhost:8080/",
          "height": 512
        },
        "id": "3R8hj-zJ3b6z",
        "outputId": "aeea055f-bac8-4c43-823e-35dc93c06aec"
      },
      "id": "3R8hj-zJ3b6z",
      "execution_count": 41,
      "outputs": [
        {
          "output_type": "execute_result",
          "data": {
            "text/plain": [
              "<matplotlib.legend.Legend at 0x7f4b3de47160>"
            ]
          },
          "metadata": {},
          "execution_count": 41
        },
        {
          "output_type": "display_data",
          "data": {
            "text/plain": [
              "<Figure size 1200x600 with 2 Axes>"
            ],
            "image/png": "[encoded data removed]"
          },
          "metadata": {}
        }
      ]
    },
    {
      "cell_type": "code",
      "source": [
        "fig, (ax1, ax2) = plt.subplots(1, 2, figsize=(12, 6))\n",
        "\n",
        "ax1.scatter(ztotal_iops[1], ztotal_lat[1], marker='.', label='Z original', color='red', linewidth=1)\n",
        "ax1.scatter(zgen_iops[1], zgen_lat[1], marker='.', label='Gen Z', color='blue', linewidth=1)\n",
        "ax1.set_title(\"in Z\")\n",
        "ax1.axis('equal')\n",
        "ax1.set(xlabel='z1', ylabel='z2')\n",
        "ax1.grid()\n",
        "ax1.legend()\n",
        "\n",
        "ax2.scatter(total_iops[1], total_lat[1], marker='.', label='Original', color='red', linewidth=1)\n",
        "ax2.scatter(gen_iops[1], gen_lat[1], marker='.', label='Gen', color='blue', linewidth=1)\n",
        "ax2.set_title(\"in Real\")\n",
        "# ax2.axis('equal')\n",
        "ax2.set(xlabel='iops', ylabel='lat')\n",
        "ax2.grid()\n",
        "ax2.legend()"
      ],
      "metadata": {
        "colab": {
          "base_uri": "https://localhost:8080/",
          "height": 512
        },
        "id": "A5X_PPaJar4S",
        "outputId": "f6f11484-021e-4ad1-f93f-b1656339e54c"
      },
      "id": "A5X_PPaJar4S",
      "execution_count": 42,
      "outputs": [
        {
          "output_type": "execute_result",
          "data": {
            "text/plain": [
              "<matplotlib.legend.Legend at 0x7f4b3dd39b10>"
            ]
          },
          "metadata": {},
          "execution_count": 42
        },
        {
          "output_type": "display_data",
          "data": {
            "text/plain": [
              "<Figure size 1200x600 with 2 Axes>"
            ],
            "image/png": "[encoded data removed]"
          },
          "metadata": {}
        }
      ]
    },
    {
      "cell_type": "code",
      "source": [
        "fig, (ax1, ax2) = plt.subplots(1, 2, figsize=(12, 6))\n",
        "\n",
        "ax1.scatter(ztotal_iops[2], ztotal_lat[2], marker='.', label='Z original', color='red', linewidth=1)\n",
        "ax1.scatter(zgen_iops[2], zgen_lat[2], marker='.', label='Gen Z', color='blue', linewidth=1)\n",
        "ax1.set_title(\"in Z\")\n",
        "ax1.axis('equal')\n",
        "ax1.set(xlabel='z1', ylabel='z2')\n",
        "ax1.grid()\n",
        "ax1.legend()\n",
        "\n",
        "ax2.scatter(total_iops[2], total_lat[2], marker='.', label='Original', color='red', linewidth=1)\n",
        "ax2.scatter(gen_iops[2], gen_lat[2], marker='.', label='Gen', color='blue', linewidth=1)\n",
        "ax2.set_title(\"in Real\")\n",
        "# ax2.axis('equal')\n",
        "ax2.set(xlabel='iops', ylabel='lat')\n",
        "ax2.grid()\n",
        "ax2.legend()"
      ],
      "metadata": {
        "colab": {
          "base_uri": "https://localhost:8080/",
          "height": 516
        },
        "id": "l-qaL4vJarqH",
        "outputId": "d7e3e0a2-978c-44e3-b642-168ddfdf82fe"
      },
      "id": "l-qaL4vJarqH",
      "execution_count": 43,
      "outputs": [
        {
          "output_type": "execute_result",
          "data": {
            "text/plain": [
              "<matplotlib.legend.Legend at 0x7f4b3dd93fa0>"
            ]
          },
          "metadata": {},
          "execution_count": 43
        },
        {
          "output_type": "display_data",
          "data": {
            "text/plain": [
              "<Figure size 1200x600 with 2 Axes>"
            ],
            "image/png": "[encoded data removed]"
          },
          "metadata": {}
        }
      ]
    },
    {
      "cell_type": "code",
      "source": [
        "fig, (ax1, ax2) = plt.subplots(1, 2, figsize=(12, 6))\n",
        "\n",
        "ax1.scatter(ztotal_iops[3], ztotal_lat[3], marker='.', label='Z original', color='red', linewidth=1)\n",
        "ax1.scatter(zgen_iops[3], zgen_lat[3], marker='.', label='Gen Z', color='blue', linewidth=1)\n",
        "ax1.set_title(\"in Z\")\n",
        "ax1.axis('equal')\n",
        "ax1.set(xlabel='z1', ylabel='z2')\n",
        "ax1.grid()\n",
        "ax1.legend()\n",
        "\n",
        "ax2.scatter(total_iops[3], total_lat[3], marker='.', label='Original', color='red', linewidth=1)\n",
        "ax2.scatter(gen_iops[3], gen_lat[3], marker='.', label='Gen', color='blue', linewidth=1)\n",
        "ax2.set_title(\"in Real\")\n",
        "# ax2.axis('equal')\n",
        "ax2.set(xlabel='iops', ylabel='lat')\n",
        "ax2.grid()\n",
        "ax2.legend()"
      ],
      "metadata": {
        "colab": {
          "base_uri": "https://localhost:8080/",
          "height": 519
        },
        "id": "4udVI5QT8pvW",
        "outputId": "78c73ce4-e9e6-4601-eb98-9378ce32fba4"
      },
      "id": "4udVI5QT8pvW",
      "execution_count": 44,
      "outputs": [
        {
          "output_type": "execute_result",
          "data": {
            "text/plain": [
              "<matplotlib.legend.Legend at 0x7f4b3dcfa0b0>"
            ]
          },
          "metadata": {},
          "execution_count": 44
        },
        {
          "output_type": "display_data",
          "data": {
            "text/plain": [
              "<Figure size 1200x600 with 2 Axes>"
            ],
            "image/png": "[encoded data removed]"
          },
          "metadata": {}
        }
      ]
    },
    {
      "cell_type": "markdown",
      "source": [
        "проверить типы dataloader' и dtype в тензорах.\n",
        "\n",
        "Done. сделала через даталоадер"
      ],
      "metadata": {
        "id": "-wFqIJeUprAe"
      },
      "id": "-wFqIJeUprAe"
    },
    {
      "cell_type": "markdown",
      "source": [
        "1. Рид и райт !Done\n",
        "2. Сделать облако в центре(?) и одинаковые оси !Done\n",
        "3. Сделать графики в прямом пространстве и в пространстве z !Done\n",
        "4. Побольше картинок !Done"
      ],
      "metadata": {
        "id": "OfFSphKm0ik3"
      },
      "id": "OfFSphKm0ik3"
    },
    {
      "cell_type": "markdown",
      "source": [
        "'hse-09132022-180712-z63065-read'"
      ],
      "metadata": {
        "id": "v-dTryXK0qc5"
      },
      "id": "v-dTryXK0qc5"
    },
    {
      "cell_type": "markdown",
      "source": [
        "## aaa"
      ],
      "metadata": {
        "id": "E_x63iDoF3ke"
      },
      "id": "E_x63iDoF3ke"
    },
    {
      "cell_type": "markdown",
      "source": [
        "это код когда я просто проверяла модельку, запускать не нада"
      ],
      "metadata": {
        "id": "HQMJAlURNbj4"
      },
      "id": "HQMJAlURNbj4"
    },
    {
      "cell_type": "code",
      "source": [
        "plt.figure(figsize=(12, 6))\n",
        "plt.scatter(y_new[0], y_new[1], marker='.', label='Observations', linewidth=1)\n",
        "\n",
        "plt.xlabel(\"iops\")\n",
        "plt.ylabel(\"lat\")\n",
        "plt.grid()\n",
        "plt.legend()\n",
        "plt.show()"
      ],
      "metadata": {
        "id": "QmPxKrCChSGG"
      },
      "id": "QmPxKrCChSGG",
      "execution_count": null,
      "outputs": []
    },
    {
      "cell_type": "code",
      "source": [
        "results1 = []\n",
        "results2 = []\n",
        "results3 = []\n",
        "numb = 10 # 10\n",
        "\n",
        "for i in range(numb):\n",
        "  print(i)\n",
        "  ids = pd.unique(train[['id']]. values.ravel())\n",
        "  id1 = np.array([np.random.sample() for k in range(len(ids))])\n",
        "  ar = []\n",
        "  for j in range(len(ids)):\n",
        "    if id1[j] <= 0.7:\n",
        "      ar.append(ids[j])\n",
        "  train = train.loc[train['id'].isin(ar)]\n",
        "  scaler = make_pipeline(LogitScaler(eps=0.01), StandardScaler())\n",
        "  y_tr_ss = scaler.fit_transform(train[['iops', 'lat']].values)\n",
        "  y_test_ss = scaler.transform(test[['iops', 'lat']].values)\n",
        "  stscaler = StandardScaler()\n",
        "  X_tr_ss = stscaler.fit_transform(train[['block_size', 'n_jobs', 'iodepth', 'read_fraction', 'io_type_num', 'n_disks']].values)\n",
        "  X_test_ss = stscaler.transform(test[['block_size', 'n_jobs', 'iodepth', 'read_fraction', 'io_type_num', 'n_disks']].values)\n",
        "  # model\n",
        "  model = RealNVP(lr=0.001, n_layers=24, n_epochs=200, batch_size=64) # 200\n",
        "  model.fit(y_tr_ss, X_tr_ss) # (target, condition)\n",
        "  # samples 1\n",
        "  y_test = torch.tensor(test[test['id'] == 'hse-09132022-180712-z63065'][['iops', 'lat']].values)\n",
        "  X_test = torch.tensor(test[test['id'] == 'hse-09132022-180712-z63065'][['block_size', 'n_jobs', 'iodepth', 'read_fraction', 'io_type_num', 'n_disks']].values)\n",
        "  y_gen = model.sample(stscaler.transform(X_test.clone().detach()))\n",
        "  y_gen = scaler.inverse_transform(y_gen)\n",
        "  if i == 0:\n",
        "    results1.append(y_test)\n",
        "  results1.append(y_gen)\n",
        "  # samples 2\n",
        "  y_test_2 = torch.tensor(test[test['id'] == 'hse-09132022-203942-z36542'][['iops', 'lat']].values)\n",
        "  X_test_2 = torch.tensor(test[test['id'] == 'hse-09132022-203942-z36542'][['block_size', 'n_jobs', 'iodepth', 'read_fraction', 'io_type_num', 'n_disks']].values)\n",
        "  y_gen_2 = model.sample(stscaler.transform(X_test_2.clone().detach()))\n",
        "  y_gen_2 = scaler.inverse_transform(y_gen_2)\n",
        "  if i == 0:\n",
        "    results2.append(y_test_2)\n",
        "  results2.append(y_gen_2)\n",
        "  # samples 3\n",
        "  y_test_3 = torch.tensor(test[test['id'] == 'hse-09132022-192053-z87989'][['iops', 'lat']].values)\n",
        "  X_test_3 = torch.tensor(test[test['id'] == 'hse-09132022-192053-z87989'][['block_size', 'n_jobs', 'iodepth', 'read_fraction', 'io_type_num', 'n_disks']].values)\n",
        "  y_gen_3 = model.sample(stscaler.transform(X_test_3.clone().detach()))\n",
        "  y_gen_3 = scaler.inverse_transform(y_gen_3)\n",
        "  if i == 0:\n",
        "    results3.append(y_test_3)\n",
        "  results3.append(y_gen_3)"
      ],
      "metadata": {
        "id": "Xr20CF8XEaDD",
        "colab": {
          "base_uri": "https://localhost:8080/"
        },
        "outputId": "53c13764-c26e-4bb6-fbc1-20cb825398b8"
      },
      "id": "Xr20CF8XEaDD",
      "execution_count": null,
      "outputs": [
        {
          "output_type": "stream",
          "name": "stdout",
          "text": [
            "0\n"
          ]
        },
        {
          "output_type": "stream",
          "name": "stderr",
          "text": [
            "<ipython-input-20-a80eb4482932>:15: RuntimeWarning: invalid value encountered in log\n",
            "  logit = np.log(x_norm/(1-x_norm))\n"
          ]
        },
        {
          "output_type": "stream",
          "name": "stdout",
          "text": [
            "1\n"
          ]
        },
        {
          "output_type": "stream",
          "name": "stderr",
          "text": [
            "<ipython-input-20-a80eb4482932>:15: RuntimeWarning: invalid value encountered in log\n",
            "  logit = np.log(x_norm/(1-x_norm))\n"
          ]
        },
        {
          "output_type": "stream",
          "name": "stdout",
          "text": [
            "2\n"
          ]
        },
        {
          "output_type": "stream",
          "name": "stderr",
          "text": [
            "<ipython-input-20-a80eb4482932>:15: RuntimeWarning: invalid value encountered in log\n",
            "  logit = np.log(x_norm/(1-x_norm))\n"
          ]
        },
        {
          "output_type": "stream",
          "name": "stdout",
          "text": [
            "3\n"
          ]
        },
        {
          "output_type": "stream",
          "name": "stderr",
          "text": [
            "<ipython-input-20-a80eb4482932>:15: RuntimeWarning: invalid value encountered in log\n",
            "  logit = np.log(x_norm/(1-x_norm))\n"
          ]
        }
      ]
    },
    {
      "cell_type": "code",
      "source": [
        "colors = np.array([\"blue\",\"red\",\"green\",\"yellow\",\"pink\",\"black\",\"orange\",\"purple\",\"brown\",\"cyan\",\"magenta\"])"
      ],
      "metadata": {
        "id": "YYP5FM9EJqBB"
      },
      "id": "YYP5FM9EJqBB",
      "execution_count": null,
      "outputs": []
    },
    {
      "cell_type": "code",
      "source": [
        "plt.figure(figsize=(12, 6))\n",
        "\n",
        "plt.scatter(results1[0][:, 0], results1[0][:, 1], marker='.', label='Observations', color=colors[0], linewidth=1)\n",
        "for i in range(1, numb+1):\n",
        "  plt.scatter(results1[i][:, 0], results1[i][:, 1], marker='.', label='Generated with NF', color=colors[i], linewidth=1)\n",
        "\n",
        "plt.xlabel(\"iops\")\n",
        "plt.ylabel(\"lat\")\n",
        "plt.grid()\n",
        "plt.legend()\n",
        "plt.show()"
      ],
      "metadata": {
        "id": "M46amekBIEAk"
      },
      "id": "M46amekBIEAk",
      "execution_count": null,
      "outputs": []
    },
    {
      "cell_type": "code",
      "source": [
        "plt.figure(figsize=(12, 6))\n",
        "\n",
        "plt.scatter(results2[0][:, 0], results2[0][:, 1], marker='.', label='Observations', color=colors[0], linewidth=1)\n",
        "for i in range(1, numb+1):\n",
        "  plt.scatter(results2[i][:, 0], results2[i][:, 1], marker='.', label='Generated with NF', color=colors[i], linewidth=1)\n",
        "\n",
        "plt.xlabel(\"iops\")\n",
        "plt.ylabel(\"lat\")\n",
        "plt.grid()\n",
        "plt.legend()\n",
        "plt.show()"
      ],
      "metadata": {
        "id": "UX_Xe9w-I_Ix"
      },
      "id": "UX_Xe9w-I_Ix",
      "execution_count": null,
      "outputs": []
    },
    {
      "cell_type": "code",
      "source": [
        "plt.figure(figsize=(12, 6))\n",
        "\n",
        "plt.scatter(results3[0][:, 0], results3[0][:, 1], marker='.', label='Observations', color=colors[0], linewidth=1)\n",
        "for i in range(1, numb+1):\n",
        "  plt.scatter(results3[i][:, 0], results3[i][:, 1], marker='.', label='Generated with NF', color=colors[i], linewidth=1)\n",
        "\n",
        "plt.xlabel(\"iops\")\n",
        "plt.ylabel(\"lat\")\n",
        "plt.grid()\n",
        "plt.legend()\n",
        "plt.show()"
      ],
      "metadata": {
        "id": "-CCz2a4zJCpP"
      },
      "id": "-CCz2a4zJCpP",
      "execution_count": null,
      "outputs": []
    }
  ],
  "metadata": {
    "kernelspec": {
      "display_name": "Python 3",
      "name": "python3"
    },
    "language_info": {
      "codemirror_mode": {
        "name": "ipython",
        "version": 3
      },
      "file_extension": ".py",
      "mimetype": "text/x-python",
      "name": "python",
      "nbconvert_exporter": "python",
      "pygments_lexer": "ipython3",
      "version": "3.9.17"
    },
    "colab": {
      "provenance": [],
      "collapsed_sections": [
        "e3de7c62-a3f5-4bca-ae02-e7f982bb63ae",
        "d62877b2-8cc1-41cf-b28c-f614cab1cd30",
        "Pi6CugtwObG6",
        "E_x63iDoF3ke"
      ]
    }
  },
  "nbformat": 4,
  "nbformat_minor": 5
}