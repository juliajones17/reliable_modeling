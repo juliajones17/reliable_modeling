{
  "cells": [
    {
      "cell_type": "markdown",
      "id": "fd95b73f-b863-4e27-9d8b-1110b5c6ca53",
      "metadata": {
        "id": "fd95b73f-b863-4e27-9d8b-1110b5c6ca53"
      },
      "source": [
        "# PPProjecct"
      ]
    },
    {
      "cell_type": "code",
      "source": [
        "!pip install probaforms -U"
      ],
      "metadata": {
        "id": "VPrq73-HfisS"
      },
      "id": "VPrq73-HfisS",
      "execution_count": null,
      "outputs": []
    },
    {
      "cell_type": "markdown",
      "id": "e3de7c62-a3f5-4bca-ae02-e7f982bb63ae",
      "metadata": {
        "id": "e3de7c62-a3f5-4bca-ae02-e7f982bb63ae"
      },
      "source": [
        "## Data"
      ]
    },
    {
      "cell_type": "code",
      "execution_count": null,
      "id": "8e353c33-f32c-4fd6-942a-2fb1a078a505",
      "metadata": {
        "id": "8e353c33-f32c-4fd6-942a-2fb1a078a505"
      },
      "outputs": [],
      "source": [
        "import pandas as pd\n",
        "import numpy as np\n",
        "import torch\n",
        "import matplotlib.pyplot as plt"
      ]
    },
    {
      "cell_type": "code",
      "execution_count": null,
      "id": "ad5843a8-f7ae-4afe-a8b3-85afb3acfd8b",
      "metadata": {
        "tags": [],
        "colab": {
          "base_uri": "https://localhost:8080/"
        },
        "id": "ad5843a8-f7ae-4afe-a8b3-85afb3acfd8b",
        "outputId": "889e18c2-c290-4da4-9aaa-8b8abff89430"
      },
      "outputs": [
        {
          "output_type": "execute_result",
          "data": {
            "text/plain": [
              "     iops        lat  block_size  n_jobs  iodepth  read_fraction load_type  \\\n",
              "0  712511  386627.74           8      46        6            100    random   \n",
              "1  709311  388112.33           8      46        6            100    random   \n",
              "2  712464  386384.72           8      46        6            100    random   \n",
              "3  711226  387053.72           8      46        6            100    random   \n",
              "4  710919  387191.78           8      46        6            100    random   \n",
              "\n",
              "  io_type raid  n_disks device_type  offset                         id  \n",
              "0    read  4+1       24        nvme       0  hse-09142022-013313-z3769  \n",
              "1    read  4+1       24        nvme       0  hse-09142022-013313-z3769  \n",
              "2    read  4+1       24        nvme       0  hse-09142022-013313-z3769  \n",
              "3    read  4+1       24        nvme       0  hse-09142022-013313-z3769  \n",
              "4    read  4+1       24        nvme       0  hse-09142022-013313-z3769  "
            ],
            "text/html": [
              "\n",
              "  <div id=\"df-3b438148-a8cc-46d8-8a9d-37331c619b43\" class=\"colab-df-container\">\n",
              "    <div>\n",
              "<style scoped>\n",
              "    .dataframe tbody tr th:only-of-type {\n",
              "        vertical-align: middle;\n",
              "    }\n",
              "\n",
              "    .dataframe tbody tr th {\n",
              "        vertical-align: top;\n",
              "    }\n",
              "\n",
              "    .dataframe thead th {\n",
              "        text-align: right;\n",
              "    }\n",
              "</style>\n",
              "<table border=\"1\" class=\"dataframe\">\n",
              "  <thead>\n",
              "    <tr style=\"text-align: right;\">\n",
              "      <th></th>\n",
              "      <th>iops</th>\n",
              "      <th>lat</th>\n",
              "      <th>block_size</th>\n",
              "      <th>n_jobs</th>\n",
              "      <th>iodepth</th>\n",
              "      <th>read_fraction</th>\n",
              "      <th>load_type</th>\n",
              "      <th>io_type</th>\n",
              "      <th>raid</th>\n",
              "      <th>n_disks</th>\n",
              "      <th>device_type</th>\n",
              "      <th>offset</th>\n",
              "      <th>id</th>\n",
              "    </tr>\n",
              "  </thead>\n",
              "  <tbody>\n",
              "    <tr>\n",
              "      <th>0</th>\n",
              "      <td>712511</td>\n",
              "      <td>386627.74</td>\n",
              "      <td>8</td>\n",
              "      <td>46</td>\n",
              "      <td>6</td>\n",
              "      <td>100</td>\n",
              "      <td>random</td>\n",
              "      <td>read</td>\n",
              "      <td>4+1</td>\n",
              "      <td>24</td>\n",
              "      <td>nvme</td>\n",
              "      <td>0</td>\n",
              "      <td>hse-09142022-013313-z3769</td>\n",
              "    </tr>\n",
              "    <tr>\n",
              "      <th>1</th>\n",
              "      <td>709311</td>\n",
              "      <td>388112.33</td>\n",
              "      <td>8</td>\n",
              "      <td>46</td>\n",
              "      <td>6</td>\n",
              "      <td>100</td>\n",
              "      <td>random</td>\n",
              "      <td>read</td>\n",
              "      <td>4+1</td>\n",
              "      <td>24</td>\n",
              "      <td>nvme</td>\n",
              "      <td>0</td>\n",
              "      <td>hse-09142022-013313-z3769</td>\n",
              "    </tr>\n",
              "    <tr>\n",
              "      <th>2</th>\n",
              "      <td>712464</td>\n",
              "      <td>386384.72</td>\n",
              "      <td>8</td>\n",
              "      <td>46</td>\n",
              "      <td>6</td>\n",
              "      <td>100</td>\n",
              "      <td>random</td>\n",
              "      <td>read</td>\n",
              "      <td>4+1</td>\n",
              "      <td>24</td>\n",
              "      <td>nvme</td>\n",
              "      <td>0</td>\n",
              "      <td>hse-09142022-013313-z3769</td>\n",
              "    </tr>\n",
              "    <tr>\n",
              "      <th>3</th>\n",
              "      <td>711226</td>\n",
              "      <td>387053.72</td>\n",
              "      <td>8</td>\n",
              "      <td>46</td>\n",
              "      <td>6</td>\n",
              "      <td>100</td>\n",
              "      <td>random</td>\n",
              "      <td>read</td>\n",
              "      <td>4+1</td>\n",
              "      <td>24</td>\n",
              "      <td>nvme</td>\n",
              "      <td>0</td>\n",
              "      <td>hse-09142022-013313-z3769</td>\n",
              "    </tr>\n",
              "    <tr>\n",
              "      <th>4</th>\n",
              "      <td>710919</td>\n",
              "      <td>387191.78</td>\n",
              "      <td>8</td>\n",
              "      <td>46</td>\n",
              "      <td>6</td>\n",
              "      <td>100</td>\n",
              "      <td>random</td>\n",
              "      <td>read</td>\n",
              "      <td>4+1</td>\n",
              "      <td>24</td>\n",
              "      <td>nvme</td>\n",
              "      <td>0</td>\n",
              "      <td>hse-09142022-013313-z3769</td>\n",
              "    </tr>\n",
              "  </tbody>\n",
              "</table>\n",
              "</div>\n",
              "    <div class=\"colab-df-buttons\">\n",
              "\n",
              "  <div class=\"colab-df-container\">\n",
              "    <button class=\"colab-df-convert\" onclick=\"convertToInteractive('df-3b438148-a8cc-46d8-8a9d-37331c619b43')\"\n",
              "            title=\"Convert this dataframe to an interactive table.\"\n",
              "            style=\"display:none;\">\n",
              "\n",
              "  <svg xmlns=\"http://www.w3.org/2000/svg\" height=\"24px\" viewBox=\"0 -960 960 960\">\n",
              "    <path d=\"M120-120v-720h720v720H120Zm60-500h600v-160H180v160Zm220 220h160v-160H400v160Zm0 220h160v-160H400v160ZM180-400h160v-160H180v160Zm440 0h160v-160H620v160ZM180-180h160v-160H180v160Zm440 0h160v-160H620v160Z\"/>\n",
              "  </svg>\n",
              "    </button>\n",
              "\n",
              "  <style>\n",
              "    .colab-df-container {\n",
              "      display:flex;\n",
              "      gap: 12px;\n",
              "    }\n",
              "\n",
              "    .colab-df-convert {\n",
              "      background-color: #E8F0FE;\n",
              "      border: none;\n",
              "      border-radius: 50%;\n",
              "      cursor: pointer;\n",
              "      display: none;\n",
              "      fill: #1967D2;\n",
              "      height: 32px;\n",
              "      padding: 0 0 0 0;\n",
              "      width: 32px;\n",
              "    }\n",
              "\n",
              "    .colab-df-convert:hover {\n",
              "      background-color: #E2EBFA;\n",
              "      box-shadow: 0px 1px 2px rgba(60, 64, 67, 0.3), 0px 1px 3px 1px rgba(60, 64, 67, 0.15);\n",
              "      fill: #174EA6;\n",
              "    }\n",
              "\n",
              "    .colab-df-buttons div {\n",
              "      margin-bottom: 4px;\n",
              "    }\n",
              "\n",
              "    [theme=dark] .colab-df-convert {\n",
              "      background-color: #3B4455;\n",
              "      fill: #D2E3FC;\n",
              "    }\n",
              "\n",
              "    [theme=dark] .colab-df-convert:hover {\n",
              "      background-color: #434B5C;\n",
              "      box-shadow: 0px 1px 3px 1px rgba(0, 0, 0, 0.15);\n",
              "      filter: drop-shadow(0px 1px 2px rgba(0, 0, 0, 0.3));\n",
              "      fill: #FFFFFF;\n",
              "    }\n",
              "  </style>\n",
              "\n",
              "    <script>\n",
              "      const buttonEl =\n",
              "        document.querySelector('#df-3b438148-a8cc-46d8-8a9d-37331c619b43 button.colab-df-convert');\n",
              "      buttonEl.style.display =\n",
              "        google.colab.kernel.accessAllowed ? 'block' : 'none';\n",
              "\n",
              "      async function convertToInteractive(key) {\n",
              "        const element = document.querySelector('#df-3b438148-a8cc-46d8-8a9d-37331c619b43');\n",
              "        const dataTable =\n",
              "          await google.colab.kernel.invokeFunction('convertToInteractive',\n",
              "                                                    [key], {});\n",
              "        if (!dataTable) return;\n",
              "\n",
              "        const docLinkHtml = 'Like what you see? Visit the ' +\n",
              "          '<a target=\"_blank\" href=https://colab.research.google.com/notebooks/data_table.ipynb>data table notebook</a>'\n",
              "          + ' to learn more about interactive tables.';\n",
              "        element.innerHTML = '';\n",
              "        dataTable['output_type'] = 'display_data';\n",
              "        await google.colab.output.renderOutput(dataTable, element);\n",
              "        const docLink = document.createElement('div');\n",
              "        docLink.innerHTML = docLinkHtml;\n",
              "        element.appendChild(docLink);\n",
              "      }\n",
              "    </script>\n",
              "  </div>\n",
              "\n",
              "\n",
              "<div id=\"df-6a6d94d1-7a46-421f-8e53-b83d4df3cc45\">\n",
              "  <button class=\"colab-df-quickchart\" onclick=\"quickchart('df-6a6d94d1-7a46-421f-8e53-b83d4df3cc45')\"\n",
              "            title=\"Suggest charts\"\n",
              "            style=\"display:none;\">\n",
              "\n",
              "<svg xmlns=\"http://www.w3.org/2000/svg\" height=\"24px\"viewBox=\"0 0 24 24\"\n",
              "     width=\"24px\">\n",
              "    <g>\n",
              "        <path d=\"M19 3H5c-1.1 0-2 .9-2 2v14c0 1.1.9 2 2 2h14c1.1 0 2-.9 2-2V5c0-1.1-.9-2-2-2zM9 17H7v-7h2v7zm4 0h-2V7h2v10zm4 0h-2v-4h2v4z\"/>\n",
              "    </g>\n",
              "</svg>\n",
              "  </button>\n",
              "\n",
              "<style>\n",
              "  .colab-df-quickchart {\n",
              "      --bg-color: #E8F0FE;\n",
              "      --fill-color: #1967D2;\n",
              "      --hover-bg-color: #E2EBFA;\n",
              "      --hover-fill-color: #174EA6;\n",
              "      --disabled-fill-color: #AAA;\n",
              "      --disabled-bg-color: #DDD;\n",
              "  }\n",
              "\n",
              "  [theme=dark] .colab-df-quickchart {\n",
              "      --bg-color: #3B4455;\n",
              "      --fill-color: #D2E3FC;\n",
              "      --hover-bg-color: #434B5C;\n",
              "      --hover-fill-color: #FFFFFF;\n",
              "      --disabled-bg-color: #3B4455;\n",
              "      --disabled-fill-color: #666;\n",
              "  }\n",
              "\n",
              "  .colab-df-quickchart {\n",
              "    background-color: var(--bg-color);\n",
              "    border: none;\n",
              "    border-radius: 50%;\n",
              "    cursor: pointer;\n",
              "    display: none;\n",
              "    fill: var(--fill-color);\n",
              "    height: 32px;\n",
              "    padding: 0;\n",
              "    width: 32px;\n",
              "  }\n",
              "\n",
              "  .colab-df-quickchart:hover {\n",
              "    background-color: var(--hover-bg-color);\n",
              "    box-shadow: 0 1px 2px rgba(60, 64, 67, 0.3), 0 1px 3px 1px rgba(60, 64, 67, 0.15);\n",
              "    fill: var(--button-hover-fill-color);\n",
              "  }\n",
              "\n",
              "  .colab-df-quickchart-complete:disabled,\n",
              "  .colab-df-quickchart-complete:disabled:hover {\n",
              "    background-color: var(--disabled-bg-color);\n",
              "    fill: var(--disabled-fill-color);\n",
              "    box-shadow: none;\n",
              "  }\n",
              "\n",
              "  .colab-df-spinner {\n",
              "    border: 2px solid var(--fill-color);\n",
              "    border-color: transparent;\n",
              "    border-bottom-color: var(--fill-color);\n",
              "    animation:\n",
              "      spin 1s steps(1) infinite;\n",
              "  }\n",
              "\n",
              "  @keyframes spin {\n",
              "    0% {\n",
              "      border-color: transparent;\n",
              "      border-bottom-color: var(--fill-color);\n",
              "      border-left-color: var(--fill-color);\n",
              "    }\n",
              "    20% {\n",
              "      border-color: transparent;\n",
              "      border-left-color: var(--fill-color);\n",
              "      border-top-color: var(--fill-color);\n",
              "    }\n",
              "    30% {\n",
              "      border-color: transparent;\n",
              "      border-left-color: var(--fill-color);\n",
              "      border-top-color: var(--fill-color);\n",
              "      border-right-color: var(--fill-color);\n",
              "    }\n",
              "    40% {\n",
              "      border-color: transparent;\n",
              "      border-right-color: var(--fill-color);\n",
              "      border-top-color: var(--fill-color);\n",
              "    }\n",
              "    60% {\n",
              "      border-color: transparent;\n",
              "      border-right-color: var(--fill-color);\n",
              "    }\n",
              "    80% {\n",
              "      border-color: transparent;\n",
              "      border-right-color: var(--fill-color);\n",
              "      border-bottom-color: var(--fill-color);\n",
              "    }\n",
              "    90% {\n",
              "      border-color: transparent;\n",
              "      border-bottom-color: var(--fill-color);\n",
              "    }\n",
              "  }\n",
              "</style>\n",
              "\n",
              "  <script>\n",
              "    async function quickchart(key) {\n",
              "      const quickchartButtonEl =\n",
              "        document.querySelector('#' + key + ' button');\n",
              "      quickchartButtonEl.disabled = true;  // To prevent multiple clicks.\n",
              "      quickchartButtonEl.classList.add('colab-df-spinner');\n",
              "      try {\n",
              "        const charts = await google.colab.kernel.invokeFunction(\n",
              "            'suggestCharts', [key], {});\n",
              "      } catch (error) {\n",
              "        console.error('Error during call to suggestCharts:', error);\n",
              "      }\n",
              "      quickchartButtonEl.classList.remove('colab-df-spinner');\n",
              "      quickchartButtonEl.classList.add('colab-df-quickchart-complete');\n",
              "    }\n",
              "    (() => {\n",
              "      let quickchartButtonEl =\n",
              "        document.querySelector('#df-6a6d94d1-7a46-421f-8e53-b83d4df3cc45 button');\n",
              "      quickchartButtonEl.style.display =\n",
              "        google.colab.kernel.accessAllowed ? 'block' : 'none';\n",
              "    })();\n",
              "  </script>\n",
              "</div>\n",
              "    </div>\n",
              "  </div>\n"
            ]
          },
          "metadata": {},
          "execution_count": 3
        }
      ],
      "source": [
        "train = pd.read_csv('train_cache.csv')\n",
        "train.head()"
      ]
    },
    {
      "cell_type": "code",
      "execution_count": null,
      "id": "a016e67b-7d49-4881-8c2b-5b8c87e470c4",
      "metadata": {
        "tags": [],
        "colab": {
          "base_uri": "https://localhost:8080/"
        },
        "id": "a016e67b-7d49-4881-8c2b-5b8c87e470c4",
        "outputId": "567eaab4-d16c-41df-b8b6-ebdcf5d367ca"
      },
      "outputs": [
        {
          "output_type": "execute_result",
          "data": {
            "text/plain": [
              "    iops        lat  block_size  n_jobs  iodepth  read_fraction load_type  \\\n",
              "0  21483  613944.00         256       8        4             45    random   \n",
              "1  21354  610190.00         256       8        4             45    random   \n",
              "2  20883  613910.75         256       8        4             45    random   \n",
              "3  21493  610052.62         256       8        4             45    random   \n",
              "4  21473  606866.62         256       8        4             45    random   \n",
              "\n",
              "  io_type raid  n_disks device_type  offset                          id  \n",
              "0    read  4+1       24        nvme       0  hse-09132022-180712-z63065  \n",
              "1    read  4+1       24        nvme       0  hse-09132022-180712-z63065  \n",
              "2    read  4+1       24        nvme       0  hse-09132022-180712-z63065  \n",
              "3    read  4+1       24        nvme       0  hse-09132022-180712-z63065  \n",
              "4    read  4+1       24        nvme       0  hse-09132022-180712-z63065  "
            ],
            "text/html": [
              "\n",
              "  <div id=\"df-6083cead-4e71-4b69-986e-208d117c0539\" class=\"colab-df-container\">\n",
              "    <div>\n",
              "<style scoped>\n",
              "    .dataframe tbody tr th:only-of-type {\n",
              "        vertical-align: middle;\n",
              "    }\n",
              "\n",
              "    .dataframe tbody tr th {\n",
              "        vertical-align: top;\n",
              "    }\n",
              "\n",
              "    .dataframe thead th {\n",
              "        text-align: right;\n",
              "    }\n",
              "</style>\n",
              "<table border=\"1\" class=\"dataframe\">\n",
              "  <thead>\n",
              "    <tr style=\"text-align: right;\">\n",
              "      <th></th>\n",
              "      <th>iops</th>\n",
              "      <th>lat</th>\n",
              "      <th>block_size</th>\n",
              "      <th>n_jobs</th>\n",
              "      <th>iodepth</th>\n",
              "      <th>read_fraction</th>\n",
              "      <th>load_type</th>\n",
              "      <th>io_type</th>\n",
              "      <th>raid</th>\n",
              "      <th>n_disks</th>\n",
              "      <th>device_type</th>\n",
              "      <th>offset</th>\n",
              "      <th>id</th>\n",
              "    </tr>\n",
              "  </thead>\n",
              "  <tbody>\n",
              "    <tr>\n",
              "      <th>0</th>\n",
              "      <td>21483</td>\n",
              "      <td>613944.00</td>\n",
              "      <td>256</td>\n",
              "      <td>8</td>\n",
              "      <td>4</td>\n",
              "      <td>45</td>\n",
              "      <td>random</td>\n",
              "      <td>read</td>\n",
              "      <td>4+1</td>\n",
              "      <td>24</td>\n",
              "      <td>nvme</td>\n",
              "      <td>0</td>\n",
              "      <td>hse-09132022-180712-z63065</td>\n",
              "    </tr>\n",
              "    <tr>\n",
              "      <th>1</th>\n",
              "      <td>21354</td>\n",
              "      <td>610190.00</td>\n",
              "      <td>256</td>\n",
              "      <td>8</td>\n",
              "      <td>4</td>\n",
              "      <td>45</td>\n",
              "      <td>random</td>\n",
              "      <td>read</td>\n",
              "      <td>4+1</td>\n",
              "      <td>24</td>\n",
              "      <td>nvme</td>\n",
              "      <td>0</td>\n",
              "      <td>hse-09132022-180712-z63065</td>\n",
              "    </tr>\n",
              "    <tr>\n",
              "      <th>2</th>\n",
              "      <td>20883</td>\n",
              "      <td>613910.75</td>\n",
              "      <td>256</td>\n",
              "      <td>8</td>\n",
              "      <td>4</td>\n",
              "      <td>45</td>\n",
              "      <td>random</td>\n",
              "      <td>read</td>\n",
              "      <td>4+1</td>\n",
              "      <td>24</td>\n",
              "      <td>nvme</td>\n",
              "      <td>0</td>\n",
              "      <td>hse-09132022-180712-z63065</td>\n",
              "    </tr>\n",
              "    <tr>\n",
              "      <th>3</th>\n",
              "      <td>21493</td>\n",
              "      <td>610052.62</td>\n",
              "      <td>256</td>\n",
              "      <td>8</td>\n",
              "      <td>4</td>\n",
              "      <td>45</td>\n",
              "      <td>random</td>\n",
              "      <td>read</td>\n",
              "      <td>4+1</td>\n",
              "      <td>24</td>\n",
              "      <td>nvme</td>\n",
              "      <td>0</td>\n",
              "      <td>hse-09132022-180712-z63065</td>\n",
              "    </tr>\n",
              "    <tr>\n",
              "      <th>4</th>\n",
              "      <td>21473</td>\n",
              "      <td>606866.62</td>\n",
              "      <td>256</td>\n",
              "      <td>8</td>\n",
              "      <td>4</td>\n",
              "      <td>45</td>\n",
              "      <td>random</td>\n",
              "      <td>read</td>\n",
              "      <td>4+1</td>\n",
              "      <td>24</td>\n",
              "      <td>nvme</td>\n",
              "      <td>0</td>\n",
              "      <td>hse-09132022-180712-z63065</td>\n",
              "    </tr>\n",
              "  </tbody>\n",
              "</table>\n",
              "</div>\n",
              "    <div class=\"colab-df-buttons\">\n",
              "\n",
              "  <div class=\"colab-df-container\">\n",
              "    <button class=\"colab-df-convert\" onclick=\"convertToInteractive('df-6083cead-4e71-4b69-986e-208d117c0539')\"\n",
              "            title=\"Convert this dataframe to an interactive table.\"\n",
              "            style=\"display:none;\">\n",
              "\n",
              "  <svg xmlns=\"http://www.w3.org/2000/svg\" height=\"24px\" viewBox=\"0 -960 960 960\">\n",
              "    <path d=\"M120-120v-720h720v720H120Zm60-500h600v-160H180v160Zm220 220h160v-160H400v160Zm0 220h160v-160H400v160ZM180-400h160v-160H180v160Zm440 0h160v-160H620v160ZM180-180h160v-160H180v160Zm440 0h160v-160H620v160Z\"/>\n",
              "  </svg>\n",
              "    </button>\n",
              "\n",
              "  <style>\n",
              "    .colab-df-container {\n",
              "      display:flex;\n",
              "      gap: 12px;\n",
              "    }\n",
              "\n",
              "    .colab-df-convert {\n",
              "      background-color: #E8F0FE;\n",
              "      border: none;\n",
              "      border-radius: 50%;\n",
              "      cursor: pointer;\n",
              "      display: none;\n",
              "      fill: #1967D2;\n",
              "      height: 32px;\n",
              "      padding: 0 0 0 0;\n",
              "      width: 32px;\n",
              "    }\n",
              "\n",
              "    .colab-df-convert:hover {\n",
              "      background-color: #E2EBFA;\n",
              "      box-shadow: 0px 1px 2px rgba(60, 64, 67, 0.3), 0px 1px 3px 1px rgba(60, 64, 67, 0.15);\n",
              "      fill: #174EA6;\n",
              "    }\n",
              "\n",
              "    .colab-df-buttons div {\n",
              "      margin-bottom: 4px;\n",
              "    }\n",
              "\n",
              "    [theme=dark] .colab-df-convert {\n",
              "      background-color: #3B4455;\n",
              "      fill: #D2E3FC;\n",
              "    }\n",
              "\n",
              "    [theme=dark] .colab-df-convert:hover {\n",
              "      background-color: #434B5C;\n",
              "      box-shadow: 0px 1px 3px 1px rgba(0, 0, 0, 0.15);\n",
              "      filter: drop-shadow(0px 1px 2px rgba(0, 0, 0, 0.3));\n",
              "      fill: #FFFFFF;\n",
              "    }\n",
              "  </style>\n",
              "\n",
              "    <script>\n",
              "      const buttonEl =\n",
              "        document.querySelector('#df-6083cead-4e71-4b69-986e-208d117c0539 button.colab-df-convert');\n",
              "      buttonEl.style.display =\n",
              "        google.colab.kernel.accessAllowed ? 'block' : 'none';\n",
              "\n",
              "      async function convertToInteractive(key) {\n",
              "        const element = document.querySelector('#df-6083cead-4e71-4b69-986e-208d117c0539');\n",
              "        const dataTable =\n",
              "          await google.colab.kernel.invokeFunction('convertToInteractive',\n",
              "                                                    [key], {});\n",
              "        if (!dataTable) return;\n",
              "\n",
              "        const docLinkHtml = 'Like what you see? Visit the ' +\n",
              "          '<a target=\"_blank\" href=https://colab.research.google.com/notebooks/data_table.ipynb>data table notebook</a>'\n",
              "          + ' to learn more about interactive tables.';\n",
              "        element.innerHTML = '';\n",
              "        dataTable['output_type'] = 'display_data';\n",
              "        await google.colab.output.renderOutput(dataTable, element);\n",
              "        const docLink = document.createElement('div');\n",
              "        docLink.innerHTML = docLinkHtml;\n",
              "        element.appendChild(docLink);\n",
              "      }\n",
              "    </script>\n",
              "  </div>\n",
              "\n",
              "\n",
              "<div id=\"df-510de832-aa26-42ab-93ce-1fac83b4c6e5\">\n",
              "  <button class=\"colab-df-quickchart\" onclick=\"quickchart('df-510de832-aa26-42ab-93ce-1fac83b4c6e5')\"\n",
              "            title=\"Suggest charts\"\n",
              "            style=\"display:none;\">\n",
              "\n",
              "<svg xmlns=\"http://www.w3.org/2000/svg\" height=\"24px\"viewBox=\"0 0 24 24\"\n",
              "     width=\"24px\">\n",
              "    <g>\n",
              "        <path d=\"M19 3H5c-1.1 0-2 .9-2 2v14c0 1.1.9 2 2 2h14c1.1 0 2-.9 2-2V5c0-1.1-.9-2-2-2zM9 17H7v-7h2v7zm4 0h-2V7h2v10zm4 0h-2v-4h2v4z\"/>\n",
              "    </g>\n",
              "</svg>\n",
              "  </button>\n",
              "\n",
              "<style>\n",
              "  .colab-df-quickchart {\n",
              "      --bg-color: #E8F0FE;\n",
              "      --fill-color: #1967D2;\n",
              "      --hover-bg-color: #E2EBFA;\n",
              "      --hover-fill-color: #174EA6;\n",
              "      --disabled-fill-color: #AAA;\n",
              "      --disabled-bg-color: #DDD;\n",
              "  }\n",
              "\n",
              "  [theme=dark] .colab-df-quickchart {\n",
              "      --bg-color: #3B4455;\n",
              "      --fill-color: #D2E3FC;\n",
              "      --hover-bg-color: #434B5C;\n",
              "      --hover-fill-color: #FFFFFF;\n",
              "      --disabled-bg-color: #3B4455;\n",
              "      --disabled-fill-color: #666;\n",
              "  }\n",
              "\n",
              "  .colab-df-quickchart {\n",
              "    background-color: var(--bg-color);\n",
              "    border: none;\n",
              "    border-radius: 50%;\n",
              "    cursor: pointer;\n",
              "    display: none;\n",
              "    fill: var(--fill-color);\n",
              "    height: 32px;\n",
              "    padding: 0;\n",
              "    width: 32px;\n",
              "  }\n",
              "\n",
              "  .colab-df-quickchart:hover {\n",
              "    background-color: var(--hover-bg-color);\n",
              "    box-shadow: 0 1px 2px rgba(60, 64, 67, 0.3), 0 1px 3px 1px rgba(60, 64, 67, 0.15);\n",
              "    fill: var(--button-hover-fill-color);\n",
              "  }\n",
              "\n",
              "  .colab-df-quickchart-complete:disabled,\n",
              "  .colab-df-quickchart-complete:disabled:hover {\n",
              "    background-color: var(--disabled-bg-color);\n",
              "    fill: var(--disabled-fill-color);\n",
              "    box-shadow: none;\n",
              "  }\n",
              "\n",
              "  .colab-df-spinner {\n",
              "    border: 2px solid var(--fill-color);\n",
              "    border-color: transparent;\n",
              "    border-bottom-color: var(--fill-color);\n",
              "    animation:\n",
              "      spin 1s steps(1) infinite;\n",
              "  }\n",
              "\n",
              "  @keyframes spin {\n",
              "    0% {\n",
              "      border-color: transparent;\n",
              "      border-bottom-color: var(--fill-color);\n",
              "      border-left-color: var(--fill-color);\n",
              "    }\n",
              "    20% {\n",
              "      border-color: transparent;\n",
              "      border-left-color: var(--fill-color);\n",
              "      border-top-color: var(--fill-color);\n",
              "    }\n",
              "    30% {\n",
              "      border-color: transparent;\n",
              "      border-left-color: var(--fill-color);\n",
              "      border-top-color: var(--fill-color);\n",
              "      border-right-color: var(--fill-color);\n",
              "    }\n",
              "    40% {\n",
              "      border-color: transparent;\n",
              "      border-right-color: var(--fill-color);\n",
              "      border-top-color: var(--fill-color);\n",
              "    }\n",
              "    60% {\n",
              "      border-color: transparent;\n",
              "      border-right-color: var(--fill-color);\n",
              "    }\n",
              "    80% {\n",
              "      border-color: transparent;\n",
              "      border-right-color: var(--fill-color);\n",
              "      border-bottom-color: var(--fill-color);\n",
              "    }\n",
              "    90% {\n",
              "      border-color: transparent;\n",
              "      border-bottom-color: var(--fill-color);\n",
              "    }\n",
              "  }\n",
              "</style>\n",
              "\n",
              "  <script>\n",
              "    async function quickchart(key) {\n",
              "      const quickchartButtonEl =\n",
              "        document.querySelector('#' + key + ' button');\n",
              "      quickchartButtonEl.disabled = true;  // To prevent multiple clicks.\n",
              "      quickchartButtonEl.classList.add('colab-df-spinner');\n",
              "      try {\n",
              "        const charts = await google.colab.kernel.invokeFunction(\n",
              "            'suggestCharts', [key], {});\n",
              "      } catch (error) {\n",
              "        console.error('Error during call to suggestCharts:', error);\n",
              "      }\n",
              "      quickchartButtonEl.classList.remove('colab-df-spinner');\n",
              "      quickchartButtonEl.classList.add('colab-df-quickchart-complete');\n",
              "    }\n",
              "    (() => {\n",
              "      let quickchartButtonEl =\n",
              "        document.querySelector('#df-510de832-aa26-42ab-93ce-1fac83b4c6e5 button');\n",
              "      quickchartButtonEl.style.display =\n",
              "        google.colab.kernel.accessAllowed ? 'block' : 'none';\n",
              "    })();\n",
              "  </script>\n",
              "</div>\n",
              "    </div>\n",
              "  </div>\n"
            ]
          },
          "metadata": {},
          "execution_count": 4
        }
      ],
      "source": [
        "test = pd.read_csv('test_cache.csv')\n",
        "test.head()"
      ]
    },
    {
      "cell_type": "code",
      "execution_count": null,
      "id": "b475e29e-f47c-41cf-aa02-0132e8302f21",
      "metadata": {
        "tags": [],
        "id": "b475e29e-f47c-41cf-aa02-0132e8302f21",
        "colab": {
          "base_uri": "https://localhost:8080/"
        },
        "outputId": "aa6a9993-4452-4de7-ca13-1d832fd41362"
      },
      "outputs": [
        {
          "output_type": "execute_result",
          "data": {
            "text/plain": [
              "array([  8,  16,  32,  64, 256,   4, 128])"
            ]
          },
          "metadata": {},
          "execution_count": 5
        }
      ],
      "source": [
        "pd.unique(train[['block_size']]. values.ravel())"
      ]
    },
    {
      "cell_type": "code",
      "execution_count": null,
      "id": "4e89e300-4f3b-4ceb-9267-cd9454d71f47",
      "metadata": {
        "tags": [],
        "id": "4e89e300-4f3b-4ceb-9267-cd9454d71f47",
        "colab": {
          "base_uri": "https://localhost:8080/"
        },
        "outputId": "f8ec1f4a-44c0-4184-ca70-7373bb3f264a"
      },
      "outputs": [
        {
          "output_type": "execute_result",
          "data": {
            "text/plain": [
              "32"
            ]
          },
          "metadata": {},
          "execution_count": 6
        }
      ],
      "source": [
        "pd.unique(train[['n_jobs']]. values.ravel()).size"
      ]
    },
    {
      "cell_type": "code",
      "execution_count": null,
      "id": "0ce7507e-3a06-4cd0-b52c-515708c0e119",
      "metadata": {
        "tags": [],
        "id": "0ce7507e-3a06-4cd0-b52c-515708c0e119",
        "colab": {
          "base_uri": "https://localhost:8080/"
        },
        "outputId": "09c17d71-ce39-4caa-fcd4-99f270f82bdd"
      },
      "outputs": [
        {
          "output_type": "execute_result",
          "data": {
            "text/plain": [
              "16"
            ]
          },
          "metadata": {},
          "execution_count": 7
        }
      ],
      "source": [
        "pd.unique(train[['iodepth']]. values.ravel()).size"
      ]
    },
    {
      "cell_type": "code",
      "execution_count": null,
      "id": "f2c441de-4cbb-4513-a8e0-c7eb4c5b6194",
      "metadata": {
        "tags": [],
        "id": "f2c441de-4cbb-4513-a8e0-c7eb4c5b6194",
        "colab": {
          "base_uri": "https://localhost:8080/"
        },
        "outputId": "797b0e4a-ba6f-47d2-97e9-c484aeaeb7f7"
      },
      "outputs": [
        {
          "output_type": "execute_result",
          "data": {
            "text/plain": [
              "101"
            ]
          },
          "metadata": {},
          "execution_count": 8
        }
      ],
      "source": [
        "pd.unique(train[['read_fraction']]. values.ravel()).size"
      ]
    },
    {
      "cell_type": "code",
      "execution_count": null,
      "id": "7cf828b8-f617-4d96-8ad2-223faff29991",
      "metadata": {
        "tags": [],
        "id": "7cf828b8-f617-4d96-8ad2-223faff29991",
        "colab": {
          "base_uri": "https://localhost:8080/"
        },
        "outputId": "b31af1de-3af8-4dec-fef7-41a8480f88b7"
      },
      "outputs": [
        {
          "output_type": "execute_result",
          "data": {
            "text/plain": [
              "array(['read', 'write'], dtype=object)"
            ]
          },
          "metadata": {},
          "execution_count": 9
        }
      ],
      "source": [
        "pd.unique(train[['io_type']]. values.ravel())"
      ]
    },
    {
      "cell_type": "code",
      "execution_count": null,
      "id": "e8dde42d-49ad-4dce-b83a-4f4169c90232",
      "metadata": {
        "tags": [],
        "id": "e8dde42d-49ad-4dce-b83a-4f4169c90232",
        "colab": {
          "base_uri": "https://localhost:8080/"
        },
        "outputId": "fb590b06-b07a-4a87-9301-ae766209d803"
      },
      "outputs": [
        {
          "output_type": "execute_result",
          "data": {
            "text/plain": [
              "408"
            ]
          },
          "metadata": {},
          "execution_count": 10
        }
      ],
      "source": [
        "pd.unique(train[['id']]. values.ravel()).size"
      ]
    },
    {
      "cell_type": "code",
      "execution_count": null,
      "id": "182edd77-f54c-49fc-8fb2-dc3ceb46bd3d",
      "metadata": {
        "tags": [],
        "id": "182edd77-f54c-49fc-8fb2-dc3ceb46bd3d"
      },
      "outputs": [],
      "source": [
        "test['io_type_num'] = test['io_type'] == 'write'"
      ]
    },
    {
      "cell_type": "code",
      "execution_count": null,
      "id": "d49c0abc-ea42-444e-8427-26413b93e627",
      "metadata": {
        "tags": [],
        "id": "d49c0abc-ea42-444e-8427-26413b93e627"
      },
      "outputs": [],
      "source": [
        "test.io_type_num = test.io_type_num.replace({ True : 1 , False : 0 })"
      ]
    },
    {
      "cell_type": "code",
      "execution_count": null,
      "id": "e19a2946-772f-4644-b7e1-3806a081e978",
      "metadata": {
        "tags": [],
        "id": "e19a2946-772f-4644-b7e1-3806a081e978"
      },
      "outputs": [],
      "source": [
        "y_test = torch.tensor(test[['iops', 'lat']].values)"
      ]
    },
    {
      "cell_type": "code",
      "execution_count": null,
      "id": "724ca342-e272-4c35-be79-ab451df93736",
      "metadata": {
        "tags": [],
        "id": "724ca342-e272-4c35-be79-ab451df93736"
      },
      "outputs": [],
      "source": [
        "X_test = torch.tensor(test[['block_size', 'n_jobs', 'iodepth', 'read_fraction', 'io_type_num', 'n_disks']].values)"
      ]
    },
    {
      "cell_type": "code",
      "source": [
        "print(len(y_test), len(X_test))"
      ],
      "metadata": {
        "colab": {
          "base_uri": "https://localhost:8080/"
        },
        "id": "le4_MyMoHAIk",
        "outputId": "43fa7b17-23ca-459c-984c-187627c19c51"
      },
      "id": "le4_MyMoHAIk",
      "execution_count": null,
      "outputs": [
        {
          "output_type": "stream",
          "name": "stdout",
          "text": [
            "12120 12120\n"
          ]
        }
      ]
    },
    {
      "cell_type": "code",
      "execution_count": null,
      "id": "e2924df8-dbbe-4a62-9492-a2cade2eb33a",
      "metadata": {
        "tags": [],
        "id": "e2924df8-dbbe-4a62-9492-a2cade2eb33a"
      },
      "outputs": [],
      "source": [
        "train['io_type_num'] = train['io_type'] == 'write'"
      ]
    },
    {
      "cell_type": "code",
      "execution_count": null,
      "id": "7d073c3f-ef0e-4ce8-9448-5feef8090105",
      "metadata": {
        "tags": [],
        "id": "7d073c3f-ef0e-4ce8-9448-5feef8090105"
      },
      "outputs": [],
      "source": [
        "train.io_type_num = train.io_type_num.replace({ True : 1 , False : 0 })"
      ]
    },
    {
      "cell_type": "code",
      "execution_count": null,
      "id": "561bb5ee-9729-45ab-969e-941a7f086e13",
      "metadata": {
        "id": "561bb5ee-9729-45ab-969e-941a7f086e13"
      },
      "outputs": [],
      "source": [
        "y_tr = torch.tensor(train[['iops', 'lat']].values)"
      ]
    },
    {
      "cell_type": "code",
      "execution_count": null,
      "id": "faa550f4-2399-46ad-9f63-24f6aad4f7e4",
      "metadata": {
        "tags": [],
        "id": "faa550f4-2399-46ad-9f63-24f6aad4f7e4"
      },
      "outputs": [],
      "source": [
        "X_tr = torch.tensor(train[['block_size', 'n_jobs', 'iodepth', 'read_fraction', 'io_type_num', 'n_disks']].values)"
      ]
    },
    {
      "cell_type": "code",
      "source": [
        "pd.unique(test[['id']]. values.ravel())"
      ],
      "metadata": {
        "colab": {
          "base_uri": "https://localhost:8080/"
        },
        "id": "khej3nZtReJY",
        "outputId": "b5f6806b-5496-4031-eea4-63ba10edaf35"
      },
      "id": "khej3nZtReJY",
      "execution_count": null,
      "outputs": [
        {
          "output_type": "execute_result",
          "data": {
            "text/plain": [
              "array(['hse-09132022-180712-z63065', 'hse-09132022-212616-z36709',\n",
              "       'hse-09132022-203942-z36542', 'hse-09132022-113615-z47578',\n",
              "       'hse-09132022-113127-z92275', 'hse-09132022-202959-z97080',\n",
              "       'hse-09132022-130756-z72964', 'hse-09132022-152621-z23474',\n",
              "       'hse-09132022-222402-z67880', 'hse-09142022-002727-z41754',\n",
              "       'hse-09132022-215503-z42747', 'hse-09132022-154850-z69269',\n",
              "       'hse-09132022-162550-z13863', 'hse-09132022-131738-z64548',\n",
              "       'hse-09132022-163352-z28622', 'hse-09132022-203624-z40860',\n",
              "       'hse-09132022-111214-z18642', 'hse-09132022-230720-z49925',\n",
              "       'hse-09132022-180046-z99430', 'hse-09132022-162239-z71118',\n",
              "       'hse-09132022-115719-z1844', 'hse-09132022-130309-z70101',\n",
              "       'hse-09132022-143919-z2607', 'hse-09132022-191917-z69202',\n",
              "       'hse-09132022-105038-z85297', 'hse-09132022-125820-z33361',\n",
              "       'hse-09132022-200733-z61475', 'hse-09132022-174129-z68191',\n",
              "       'hse-09132022-131108-z11709', 'hse-09132022-221738-z10431',\n",
              "       'hse-09132022-210700-z60083', 'hse-09132022-125644-z707',\n",
              "       'hse-09132022-230856-z9643', 'hse-09132022-224318-z90767',\n",
              "       'hse-09132022-175558-z99920', 'hse-09132022-220757-z26952',\n",
              "       'hse-09132022-233258-z38393', 'hse-09132022-213240-z31511',\n",
              "       'hse-09132022-190141-z86999', 'hse-09132022-212303-z33531',\n",
              "       'hse-09132022-191252-z61268', 'hse-09132022-111349-z30624',\n",
              "       'hse-09132022-210835-z79013', 'hse-09132022-215639-z27019',\n",
              "       'hse-09132022-111702-z2132', 'hse-09132022-205233-z24116',\n",
              "       'hse-09132022-201846-z96779', 'hse-09132022-222539-z74628',\n",
              "       'hse-09132022-183741-z34556', 'hse-09132022-174758-z42895',\n",
              "       'hse-09132022-150322-z74833', 'hse-09132022-125508-z80010',\n",
              "       'hse-09132022-143256-z48524', 'hse-09132022-145209-z76146',\n",
              "       'hse-09132022-180359-z27917', 'hse-09132022-151456-z41588',\n",
              "       'hse-09132022-203135-z63942', 'hse-09142022-002903-z26645',\n",
              "       'hse-09132022-211814-z32416', 'hse-09132022-172841-z37264',\n",
              "       'hse-09132022-223341-z77063', 'hse-09132022-131244-z82138',\n",
              "       'hse-09132022-232456-z82906', 'hse-09132022-174441-z13743',\n",
              "       'hse-09142022-002104-z26412', 'hse-09132022-192900-z38701',\n",
              "       'hse-09132022-190453-z24234', 'hse-09132022-152301-z79013',\n",
              "       'hse-09132022-173817-z84146', 'hse-09132022-181337-z21988',\n",
              "       'hse-09132022-162726-z17811', 'hse-09132022-171400-z26934',\n",
              "       'hse-09132022-192053-z87989', 'hse-09132022-232946-z46383',\n",
              "       'hse-09132022-105213-z969', 'hse-09132022-202647-z52770',\n",
              "       'hse-09132022-223517-z89788', 'hse-09132022-152933-z67146',\n",
              "       'hse-09132022-224805-z52903', 'hse-09132022-122439-z11875',\n",
              "       'hse-09132022-153247-z20248', 'hse-09132022-182313-z34207',\n",
              "       'hse-09132022-121816-z8954', 'hse-09132022-163528-z69918',\n",
              "       'hse-09142022-000013-z53450', 'hse-09132022-144855-z14318',\n",
              "       'hse-09132022-173505-z46323', 'hse-09132022-115407-z22388',\n",
              "       'hse-09132022-113303-z72757', 'hse-09132022-191116-z81903',\n",
              "       'hse-09132022-170248-z17847', 'hse-09132022-202158-z98097',\n",
              "       'hse-09132022-215016-z2964', 'hse-09132022-182803-z7165',\n",
              "       'hse-09132022-110403-z84137', 'hse-09142022-000639-z63962',\n",
              "       'hse-09142022-013002-z96693', 'hse-09132022-172529-z16976',\n",
              "       'hse-09132022-112014-z42678', 'hse-09132022-200421-z4844',\n",
              "       'hse-09132022-164015-z82042', 'hse-09132022-120657-z13242'],\n",
              "      dtype=object)"
            ]
          },
          "metadata": {},
          "execution_count": 20
        }
      ]
    },
    {
      "cell_type": "markdown",
      "id": "d62877b2-8cc1-41cf-b28c-f614cab1cd30",
      "metadata": {
        "id": "d62877b2-8cc1-41cf-b28c-f614cab1cd30"
      },
      "source": [
        "## Graphs"
      ]
    },
    {
      "cell_type": "code",
      "execution_count": null,
      "id": "2bd5ca60-bb2a-4a0b-8266-99db0dc8f5e0",
      "metadata": {
        "tags": [],
        "colab": {
          "base_uri": "https://localhost:8080/"
        },
        "id": "2bd5ca60-bb2a-4a0b-8266-99db0dc8f5e0",
        "outputId": "ed43b510-c8ca-447d-da9d-19eada591694"
      },
      "outputs": [
        {
          "output_type": "display_data",
          "data": {
            "text/plain": [
              "<Figure size 1200x600 with 1 Axes>"
            ],
            "image/png": "[encoded data removed]"
          },
          "metadata": {}
        }
      ],
      "source": [
        "plt.figure(figsize=(12, 6))\n",
        "plt.scatter(y_tr[:, 0], y_tr[:, 1], marker='.', label='Observations', linewidth=1)\n",
        "\n",
        "plt.xlabel(\"iops\")\n",
        "plt.ylabel(\"lat\")\n",
        "plt.grid()\n",
        "plt.legend()\n",
        "plt.show()"
      ]
    },
    {
      "cell_type": "markdown",
      "source": [
        "## Scalers"
      ],
      "metadata": {
        "id": "Pi6CugtwObG6"
      },
      "id": "Pi6CugtwObG6"
    },
    {
      "cell_type": "code",
      "source": [
        "from sklearn.base import TransformerMixin, BaseEstimator\n",
        "import numpy as np\n",
        "from dataclasses import dataclass\n",
        "\n",
        "# from https://github.com/HEPML-AnomalyDetection/CATHODE/blob/4e96989296193da18508710afbfa3b37fffe5952/data_handler.py\n",
        "def logit_transform_inverse(data, datamin, datamax):\n",
        "    dataout = (datamin + datamax*np.exp(data))/(1 + np.exp(data))\n",
        "    return dataout\n",
        "\n",
        "def quick_logit(x, x_min, x_max, eps):\n",
        "    x_norm = (x-x_min)/(x_max-x_min)\n",
        "    x_norm = x_norm[((x_norm != 0) & (x_norm != 1)).all(axis=1)]\n",
        "    x_norm[x_norm == 0] += eps\n",
        "    x_norm[x_norm == 1] -= eps\n",
        "    logit = np.log(x_norm/(1-x_norm))\n",
        "    logit = logit[~np.isnan(logit).any(axis=1)]\n",
        "    return logit\n",
        "\n",
        "class LogitScaler(TransformerMixin, BaseEstimator):\n",
        "\n",
        "    def __init__(self, eps=1e-6):\n",
        "        super().__init__()\n",
        "        self.eps = eps\n",
        "        self.x_max = None\n",
        "        self.x_min = None\n",
        "\n",
        "    def fit(self, X, y=None):\n",
        "        self.x_min = np.min(X, axis=0) - self.eps\n",
        "        self.x_max = np.max(X, axis=0) + self.eps\n",
        "        return self\n",
        "\n",
        "    def transform(self, X):\n",
        "        return quick_logit(X, self.x_min, self.x_max, self.eps)\n",
        "\n",
        "    def inverse_transform(self, X):\n",
        "        return logit_transform_inverse(X, self.x_min, self.x_max)"
      ],
      "metadata": {
        "id": "txawSjD9Oflg"
      },
      "id": "txawSjD9Oflg",
      "execution_count": null,
      "outputs": []
    },
    {
      "cell_type": "code",
      "source": [
        "from sklearn.preprocessing import StandardScaler\n",
        "from sklearn.pipeline import make_pipeline\n",
        "\n",
        "scaler = make_pipeline(LogitScaler(eps=0.1), StandardScaler())"
      ],
      "metadata": {
        "id": "heQVm2zJPcM5"
      },
      "id": "heQVm2zJPcM5",
      "execution_count": null,
      "outputs": []
    },
    {
      "cell_type": "code",
      "source": [
        "y_tr_ss = scaler.fit_transform(train[['iops', 'lat']].values)\n",
        "y_test_ss = scaler.transform(test[['iops', 'lat']].values)"
      ],
      "metadata": {
        "colab": {
          "base_uri": "https://localhost:8080/"
        },
        "id": "Y1bsXvKhRHTH",
        "outputId": "1b75cd3f-3ee3-4a97-bcdf-98530dee66d1"
      },
      "id": "Y1bsXvKhRHTH",
      "execution_count": null,
      "outputs": [
        {
          "output_type": "stream",
          "name": "stderr",
          "text": [
            "<ipython-input-22-a80eb4482932>:15: RuntimeWarning: invalid value encountered in log\n",
            "  logit = np.log(x_norm/(1-x_norm))\n"
          ]
        }
      ]
    },
    {
      "cell_type": "code",
      "source": [
        "stscaler = StandardScaler()"
      ],
      "metadata": {
        "id": "S2005JzqQlbP"
      },
      "id": "S2005JzqQlbP",
      "execution_count": null,
      "outputs": []
    },
    {
      "cell_type": "code",
      "source": [
        "X_tr_ss = stscaler.fit_transform(train[['block_size', 'n_jobs', 'iodepth', 'read_fraction', 'io_type_num', 'n_disks']].values)\n",
        "X_test_ss = stscaler.transform(test[['block_size', 'n_jobs', 'iodepth', 'read_fraction', 'io_type_num', 'n_disks']].values)"
      ],
      "metadata": {
        "id": "2mu7NpRJSw-3"
      },
      "id": "2mu7NpRJSw-3",
      "execution_count": null,
      "outputs": []
    },
    {
      "cell_type": "markdown",
      "source": [
        "## Final experiments"
      ],
      "metadata": {
        "id": "QFNmaoidCzzI"
      },
      "id": "QFNmaoidCzzI"
    },
    {
      "cell_type": "code",
      "source": [
        "from sklearn.preprocessing import StandardScaler\n",
        "from sklearn.pipeline import make_pipeline\n",
        "from probaforms.models import RealNVP"
      ],
      "metadata": {
        "id": "lM7wh9pldn0y"
      },
      "id": "lM7wh9pldn0y",
      "execution_count": 35,
      "outputs": []
    },
    {
      "cell_type": "code",
      "source": [
        "train = train\n",
        "scaler = make_pipeline(LogitScaler(eps=0.01), StandardScaler())\n",
        "y_tr_ss = scaler.fit_transform(train[['iops', 'lat']].values)\n",
        "# y_test_ss = scaler.transform(test[['iops', 'lat']].values)\n",
        "stscaler = StandardScaler()\n",
        "X_tr_ss = stscaler.fit_transform(train[['block_size', 'n_jobs', 'iodepth', 'read_fraction', 'io_type_num', 'n_disks']].values)\n",
        "# X_test_ss = stscaler.transform(test[['block_size', 'n_jobs', 'iodepth', 'read_fraction', 'io_type_num', 'n_disks']].values)\n",
        "\n",
        "model = RealNVP(lr=0.001, n_layers=12, n_epochs=100, batch_size=64) # 200\n",
        "model.fit(y_tr_ss, X_tr_ss) # (target, condition)"
      ],
      "metadata": {
        "id": "8TCLXx9tEyTc"
      },
      "id": "8TCLXx9tEyTc",
      "execution_count": 36,
      "outputs": []
    },
    {
      "cell_type": "markdown",
      "source": [
        "### RESULTS"
      ],
      "metadata": {
        "id": "_s3hIqPBYuXP"
      },
      "id": "_s3hIqPBYuXP"
    },
    {
      "cell_type": "code",
      "source": [
        "from torch.utils.data import TensorDataset, DataLoader"
      ],
      "metadata": {
        "id": "zTqfKjDdfAXa"
      },
      "id": "zTqfKjDdfAXa",
      "execution_count": 37,
      "outputs": []
    },
    {
      "cell_type": "code",
      "source": [
        "ids = ['hse-09132022-180712-z63065', 'hse-09132022-203942-z36542', 'hse-09132022-192053-z87989']\n",
        "ztotal_iops = []\n",
        "ztotal_lat = []\n",
        "zgen_iops = []\n",
        "zgen_lat = []\n",
        "for i in range(len(ids)):\n",
        "    y_test = torch.tensor(test[test['id'] == ids[i]][['iops', 'lat']].values)\n",
        "    X_test = torch.tensor(test[test['id'] == ids[i]][['block_size', 'n_jobs', 'iodepth', 'read_fraction', 'io_type_num', 'n_disks']].values)\n",
        "    y_test_ss = scaler.transform(y_test)\n",
        "    X_test_ss = stscaler.transform(X_test)\n",
        "    y_tst = torch.tensor(y_test_ss, dtype=torch.float32)\n",
        "    X_tst = torch.tensor(X_test_ss, dtype=torch.float32)\n",
        "    print(len(y_tst), len(X_tst))\n",
        "    dataset = TensorDataset(y_tst, X_tst)\n",
        "    results_iops = []\n",
        "    results_lat = []\n",
        "    for i, data in enumerate(DataLoader(dataset)):\n",
        "        y_data= data[0]\n",
        "        X_data = data[1]\n",
        "        for lay in model.nf.layers:\n",
        "            y_data, _ = lay.f(y_data, X_data)\n",
        "        # y_data = scaler.inverse_transform(y_data.detach())\n",
        "        y_data = y_data.detach()\n",
        "        results_iops.append(y_data[0][0])\n",
        "        results_lat.append(y_data[0][1])\n",
        "\n",
        "    y_gen = model.sample(stscaler.transform(X_test.clone().detach()))\n",
        "    y_gen = torch.tensor(y_gen, dtype=torch.float32)\n",
        "    dataset = TensorDataset(y_gen, X_tst)\n",
        "    genresults_iops = []\n",
        "    genresults_lat = []\n",
        "    for i, data in enumerate(DataLoader(dataset)):\n",
        "        y_data= data[0]\n",
        "        X_data = data[1]\n",
        "        for lay in model.nf.layers:\n",
        "            y_data, _ = lay.f(y_data, X_data)\n",
        "        # y_data = scaler.inverse_transform(y_data.detach())\n",
        "        y_data = y_data.detach()\n",
        "        genresults_iops.append(y_data[0][0])\n",
        "        genresults_lat.append(y_data[0][1])\n",
        "\n",
        "    ztotal_iops.append(results_iops)\n",
        "    ztotal_lat.append(results_lat)\n",
        "    zgen_iops.append(genresults_iops)\n",
        "    zgen_lat.append(genresults_lat)"
      ],
      "metadata": {
        "colab": {
          "base_uri": "https://localhost:8080/"
        },
        "id": "WMlELSWVS9I7",
        "outputId": "e88c3319-cde4-44c3-ff80-e4bddc7bd35c"
      },
      "id": "WMlELSWVS9I7",
      "execution_count": 38,
      "outputs": [
        {
          "output_type": "stream",
          "name": "stderr",
          "text": [
            "<ipython-input-22-a80eb4482932>:16: UserWarning: indexing with dtype torch.uint8 is now deprecated, please use a dtype torch.bool instead. (Triggered internally at ../aten/src/ATen/native/IndexingUtils.h:27.)\n",
            "  logit = logit[~np.isnan(logit).any(axis=1)]\n"
          ]
        },
        {
          "output_type": "stream",
          "name": "stdout",
          "text": [
            "120 120\n"
          ]
        },
        {
          "output_type": "stream",
          "name": "stderr",
          "text": [
            "<ipython-input-22-a80eb4482932>:16: UserWarning: indexing with dtype torch.uint8 is now deprecated, please use a dtype torch.bool instead. (Triggered internally at ../aten/src/ATen/native/IndexingUtils.h:27.)\n",
            "  logit = logit[~np.isnan(logit).any(axis=1)]\n"
          ]
        },
        {
          "output_type": "stream",
          "name": "stdout",
          "text": [
            "120 120\n"
          ]
        },
        {
          "output_type": "stream",
          "name": "stderr",
          "text": [
            "<ipython-input-22-a80eb4482932>:16: UserWarning: indexing with dtype torch.uint8 is now deprecated, please use a dtype torch.bool instead. (Triggered internally at ../aten/src/ATen/native/IndexingUtils.h:27.)\n",
            "  logit = logit[~np.isnan(logit).any(axis=1)]\n"
          ]
        },
        {
          "output_type": "stream",
          "name": "stdout",
          "text": [
            "120 120\n"
          ]
        }
      ]
    },
    {
      "cell_type": "code",
      "source": [
        "# ztotal_iops"
      ],
      "metadata": {
        "id": "4OaJ2yFpdoQI"
      },
      "id": "4OaJ2yFpdoQI",
      "execution_count": 39,
      "outputs": []
    },
    {
      "cell_type": "code",
      "source": [
        "plt.figure(figsize=(12, 6))\n",
        "\n",
        "plt.scatter(ztotal_iops[0], ztotal_lat[0], marker='.', label='Z original', color='red', linewidth=1)\n",
        "plt.scatter(zgen_iops[0], zgen_lat[0], marker='.', label='Gen Z', color='blue', linewidth=1)\n",
        "\n",
        "plt.xlabel(\"x\")\n",
        "plt.ylabel(\"y\")\n",
        "plt.grid()\n",
        "plt.legend()\n",
        "plt.show()"
      ],
      "metadata": {
        "colab": {
          "base_uri": "https://localhost:8080/",
          "height": 480
        },
        "id": "JixTABU_Zz1n",
        "outputId": "2d83365f-3eb7-4600-a255-ec7c8b0a853a"
      },
      "id": "JixTABU_Zz1n",
      "execution_count": 40,
      "outputs": [
        {
          "output_type": "display_data",
          "data": {
            "text/plain": [
              "<Figure size 1200x600 with 1 Axes>"
            ],
            "image/png": "[encoded data removed]"
          },
          "metadata": {}
        }
      ]
    },
    {
      "cell_type": "code",
      "source": [
        "plt.figure(figsize=(12, 6))\n",
        "\n",
        "plt.scatter(ztotal_iops[1], ztotal_lat[1], marker='.', label='Z original', color='red', linewidth=1)\n",
        "plt.scatter(zgen_iops[1], zgen_lat[1], marker='.', label='Gen Z', color='blue', linewidth=1)\n",
        "\n",
        "plt.xlabel(\"x\")\n",
        "plt.ylabel(\"y\")\n",
        "plt.grid()\n",
        "plt.legend()\n",
        "plt.show()"
      ],
      "metadata": {
        "colab": {
          "base_uri": "https://localhost:8080/",
          "height": 482
        },
        "id": "A5X_PPaJar4S",
        "outputId": "d5d4a58e-4df6-4243-86a3-0188c1f1efc2"
      },
      "id": "A5X_PPaJar4S",
      "execution_count": 41,
      "outputs": [
        {
          "output_type": "display_data",
          "data": {
            "text/plain": [
              "<Figure size 1200x600 with 1 Axes>"
            ],
            "image/png": "[encoded data removed]"
          },
          "metadata": {}
        }
      ]
    },
    {
      "cell_type": "code",
      "source": [
        "plt.figure(figsize=(12, 6))\n",
        "\n",
        "plt.scatter(ztotal_iops[2], ztotal_lat[2], marker='.', label='Z original', color='red', linewidth=1)\n",
        "plt.scatter(zgen_iops[2], zgen_lat[2], marker='.', label='Gen Z', color='blue', linewidth=1)\n",
        "\n",
        "plt.xlabel(\"x\")\n",
        "plt.ylabel(\"y\")\n",
        "plt.grid()\n",
        "plt.legend()\n",
        "plt.show()"
      ],
      "metadata": {
        "colab": {
          "base_uri": "https://localhost:8080/",
          "height": 482
        },
        "id": "l-qaL4vJarqH",
        "outputId": "9bbd6ea2-5e03-4921-db40-270a2c49442b"
      },
      "id": "l-qaL4vJarqH",
      "execution_count": 42,
      "outputs": [
        {
          "output_type": "display_data",
          "data": {
            "text/plain": [
              "<Figure size 1200x600 with 1 Axes>"
            ],
            "image/png": "[encoded data removed]"
          },
          "metadata": {}
        }
      ]
    },
    {
      "cell_type": "markdown",
      "source": [
        "проверить типы dataloader' и dtype в тензорах.\n",
        "\n",
        "Done. сделала через даталоадер"
      ],
      "metadata": {
        "id": "-wFqIJeUprAe"
      },
      "id": "-wFqIJeUprAe"
    },
    {
      "cell_type": "markdown",
      "source": [
        "## aaa"
      ],
      "metadata": {
        "id": "E_x63iDoF3ke"
      },
      "id": "E_x63iDoF3ke"
    },
    {
      "cell_type": "markdown",
      "source": [
        "это код когда я просто проверяла модельку, запускать не нада"
      ],
      "metadata": {
        "id": "HQMJAlURNbj4"
      },
      "id": "HQMJAlURNbj4"
    },
    {
      "cell_type": "code",
      "source": [
        "plt.figure(figsize=(12, 6))\n",
        "plt.scatter(y_new[0], y_new[1], marker='.', label='Observations', linewidth=1)\n",
        "\n",
        "plt.xlabel(\"iops\")\n",
        "plt.ylabel(\"lat\")\n",
        "plt.grid()\n",
        "plt.legend()\n",
        "plt.show()"
      ],
      "metadata": {
        "id": "QmPxKrCChSGG"
      },
      "id": "QmPxKrCChSGG",
      "execution_count": null,
      "outputs": []
    },
    {
      "cell_type": "code",
      "source": [
        "results1 = []\n",
        "results2 = []\n",
        "results3 = []\n",
        "numb = 10 # 10\n",
        "\n",
        "for i in range(numb):\n",
        "  print(i)\n",
        "  ids = pd.unique(train[['id']]. values.ravel())\n",
        "  id1 = np.array([np.random.sample() for k in range(len(ids))])\n",
        "  ar = []\n",
        "  for j in range(len(ids)):\n",
        "    if id1[j] <= 0.7:\n",
        "      ar.append(ids[j])\n",
        "  train = train.loc[train['id'].isin(ar)]\n",
        "  scaler = make_pipeline(LogitScaler(eps=0.01), StandardScaler())\n",
        "  y_tr_ss = scaler.fit_transform(train[['iops', 'lat']].values)\n",
        "  y_test_ss = scaler.transform(test[['iops', 'lat']].values)\n",
        "  stscaler = StandardScaler()\n",
        "  X_tr_ss = stscaler.fit_transform(train[['block_size', 'n_jobs', 'iodepth', 'read_fraction', 'io_type_num', 'n_disks']].values)\n",
        "  X_test_ss = stscaler.transform(test[['block_size', 'n_jobs', 'iodepth', 'read_fraction', 'io_type_num', 'n_disks']].values)\n",
        "  # model\n",
        "  model = RealNVP(lr=0.001, n_layers=24, n_epochs=200, batch_size=64) # 200\n",
        "  model.fit(y_tr_ss, X_tr_ss) # (target, condition)\n",
        "  # samples 1\n",
        "  y_test = torch.tensor(test[test['id'] == 'hse-09132022-180712-z63065'][['iops', 'lat']].values)\n",
        "  X_test = torch.tensor(test[test['id'] == 'hse-09132022-180712-z63065'][['block_size', 'n_jobs', 'iodepth', 'read_fraction', 'io_type_num', 'n_disks']].values)\n",
        "  y_gen = model.sample(stscaler.transform(X_test.clone().detach()))\n",
        "  y_gen = scaler.inverse_transform(y_gen)\n",
        "  if i == 0:\n",
        "    results1.append(y_test)\n",
        "  results1.append(y_gen)\n",
        "  # samples 2\n",
        "  y_test_2 = torch.tensor(test[test['id'] == 'hse-09132022-203942-z36542'][['iops', 'lat']].values)\n",
        "  X_test_2 = torch.tensor(test[test['id'] == 'hse-09132022-203942-z36542'][['block_size', 'n_jobs', 'iodepth', 'read_fraction', 'io_type_num', 'n_disks']].values)\n",
        "  y_gen_2 = model.sample(stscaler.transform(X_test_2.clone().detach()))\n",
        "  y_gen_2 = scaler.inverse_transform(y_gen_2)\n",
        "  if i == 0:\n",
        "    results2.append(y_test_2)\n",
        "  results2.append(y_gen_2)\n",
        "  # samples 3\n",
        "  y_test_3 = torch.tensor(test[test['id'] == 'hse-09132022-192053-z87989'][['iops', 'lat']].values)\n",
        "  X_test_3 = torch.tensor(test[test['id'] == 'hse-09132022-192053-z87989'][['block_size', 'n_jobs', 'iodepth', 'read_fraction', 'io_type_num', 'n_disks']].values)\n",
        "  y_gen_3 = model.sample(stscaler.transform(X_test_3.clone().detach()))\n",
        "  y_gen_3 = scaler.inverse_transform(y_gen_3)\n",
        "  if i == 0:\n",
        "    results3.append(y_test_3)\n",
        "  results3.append(y_gen_3)"
      ],
      "metadata": {
        "id": "Xr20CF8XEaDD",
        "colab": {
          "base_uri": "https://localhost:8080/"
        },
        "outputId": "53c13764-c26e-4bb6-fbc1-20cb825398b8"
      },
      "id": "Xr20CF8XEaDD",
      "execution_count": null,
      "outputs": [
        {
          "output_type": "stream",
          "name": "stdout",
          "text": [
            "0\n"
          ]
        },
        {
          "output_type": "stream",
          "name": "stderr",
          "text": [
            "<ipython-input-20-a80eb4482932>:15: RuntimeWarning: invalid value encountered in log\n",
            "  logit = np.log(x_norm/(1-x_norm))\n"
          ]
        },
        {
          "output_type": "stream",
          "name": "stdout",
          "text": [
            "1\n"
          ]
        },
        {
          "output_type": "stream",
          "name": "stderr",
          "text": [
            "<ipython-input-20-a80eb4482932>:15: RuntimeWarning: invalid value encountered in log\n",
            "  logit = np.log(x_norm/(1-x_norm))\n"
          ]
        },
        {
          "output_type": "stream",
          "name": "stdout",
          "text": [
            "2\n"
          ]
        },
        {
          "output_type": "stream",
          "name": "stderr",
          "text": [
            "<ipython-input-20-a80eb4482932>:15: RuntimeWarning: invalid value encountered in log\n",
            "  logit = np.log(x_norm/(1-x_norm))\n"
          ]
        },
        {
          "output_type": "stream",
          "name": "stdout",
          "text": [
            "3\n"
          ]
        },
        {
          "output_type": "stream",
          "name": "stderr",
          "text": [
            "<ipython-input-20-a80eb4482932>:15: RuntimeWarning: invalid value encountered in log\n",
            "  logit = np.log(x_norm/(1-x_norm))\n"
          ]
        }
      ]
    },
    {
      "cell_type": "code",
      "source": [
        "colors = np.array([\"blue\",\"red\",\"green\",\"yellow\",\"pink\",\"black\",\"orange\",\"purple\",\"brown\",\"cyan\",\"magenta\"])"
      ],
      "metadata": {
        "id": "YYP5FM9EJqBB"
      },
      "id": "YYP5FM9EJqBB",
      "execution_count": null,
      "outputs": []
    },
    {
      "cell_type": "code",
      "source": [
        "plt.figure(figsize=(12, 6))\n",
        "\n",
        "plt.scatter(results1[0][:, 0], results1[0][:, 1], marker='.', label='Observations', color=colors[0], linewidth=1)\n",
        "for i in range(1, numb+1):\n",
        "  plt.scatter(results1[i][:, 0], results1[i][:, 1], marker='.', label='Generated with NF', color=colors[i], linewidth=1)\n",
        "\n",
        "plt.xlabel(\"iops\")\n",
        "plt.ylabel(\"lat\")\n",
        "plt.grid()\n",
        "plt.legend()\n",
        "plt.show()"
      ],
      "metadata": {
        "id": "M46amekBIEAk"
      },
      "id": "M46amekBIEAk",
      "execution_count": null,
      "outputs": []
    },
    {
      "cell_type": "code",
      "source": [
        "plt.figure(figsize=(12, 6))\n",
        "\n",
        "plt.scatter(results2[0][:, 0], results2[0][:, 1], marker='.', label='Observations', color=colors[0], linewidth=1)\n",
        "for i in range(1, numb+1):\n",
        "  plt.scatter(results2[i][:, 0], results2[i][:, 1], marker='.', label='Generated with NF', color=colors[i], linewidth=1)\n",
        "\n",
        "plt.xlabel(\"iops\")\n",
        "plt.ylabel(\"lat\")\n",
        "plt.grid()\n",
        "plt.legend()\n",
        "plt.show()"
      ],
      "metadata": {
        "id": "UX_Xe9w-I_Ix"
      },
      "id": "UX_Xe9w-I_Ix",
      "execution_count": null,
      "outputs": []
    },
    {
      "cell_type": "code",
      "source": [
        "plt.figure(figsize=(12, 6))\n",
        "\n",
        "plt.scatter(results3[0][:, 0], results3[0][:, 1], marker='.', label='Observations', color=colors[0], linewidth=1)\n",
        "for i in range(1, numb+1):\n",
        "  plt.scatter(results3[i][:, 0], results3[i][:, 1], marker='.', label='Generated with NF', color=colors[i], linewidth=1)\n",
        "\n",
        "plt.xlabel(\"iops\")\n",
        "plt.ylabel(\"lat\")\n",
        "plt.grid()\n",
        "plt.legend()\n",
        "plt.show()"
      ],
      "metadata": {
        "id": "-CCz2a4zJCpP"
      },
      "id": "-CCz2a4zJCpP",
      "execution_count": null,
      "outputs": []
    }
  ],
  "metadata": {
    "kernelspec": {
      "display_name": "Python 3",
      "name": "python3"
    },
    "language_info": {
      "codemirror_mode": {
        "name": "ipython",
        "version": 3
      },
      "file_extension": ".py",
      "mimetype": "text/x-python",
      "name": "python",
      "nbconvert_exporter": "python",
      "pygments_lexer": "ipython3",
      "version": "3.9.17"
    },
    "colab": {
      "provenance": [],
      "collapsed_sections": [
        "e3de7c62-a3f5-4bca-ae02-e7f982bb63ae",
        "d62877b2-8cc1-41cf-b28c-f614cab1cd30",
        "Pi6CugtwObG6",
        "E_x63iDoF3ke"
      ]
    }
  },
  "nbformat": 4,
  "nbformat_minor": 5
}